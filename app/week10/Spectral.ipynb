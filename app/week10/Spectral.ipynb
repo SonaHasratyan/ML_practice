{
 "cells": [
  {
   "cell_type": "code",
   "execution_count": 1,
   "id": "9fb3315c",
   "metadata": {
    "ExecuteTime": {
     "start_time": "2023-05-13T11:28:13.389757Z",
     "end_time": "2023-05-13T11:28:13.810008Z"
    }
   },
   "outputs": [],
   "source": [
    "import numpy as np\n",
    "from scipy.sparse.linalg import eigsh\n",
    "from sklearn.cluster import KMeans\n",
    "\n",
    "class SpectralClustering:\n",
    "    def __init__(self, n_clusters, sigma=1):\n",
    "        self.n_clusters = n_clusters\n",
    "        self.sigma = sigma\n",
    "    \n",
    "    def fit_predict(self, X):\n",
    "        n_samples = X.shape[0]\n",
    "        \n",
    "        # compute pairwise distances\n",
    "        pairwise_dists = np.zeros((n_samples, n_samples))\n",
    "        for i in range(n_samples):\n",
    "            for j in range(i, n_samples):\n",
    "                d = np.linalg.norm(X[i] - X[j])\n",
    "                pairwise_dists[i,j] = d\n",
    "                pairwise_dists[j,i] = d\n",
    "        \n",
    "        # compute similarity matrix\n",
    "        W = np.exp(-pairwise_dists**2 / (2*self.sigma**2))\n",
    "        \n",
    "        # compute degree matrix\n",
    "        D = np.diag(np.sum(W, axis=1))\n",
    "        \n",
    "        # compute Laplacian matrix\n",
    "        L = D - W\n",
    "#         D_sqrt = np.sqrt(np.linalg.inv(D))\n",
    "#         L = np.dot(np.dot(D_sqrt, (D - W)), D_sqrt)\n",
    "                \n",
    "        # compute eigenvectors and eigenvalues of Laplacian matrix\n",
    "        eigvals, eigvecs = eigsh(L, k=self.n_clusters+1, which='SM')\n",
    "        eigvecs = eigvecs[:,1:]  # discard first eigenvector\n",
    "\n",
    "        # run K-means on normalized eigenvectors\n",
    "        kmeans = KMeans(n_clusters=self.n_clusters, random_state=42)\n",
    "        labels = kmeans.fit_predict(eigvecs)\n",
    "        \n",
    "        return labels"
   ]
  },
  {
   "cell_type": "code",
   "execution_count": 34,
   "id": "d7c74286",
   "metadata": {},
   "outputs": [
    {
     "data": {
      "text/plain": [
       "(array([4.59890849e-13, 6.20029724e-12, 1.50120297e-11, 4.47773448e-11,\n",
       "        4.63063588e-11, 6.82326703e-11, 1.14324090e-10, 1.68245989e-10,\n",
       "        3.20494702e-10, 6.84349523e-10, 7.59971068e-10, 7.65173352e-10,\n",
       "        7.88830126e-10, 1.48858432e-09, 1.56988841e-09, 1.70142651e-09,\n",
       "        1.93914664e-09, 3.26956059e-09, 3.29139304e-09, 4.20504652e-09,\n",
       "        4.33897659e-09, 4.83336307e-09, 9.70444754e-09, 1.03712086e-08,\n",
       "        1.13271131e-08, 1.54080951e-08, 1.60363399e-08, 2.19278103e-08,\n",
       "        2.91678663e-08, 3.20784373e-08, 3.69720563e-08, 4.38325013e-08,\n",
       "        5.26255291e-08, 6.56246729e-08, 7.33276553e-08, 1.12574123e-07,\n",
       "        1.32704386e-07, 1.80030425e-07, 2.10487053e-07, 2.17629885e-07,\n",
       "        2.19297532e-07, 2.57991128e-07, 2.64895723e-07, 2.92303530e-07,\n",
       "        4.03437114e-07, 5.29798352e-07, 5.75697847e-07, 6.87394474e-07,\n",
       "        8.28697276e-07, 8.38995324e-07, 1.21493579e-06, 1.38253717e-06,\n",
       "        1.54727578e-06, 1.57968937e-06, 1.79414077e-06, 2.41183051e-06,\n",
       "        2.72210514e-06, 2.79144463e-06, 4.02226813e-06, 4.14756489e-06,\n",
       "        4.41402745e-06, 6.82531507e-06, 7.01991775e-06, 7.88102460e-06,\n",
       "        8.37662393e-06, 1.17176693e-05, 1.23315433e-05, 1.35406669e-05,\n",
       "        1.47939106e-05, 1.52430007e-05, 1.78192639e-05, 1.79841239e-05,\n",
       "        2.57910665e-05, 2.83685426e-05, 3.69569388e-05, 4.13584421e-05,\n",
       "        5.15228814e-05, 5.18395533e-05, 6.86203468e-05, 7.62185391e-05,\n",
       "        7.99393405e-05, 8.93883677e-05, 1.24042792e-04, 1.25961090e-04,\n",
       "        1.36469554e-04, 1.45053144e-04, 1.50212752e-04, 1.68839589e-04,\n",
       "        1.79867936e-04, 2.35084635e-04, 2.42502947e-04, 2.44976072e-04,\n",
       "        2.69745581e-04, 3.02234045e-04, 3.30164647e-04, 4.42469510e-04,\n",
       "        5.57621713e-04, 5.76577714e-04, 5.84524951e-04, 7.61299328e-04,\n",
       "        7.93919127e-04, 8.58030264e-04, 1.31634727e-03, 1.40747672e-03,\n",
       "        1.43012551e-03, 1.57724563e-03, 1.60300689e-03, 1.71732092e-03,\n",
       "        1.83103188e-03, 2.35865020e-03, 2.55050275e-03, 3.01192681e-03,\n",
       "        3.01499789e-03, 3.39683713e-03, 4.35644534e-03, 4.82003327e-03,\n",
       "        5.05399096e-03, 5.42115201e-03, 7.30657531e-03, 8.96400737e-03,\n",
       "        9.95517422e-03, 1.04695269e-02, 1.23649081e-02, 1.27240926e-02,\n",
       "        1.42594370e-02, 1.49124262e-02, 1.56855062e-02, 1.75334601e-02,\n",
       "        1.79568513e-02, 2.42054741e-02, 2.42124728e-02, 2.49839325e-02,\n",
       "        2.86687822e-02, 2.87065640e-02, 3.19826816e-02, 3.97674798e-02,\n",
       "        4.46218017e-02, 5.14766407e-02, 5.43678112e-02, 6.01809374e-02,\n",
       "        6.33428257e-02, 8.07733141e-02, 8.11194425e-02, 8.77950822e-02,\n",
       "        1.01095974e-01, 1.03023089e-01, 1.06831974e-01, 1.14263200e-01,\n",
       "        1.43556296e-01, 1.46433204e-01, 1.68555293e-01, 2.08226659e-01,\n",
       "        2.32964647e-01, 2.52891215e-01, 2.61258619e-01, 3.03266023e-01,\n",
       "        3.15874169e-01, 3.29471522e-01, 3.30141748e-01, 3.64984628e-01,\n",
       "        4.47667371e-01, 5.16776011e-01, 5.65239340e-01, 5.72358562e-01,\n",
       "        6.27101244e-01, 6.39314723e-01, 6.79958512e-01, 7.51390233e-01,\n",
       "        7.66154092e-01, 7.79420476e-01, 1.02300508e+00, 1.14917733e+00,\n",
       "        1.18076928e+00, 1.23561554e+00, 1.38029991e+00, 1.40046257e+00,\n",
       "        1.49960886e+00, 1.61125567e+00, 1.66762107e+00, 1.71852867e+00,\n",
       "        1.91099471e+00, 1.91633679e+00, 2.61963719e+00, 2.82154057e+00,\n",
       "        3.29342832e+00, 3.71432599e+00, 4.01787182e+00, 4.12048016e+00,\n",
       "        4.47216958e+00, 4.59575845e+00, 5.41834580e+00, 8.04997373e+00,\n",
       "        8.74614743e+00, 9.04366084e+00, 1.13152161e+01, 1.17413429e+01,\n",
       "        1.17758046e+01, 2.36295964e+01, 2.43998100e+01, 2.77818441e+01]),\n",
       " array([[-7.35839465e-01, -1.21245226e-01, -2.11240583e-02, ...,\n",
       "         -4.42699975e-08, -5.03514127e-22, -1.63188103e-01],\n",
       "        [-3.14846482e-10, -1.42579396e-10, -5.71458495e-10, ...,\n",
       "          2.43536376e-02,  1.47598452e-16, -3.85811150e-09],\n",
       "        [-1.28378873e-03,  1.93404420e-03,  4.47054360e-03, ...,\n",
       "         -5.58945073e-08,  4.64853134e-17, -1.18402920e-01],\n",
       "        ...,\n",
       "        [ 1.67490795e-07, -2.13063877e-07, -4.43687729e-07, ...,\n",
       "          6.91199608e-02,  5.43495941e-16, -1.44299949e-08],\n",
       "        [-7.43436290e-10,  3.63056029e-09,  1.52022484e-09, ...,\n",
       "         -5.34123226e-16,  1.52908947e-01,  1.01206045e-18],\n",
       "        [-2.24852475e-05, -8.56887496e-04, -7.49143002e-04, ...,\n",
       "          5.56567237e-09, -1.26873135e-17, -9.64832821e-02]]))"
      ]
     },
     "execution_count": 34,
     "metadata": {},
     "output_type": "execute_result"
    }
   ],
   "source": [
    "# np.linalg.eigh(spectral.W)"
   ]
  },
  {
   "cell_type": "code",
   "execution_count": 26,
   "id": "51bcba84",
   "metadata": {},
   "outputs": [
    {
     "data": {
      "image/png": "[encoded data removed]",
      "text/plain": [
       "<Figure size 432x288 with 1 Axes>"
      ]
     },
     "metadata": {
      "needs_background": "light"
     },
     "output_type": "display_data"
    }
   ],
   "source": [
    "# generate sample data\n",
    "from sklearn.datasets import make_blobs\n",
    "X, _ = make_blobs(n_samples=200, centers=3, random_state=41)\n",
    "\n",
    "# run Spectral Clustering\n",
    "spectral = SpectralClustering(n_clusters=3, sigma=1)\n",
    "labels = spectral.fit_predict(X)\n",
    "\n",
    "# visualize clusters\n",
    "import matplotlib.pyplot as plt\n",
    "plt.scatter(X[:,0], X[:,1], c=labels, cmap='viridis')\n",
    "plt.show()"
   ]
  },
  {
   "cell_type": "code",
   "execution_count": null,
   "id": "5df6314b",
   "metadata": {
    "pycharm": {
     "is_executing": true
    }
   },
   "outputs": [],
   "source": []
  },
  {
   "cell_type": "code",
   "execution_count": null,
   "outputs": [],
   "source": [],
   "metadata": {
    "collapsed": false
   }
  }
 ],
 "metadata": {
  "kernelspec": {
   "display_name": "Python 3 (ipykernel)",
   "language": "python",
   "name": "python3"
  },
  "language_info": {
   "codemirror_mode": {
    "name": "ipython",
    "version": 3
   },
   "file_extension": ".py",
   "mimetype": "text/x-python",
   "name": "python",
   "nbconvert_exporter": "python",
   "pygments_lexer": "ipython3",
   "version": "3.9.12"
  }
 },
 "nbformat": 4,
 "nbformat_minor": 5
}
