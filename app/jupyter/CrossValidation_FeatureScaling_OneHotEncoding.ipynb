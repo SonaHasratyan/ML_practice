{
 "cells": [
  {
   "cell_type": "code",
   "execution_count": 19,
   "metadata": {},
   "outputs": [],
   "source": [
    "# pip install sklearn"
   ]
  },
  {
   "cell_type": "code",
   "execution_count": 20,
   "metadata": {},
   "outputs": [],
   "source": [
    "import pandas as pd\n",
    "from sklearn import datasets, linear_model\n",
    "from sklearn.model_selection import train_test_split\n",
    "from matplotlib import pyplot as plt\n",
    "from sklearn.metrics import mean_squared_error"
   ]
  },
  {
   "cell_type": "code",
   "execution_count": 21,
   "metadata": {},
   "outputs": [],
   "source": [
    "# Load the Diabetes dataset\n",
    "columns = 'age sex bmi map tc ldl hdl tch ltg glu'.split() # Declare the columns names\n",
    "diabetes = datasets.load_diabetes() # Call the diabetes dataset from sklearn\n",
    "df = pd.DataFrame(diabetes.data, columns=columns) # load the dataset as a pandas data frame\n",
    "y = diabetes.target # define the target variable (dependent variable) as y"
   ]
  },
  {
   "cell_type": "code",
   "execution_count": 22,
   "metadata": {},
   "outputs": [
    {
     "data": {
      "text/plain": "        age       sex       bmi       map        tc       ldl       hdl  \\\n0  0.038076  0.050680  0.061696  0.021872 -0.044223 -0.034821 -0.043401   \n1 -0.001882 -0.044642 -0.051474 -0.026328 -0.008449 -0.019163  0.074412   \n2  0.085299  0.050680  0.044451 -0.005670 -0.045599 -0.034194 -0.032356   \n3 -0.089063 -0.044642 -0.011595 -0.036656  0.012191  0.024991 -0.036038   \n4  0.005383 -0.044642 -0.036385  0.021872  0.003935  0.015596  0.008142   \n\n        tch       ltg       glu  \n0 -0.002592  0.019907 -0.017646  \n1 -0.039493 -0.068332 -0.092204  \n2 -0.002592  0.002861 -0.025930  \n3  0.034309  0.022688 -0.009362  \n4 -0.002592 -0.031988 -0.046641  ",
      "text/html": "<div>\n<style scoped>\n    .dataframe tbody tr th:only-of-type {\n        vertical-align: middle;\n    }\n\n    .dataframe tbody tr th {\n        vertical-align: top;\n    }\n\n    .dataframe thead th {\n        text-align: right;\n    }\n</style>\n<table border=\"1\" class=\"dataframe\">\n  <thead>\n    <tr style=\"text-align: right;\">\n      <th></th>\n      <th>age</th>\n      <th>sex</th>\n      <th>bmi</th>\n      <th>map</th>\n      <th>tc</th>\n      <th>ldl</th>\n      <th>hdl</th>\n      <th>tch</th>\n      <th>ltg</th>\n      <th>glu</th>\n    </tr>\n  </thead>\n  <tbody>\n    <tr>\n      <th>0</th>\n      <td>0.038076</td>\n      <td>0.050680</td>\n      <td>0.061696</td>\n      <td>0.021872</td>\n      <td>-0.044223</td>\n      <td>-0.034821</td>\n      <td>-0.043401</td>\n      <td>-0.002592</td>\n      <td>0.019907</td>\n      <td>-0.017646</td>\n    </tr>\n    <tr>\n      <th>1</th>\n      <td>-0.001882</td>\n      <td>-0.044642</td>\n      <td>-0.051474</td>\n      <td>-0.026328</td>\n      <td>-0.008449</td>\n      <td>-0.019163</td>\n      <td>0.074412</td>\n      <td>-0.039493</td>\n      <td>-0.068332</td>\n      <td>-0.092204</td>\n    </tr>\n    <tr>\n      <th>2</th>\n      <td>0.085299</td>\n      <td>0.050680</td>\n      <td>0.044451</td>\n      <td>-0.005670</td>\n      <td>-0.045599</td>\n      <td>-0.034194</td>\n      <td>-0.032356</td>\n      <td>-0.002592</td>\n      <td>0.002861</td>\n      <td>-0.025930</td>\n    </tr>\n    <tr>\n      <th>3</th>\n      <td>-0.089063</td>\n      <td>-0.044642</td>\n      <td>-0.011595</td>\n      <td>-0.036656</td>\n      <td>0.012191</td>\n      <td>0.024991</td>\n      <td>-0.036038</td>\n      <td>0.034309</td>\n      <td>0.022688</td>\n      <td>-0.009362</td>\n    </tr>\n    <tr>\n      <th>4</th>\n      <td>0.005383</td>\n      <td>-0.044642</td>\n      <td>-0.036385</td>\n      <td>0.021872</td>\n      <td>0.003935</td>\n      <td>0.015596</td>\n      <td>0.008142</td>\n      <td>-0.002592</td>\n      <td>-0.031988</td>\n      <td>-0.046641</td>\n    </tr>\n  </tbody>\n</table>\n</div>"
     },
     "execution_count": 22,
     "metadata": {},
     "output_type": "execute_result"
    }
   ],
   "source": [
    "df.head()"
   ]
  },
  {
   "cell_type": "code",
   "execution_count": 23,
   "metadata": {},
   "outputs": [
    {
     "data": {
      "text/plain": "array([151.,  75., 141., 206., 135.])"
     },
     "execution_count": 23,
     "metadata": {},
     "output_type": "execute_result"
    }
   ],
   "source": [
    "y[:5]"
   ]
  },
  {
   "cell_type": "code",
   "execution_count": 24,
   "metadata": {},
   "outputs": [
    {
     "name": "stdout",
     "output_type": "stream",
     "text": [
      "(353, 10) (353,)\n",
      "(89, 10) (89,)\n"
     ]
    }
   ],
   "source": [
    "# create training and testing vars\n",
    "X_train, X_test, y_train, y_test = train_test_split(df, y, test_size=0.2)\n",
    "print (X_train.shape, y_train.shape)\n",
    "print (X_test.shape, y_test.shape)"
   ]
  },
  {
   "cell_type": "code",
   "execution_count": 25,
   "metadata": {},
   "outputs": [],
   "source": [
    "# fit a model\n",
    "lm = linear_model.LinearRegression()\n",
    "model = lm.fit(X_train, y_train)\n",
    "predictions = lm.predict(X_test)"
   ]
  },
  {
   "cell_type": "code",
   "execution_count": 26,
   "metadata": {},
   "outputs": [
    {
     "data": {
      "text/plain": "array([ 59.86519623,  60.8659135 , 107.23961054, 184.19068748,\n       121.07968517])"
     },
     "execution_count": 26,
     "metadata": {},
     "output_type": "execute_result"
    }
   ],
   "source": [
    "predictions[0:5]"
   ]
  },
  {
   "cell_type": "code",
   "execution_count": 27,
   "metadata": {},
   "outputs": [
    {
     "data": {
      "text/plain": "Text(0, 0.5, 'Predictions')"
     },
     "execution_count": 27,
     "metadata": {},
     "output_type": "execute_result"
    },
    {
     "data": {
      "text/plain": "<Figure size 432x288 with 1 Axes>",
      "image/png": "[encoded data removed]"
     },
     "metadata": {
      "needs_background": "light"
     },
     "output_type": "display_data"
    }
   ],
   "source": [
    "## The line / model\n",
    "plt.scatter(y_test, predictions)\n",
    "plt.xlabel('True Values')\n",
    "plt.ylabel('Predictions')"
   ]
  },
  {
   "cell_type": "code",
   "execution_count": 28,
   "metadata": {},
   "outputs": [],
   "source": [
    "import numpy as np"
   ]
  },
  {
   "cell_type": "code",
   "execution_count": 29,
   "metadata": {},
   "outputs": [
    {
     "name": "stdout",
     "output_type": "stream",
     "text": [
      "Test RMSE: 53.41272362590767\n",
      "Train RMSE: 53.69607873484818\n"
     ]
    }
   ],
   "source": [
    "print ('Test RMSE:', np.sqrt(mean_squared_error(predictions, y_test)))\n",
    "print ('Train RMSE:', np.sqrt(mean_squared_error(lm.predict(X_train), y_train)))"
   ]
  },
  {
   "cell_type": "markdown",
   "metadata": {},
   "source": [
    "# Cross Validation"
   ]
  },
  {
   "cell_type": "code",
   "execution_count": 30,
   "metadata": {},
   "outputs": [
    {
     "data": {
      "text/plain": "2"
     },
     "execution_count": 30,
     "metadata": {},
     "output_type": "execute_result"
    }
   ],
   "source": [
    "from sklearn.model_selection import KFold # import KFold\n",
    "X = np.array([[1, 2], [3, 4], [1, 2], [3, 4]]) # create an array\n",
    "y = np.array([1, 2, 3, 4]) # Create another array\n",
    "kf = KFold(n_splits=2) # Define the split - into 2 folds \n",
    "kf.get_n_splits(X) # returns the number of splitting iterations in the cross-validator"
   ]
  },
  {
   "cell_type": "code",
   "execution_count": 31,
   "metadata": {},
   "outputs": [
    {
     "name": "stdout",
     "output_type": "stream",
     "text": [
      "KFold(n_splits=2, random_state=None, shuffle=False)\n"
     ]
    }
   ],
   "source": [
    "print(kf)"
   ]
  },
  {
   "cell_type": "code",
   "execution_count": 32,
   "metadata": {},
   "outputs": [
    {
     "name": "stdout",
     "output_type": "stream",
     "text": [
      "TRAIN: [2 3] TEST: [0 1]\n",
      "TRAIN: [0 1] TEST: [2 3]\n"
     ]
    }
   ],
   "source": [
    "for train_index, test_index in kf.split(X):\n",
    "    print('TRAIN:', train_index, 'TEST:', test_index)\n",
    "    X_train, X_test = X[train_index], X[test_index]\n",
    "    y_train, y_test = y[train_index], y[test_index]"
   ]
  },
  {
   "cell_type": "markdown",
   "metadata": {},
   "source": [
    "### LOOCV"
   ]
  },
  {
   "cell_type": "code",
   "execution_count": 33,
   "metadata": {},
   "outputs": [
    {
     "name": "stdout",
     "output_type": "stream",
     "text": [
      "TRAIN: [1 2 3] TEST: [0]\n",
      "TRAIN: [0 2 3] TEST: [1]\n",
      "TRAIN: [0 1 3] TEST: [2]\n",
      "TRAIN: [0 1 2] TEST: [3]\n"
     ]
    }
   ],
   "source": [
    "from sklearn.model_selection import LeaveOneOut \n",
    "X = np.array([[1, 2], [3, 4], [1, 2], [3, 4]]) # create an array\n",
    "y = np.array([1, 2, 3, 4]) # Create another array\n",
    "loo = LeaveOneOut()\n",
    "loo.get_n_splits(X)\n",
    "\n",
    "\n",
    "for train_index, test_index in loo.split(X):\n",
    "    print('TRAIN:', train_index, 'TEST:', test_index)\n",
    "    X_train, X_test = X[train_index], X[test_index]\n",
    "    y_train, y_test = y[train_index], y[test_index]"
   ]
  },
  {
   "cell_type": "code",
   "execution_count": 34,
   "metadata": {},
   "outputs": [],
   "source": [
    "from sklearn.model_selection import cross_val_score, cross_val_predict\n",
    "from sklearn import metrics"
   ]
  },
  {
   "cell_type": "code",
   "execution_count": 35,
   "metadata": {},
   "outputs": [
    {
     "name": "stdout",
     "output_type": "stream",
     "text": [
      "Cross-validated scores: [0.45548694 0.46138022 0.40094331 0.55220826 0.43941841 0.56923477]\n"
     ]
    }
   ],
   "source": [
    "# Perform 6-fold cross validation\n",
    "y = diabetes.target # define the target variable (dependent variable) as y\n",
    "\n",
    "# has scoring for geting a function instead of R2 ...\n",
    "scores = cross_val_score(model, df, y, cv=6)\n",
    "print ('Cross-validated scores:', scores)"
   ]
  },
  {
   "cell_type": "code",
   "execution_count": 36,
   "metadata": {},
   "outputs": [
    {
     "data": {
      "text/plain": "<matplotlib.collections.PathCollection at 0x7fcdbd3b2ee0>"
     },
     "execution_count": 36,
     "metadata": {},
     "output_type": "execute_result"
    },
    {
     "data": {
      "text/plain": "<Figure size 432x288 with 1 Axes>",
      "image/png": "[encoded data removed]"
     },
     "metadata": {
      "needs_background": "light"
     },
     "output_type": "display_data"
    }
   ],
   "source": [
    "# Make cross validated predictions\n",
    "predictions = cross_val_predict(model, df, y, cv=10)\n",
    "plt.scatter(y, predictions)"
   ]
  },
  {
   "cell_type": "code",
   "execution_count": 37,
   "metadata": {},
   "outputs": [
    {
     "data": {
      "text/plain": "array([204.74070666,  66.83160114, 175.60380801, 165.81819524,\n       128.83667082, 103.06142355,  77.5027185 , 125.41937649,\n       161.76409613, 209.59074316,  98.58316048, 102.25371483,\n       114.30937876, 161.82198048, 100.50344914, 176.55405999,\n       206.58907978, 184.35515374, 147.83016413, 121.98478321,\n       119.64308071,  89.72382166, 117.35357098, 251.99477052,\n       164.0176025 , 146.86958626,  95.41599801, 178.88382566,\n       127.20259633, 179.54771253, 159.81819066,  67.84426825,\n       259.66011891, 105.57274523,  78.43552002,  83.11457912,\n       203.1063774 , 154.06469746, 240.74270881, 137.17941026,\n       158.32375928,  72.81408347, 145.48083736,  78.96262521,\n       218.96391315, 125.73258404, 141.3148845 , 107.95369672,\n        72.54494649, 192.84552007, 157.23820324, 171.00379528,\n       134.06295002, 158.09470573, 139.10228036,  71.70983504,\n       208.28707533,  77.67773472, 102.08159383, 135.69891125,\n       113.41761822, 184.40143104,  61.37629689,  96.75867329,\n       115.13607836, 192.95716128, 152.17212343, 125.92363048,\n       116.54826632, 120.94484751,  72.83111775, 237.8066431 ,\n       140.93727087, 126.32428222, 153.94781223, 130.33907555,\n       194.0225646 ,  76.22427678, 164.47736443,  90.0184124 ,\n       173.63785573, 124.91465463,  60.09992443, 151.50990229,\n        49.49055126, 163.90759798,  42.25196234, 151.03127608,\n        83.92545862, 106.97780669,  76.56645262, 188.10333523,\n       192.9406717 ,  57.85931658, 106.72323017, 117.79494442,\n       210.93370197, 209.4802732 , 123.90573409, 141.18636955,\n       168.12008292, 106.5507227 , 143.85313728, 161.4012083 ,\n       151.24865046, 116.22251665,  66.2549892 , 155.66060592,\n       231.36965496, 141.04877408,  35.00165008, 123.82080697,\n       145.94797666, 205.77545933, 291.26268828, 190.91995554,\n       218.83329356, 233.56938712, 159.69764805, 150.17298786,\n       153.43772226, 203.77161659, 222.45914592, 178.49606501,\n       168.72670295, 185.8402932 ,  48.12553732, 115.29133422,\n        89.03111561, 207.21212154, 241.47567599,  62.46253207,\n       110.48606369,  64.20539859, 142.7437259 , 235.60180547,\n        62.36435139, 234.61569904, 249.58449372, 252.82900516,\n       155.38573172, 221.89309241, 172.27887818, 119.10878002,\n       174.48263745, 240.74735771, 188.9045466 , 226.7558021 ,\n       115.0866854 , 176.78920661, 208.18420386, 143.95797131,\n       195.35996179, 121.86530514, 149.33107098, 198.50576777,\n       147.83083052, 123.31890115,  88.33091236, 237.37628796,\n        86.12526747, 230.79266224, 143.14057595, 193.68390347,\n       144.37506963,  77.56812076,  64.18083022, 259.84060484,\n       218.85368886, 230.54019516,  47.34428263,  90.76190366,\n       218.72637387,  99.7905788 , 162.80110305, 120.27102162,\n       156.05957832, 220.59117555,  98.29094106, 168.85871725,\n       182.71632859,  89.61029102, 173.87949072, 160.53203628,\n       203.38283751, 191.48839989, 200.20884836,  67.41180287,\n       157.34288617, 118.0903672 , 199.17597808, 130.06803722,\n        92.04796518, 140.78279256, 159.99247435, 170.75287285,\n        98.77648671, 192.31670442, 142.74606803, 181.11857845,\n        94.65020238,  68.61031396, 166.83154725, 200.08232831,\n       177.03053134, 232.50853066, 161.43881937, 215.37740033,\n       223.4536451 , 175.29221857, 126.63412794, 175.30185095,\n       153.35046292,  99.98625873,  98.99440721, 264.62899407,\n       224.48322765, 224.45129358, 136.34505423, 149.25919828,\n        51.06462744, 145.41835733, 150.76607213, 123.09210668,\n        77.41998272, 228.16560525,  74.86985504, 107.11775176,\n       118.51065682,  95.39520966, 159.83775122, 162.63009373,\n       157.31653689, 145.16583533, 231.30021674, 177.81463481,\n       190.78957467,  69.7719962 , 193.64579585, 179.39562761,\n       233.24705799, 117.74509091,  80.39723316, 102.38861877,\n       133.44053043, 105.09569647, 124.45910059,  85.55339925,\n       235.35738021, 244.18987966, 263.35579859, 268.97787792,\n       181.45231555, 205.72471389, 247.61713476, 121.576672  ,\n       261.9806417 , 104.90044228, 118.20149232, 144.66989334,\n        60.44526359, 136.0956542 , 258.99714938,  41.52852628,\n       120.9600239 , 127.30683593,  39.5888838 , 132.30486058,\n       242.31959411,  89.34662367, 194.28155569, 162.91724464,\n       146.19629152, 184.97428221, 173.23472579, 162.38006113,\n       179.34761909, 121.35904618, 110.24447169, 116.13452541,\n       164.82775432, 106.38237865, 129.38497932,  83.05988843,\n       157.4494208 , 199.02931846,  89.45621698, 135.45993278,\n        70.73324567, 193.35346237, 218.84747689, 191.20640887,\n        93.47278326, 177.71125859,  76.49692805, 158.06342428,\n        70.3013836 ,  94.80564654, 109.78173873, 124.02225328,\n       219.28485898, 125.45473446, 203.22023994, 220.24081935,\n       111.63334727, 135.01899933, 125.60827829, 146.58264686,\n        87.42940578, 139.42591287, 205.1265298 , 174.57645032,\n       122.32105687, 215.59766715, 175.72651188, 111.28040229,\n       201.41803262, 173.9196775 , 164.69558227, 196.83031689,\n       193.68544195, 290.85833722, 289.91200495, 224.16925382,\n       213.46690746, 222.7384797 , 157.14751132, 226.7650394 ,\n       191.91114596, 102.22819447, 177.15149077, 109.75732932,\n       294.60481303, 181.79418041,  76.40690307,  85.97165725,\n       256.05199657, 172.49186232, 120.47010323, 149.06295429,\n       168.79576209, 181.79495346, 161.29591593, 156.948821  ,\n       144.70942499, 124.46165409, 178.50225573, 103.87500808,\n       134.06607785,  90.67711523, 253.83085245,  83.87004089,\n        62.38311869, 166.47099203, 193.35127743, 131.92580244,\n        92.75138587, 204.02888052,  52.39280468, 172.07134834,\n       196.045156  , 117.32331239, 233.38614865, 163.98013532,\n       157.59854126, 161.74839654, 253.62228579, 255.91379516,\n       198.27590956, 183.18351672,  58.0959739 , 199.17230144,\n       109.35273996, 141.99258959, 130.4228616 , 178.84658717,\n       210.83692891, 167.82370745, 163.74630772, 135.60091394,\n       174.06042578,  74.59529128, 251.03128664, 113.43232708,\n       111.98275054, 138.78205093, 109.09210688,  91.09999742,\n       163.09300791,  74.94365403, 256.54429121,  53.12369911,\n        95.98524981, 101.00542899, 264.13777409, 171.73435018,\n        60.65436025, 183.11219868, 167.64608195, 187.43291915,\n       186.36490199,  90.74835658, 152.50924687, 249.88441734,\n       198.16831619, 280.34119403,  50.21738588, 176.61516911,\n       201.67106664, 172.26879669, 154.23290025, 151.71944896,\n       234.78738451, 123.09769498, 165.10880591, 174.66940309,\n       226.70278145, 152.30809399, 100.76890348,  84.49193202,\n       144.29801026, 191.87207039, 194.85947586, 153.33428969,\n       172.79304024, 111.41036834, 164.08878096, 132.29710967,\n       258.80430364, 100.23071008, 117.22651404, 123.30339286,\n       219.57395915,  63.47487592, 133.23265897, 120.66883617,\n        53.76527399, 190.80798778, 104.81801835, 123.80808239,\n       209.09798676,  55.41202987])"
     },
     "execution_count": 37,
     "metadata": {},
     "output_type": "execute_result"
    }
   ],
   "source": [
    "predictions"
   ]
  },
  {
   "cell_type": "code",
   "execution_count": 38,
   "metadata": {},
   "outputs": [
    {
     "data": {
      "text/plain": "54.76350523390499"
     },
     "execution_count": 38,
     "metadata": {},
     "output_type": "execute_result"
    }
   ],
   "source": [
    "np.sqrt(mean_squared_error(y,predictions))"
   ]
  },
  {
   "cell_type": "markdown",
   "metadata": {},
   "source": [
    "# Feature Scaling"
   ]
  },
  {
   "cell_type": "code",
   "execution_count": 39,
   "metadata": {
    "scrolled": true
   },
   "outputs": [
    {
     "data": {
      "text/plain": "                Name  Age Nationality  Overall  Potential  \\\n0           L. Messi   31   Argentina       94         94   \n1  Cristiano Ronaldo   33    Portugal       94         94   \n2          Neymar Jr   26      Brazil       92         93   \n3             De Gea   27       Spain       91         93   \n4       K. De Bruyne   27     Belgium       91         92   \n\n                  Club        Value   Wage Position  Jersey Number  \\\n0         FC Barcelona  110500000.0  €565K       RF           10.0   \n1             Juventus   77000000.0  €405K       ST            7.0   \n2  Paris Saint-Germain  118500000.0  €290K       LW           10.0   \n3    Manchester United   72000000.0  €260K       GK            1.0   \n4      Manchester City  102000000.0  €355K      RCM            7.0   \n\n  Contract Valid Until Height  Weight  \n0                 2021    5'7  159lbs  \n1                 2022    6'2  183lbs  \n2                 2022    5'9  150lbs  \n3                 2020    6'4  168lbs  \n4                 2023   5'11  154lbs  ",
      "text/html": "<div>\n<style scoped>\n    .dataframe tbody tr th:only-of-type {\n        vertical-align: middle;\n    }\n\n    .dataframe tbody tr th {\n        vertical-align: top;\n    }\n\n    .dataframe thead th {\n        text-align: right;\n    }\n</style>\n<table border=\"1\" class=\"dataframe\">\n  <thead>\n    <tr style=\"text-align: right;\">\n      <th></th>\n      <th>Name</th>\n      <th>Age</th>\n      <th>Nationality</th>\n      <th>Overall</th>\n      <th>Potential</th>\n      <th>Club</th>\n      <th>Value</th>\n      <th>Wage</th>\n      <th>Position</th>\n      <th>Jersey Number</th>\n      <th>Contract Valid Until</th>\n      <th>Height</th>\n      <th>Weight</th>\n    </tr>\n  </thead>\n  <tbody>\n    <tr>\n      <th>0</th>\n      <td>L. Messi</td>\n      <td>31</td>\n      <td>Argentina</td>\n      <td>94</td>\n      <td>94</td>\n      <td>FC Barcelona</td>\n      <td>110500000.0</td>\n      <td>€565K</td>\n      <td>RF</td>\n      <td>10.0</td>\n      <td>2021</td>\n      <td>5'7</td>\n      <td>159lbs</td>\n    </tr>\n    <tr>\n      <th>1</th>\n      <td>Cristiano Ronaldo</td>\n      <td>33</td>\n      <td>Portugal</td>\n      <td>94</td>\n      <td>94</td>\n      <td>Juventus</td>\n      <td>77000000.0</td>\n      <td>€405K</td>\n      <td>ST</td>\n      <td>7.0</td>\n      <td>2022</td>\n      <td>6'2</td>\n      <td>183lbs</td>\n    </tr>\n    <tr>\n      <th>2</th>\n      <td>Neymar Jr</td>\n      <td>26</td>\n      <td>Brazil</td>\n      <td>92</td>\n      <td>93</td>\n      <td>Paris Saint-Germain</td>\n      <td>118500000.0</td>\n      <td>€290K</td>\n      <td>LW</td>\n      <td>10.0</td>\n      <td>2022</td>\n      <td>5'9</td>\n      <td>150lbs</td>\n    </tr>\n    <tr>\n      <th>3</th>\n      <td>De Gea</td>\n      <td>27</td>\n      <td>Spain</td>\n      <td>91</td>\n      <td>93</td>\n      <td>Manchester United</td>\n      <td>72000000.0</td>\n      <td>€260K</td>\n      <td>GK</td>\n      <td>1.0</td>\n      <td>2020</td>\n      <td>6'4</td>\n      <td>168lbs</td>\n    </tr>\n    <tr>\n      <th>4</th>\n      <td>K. De Bruyne</td>\n      <td>27</td>\n      <td>Belgium</td>\n      <td>91</td>\n      <td>92</td>\n      <td>Manchester City</td>\n      <td>102000000.0</td>\n      <td>€355K</td>\n      <td>RCM</td>\n      <td>7.0</td>\n      <td>2023</td>\n      <td>5'11</td>\n      <td>154lbs</td>\n    </tr>\n  </tbody>\n</table>\n</div>"
     },
     "execution_count": 39,
     "metadata": {},
     "output_type": "execute_result"
    }
   ],
   "source": [
    "import pandas as pd\n",
    "from sklearn.preprocessing import MinMaxScaler\n",
    "  \n",
    "# Read Data from CSV \n",
    "data = pd.read_csv('regression.csv') \n",
    "data.head() "
   ]
  },
  {
   "cell_type": "code",
   "execution_count": 40,
   "metadata": {},
   "outputs": [],
   "source": [
    "y = data['Value']"
   ]
  },
  {
   "cell_type": "code",
   "execution_count": 41,
   "metadata": {},
   "outputs": [],
   "source": [
    "data = data.drop(['Name', 'Nationality', 'Club', 'Wage', 'Position', 'Weight', 'Height', 'Contract Valid Until', 'Value'], axis = 1)"
   ]
  },
  {
   "cell_type": "code",
   "execution_count": 42,
   "metadata": {},
   "outputs": [
    {
     "data": {
      "text/plain": "   Age  Overall  Potential  Jersey Number\n0   31       94         94           10.0\n1   33       94         94            7.0\n2   26       92         93           10.0\n3   27       91         93            1.0\n4   27       91         92            7.0",
      "text/html": "<div>\n<style scoped>\n    .dataframe tbody tr th:only-of-type {\n        vertical-align: middle;\n    }\n\n    .dataframe tbody tr th {\n        vertical-align: top;\n    }\n\n    .dataframe thead th {\n        text-align: right;\n    }\n</style>\n<table border=\"1\" class=\"dataframe\">\n  <thead>\n    <tr style=\"text-align: right;\">\n      <th></th>\n      <th>Age</th>\n      <th>Overall</th>\n      <th>Potential</th>\n      <th>Jersey Number</th>\n    </tr>\n  </thead>\n  <tbody>\n    <tr>\n      <th>0</th>\n      <td>31</td>\n      <td>94</td>\n      <td>94</td>\n      <td>10.0</td>\n    </tr>\n    <tr>\n      <th>1</th>\n      <td>33</td>\n      <td>94</td>\n      <td>94</td>\n      <td>7.0</td>\n    </tr>\n    <tr>\n      <th>2</th>\n      <td>26</td>\n      <td>92</td>\n      <td>93</td>\n      <td>10.0</td>\n    </tr>\n    <tr>\n      <th>3</th>\n      <td>27</td>\n      <td>91</td>\n      <td>93</td>\n      <td>1.0</td>\n    </tr>\n    <tr>\n      <th>4</th>\n      <td>27</td>\n      <td>91</td>\n      <td>92</td>\n      <td>7.0</td>\n    </tr>\n  </tbody>\n</table>\n</div>"
     },
     "execution_count": 42,
     "metadata": {},
     "output_type": "execute_result"
    }
   ],
   "source": [
    "data.head()"
   ]
  },
  {
   "cell_type": "code",
   "execution_count": 43,
   "metadata": {},
   "outputs": [],
   "source": [
    "X_train, X_test, y_train, y_test = train_test_split(data, y, test_size=0.2)"
   ]
  },
  {
   "cell_type": "markdown",
   "metadata": {},
   "source": [
    "#### MinMaxScaler"
   ]
  },
  {
   "cell_type": "code",
   "execution_count": 44,
   "metadata": {},
   "outputs": [],
   "source": [
    "# Initialise the Scaler and Fit\n",
    "norm = MinMaxScaler().fit(X_train)"
   ]
  },
  {
   "cell_type": "code",
   "execution_count": 45,
   "metadata": {},
   "outputs": [
    {
     "data": {
      "text/plain": "            Age   Overall  Potential  Jersey Number\n0      0.448276  0.541667   0.553191       0.214286\n1      0.172414  0.458333   0.595745       0.112245\n2      0.551724  0.312500   0.276596       0.183673\n3      0.241379  0.479167   0.638298       0.051020\n4      0.344828  0.375000   0.404255       0.153061\n...         ...       ...        ...            ...\n14320  0.344828  0.687500   0.702128       0.183673\n14321  0.517241  0.395833   0.361702       0.224490\n14322  0.103448  0.208333   0.361702       0.346939\n14323  0.344828  0.416667   0.404255       0.081633\n14324  0.103448  0.270833   0.489362       0.428571\n\n[14325 rows x 4 columns]",
      "text/html": "<div>\n<style scoped>\n    .dataframe tbody tr th:only-of-type {\n        vertical-align: middle;\n    }\n\n    .dataframe tbody tr th {\n        vertical-align: top;\n    }\n\n    .dataframe thead th {\n        text-align: right;\n    }\n</style>\n<table border=\"1\" class=\"dataframe\">\n  <thead>\n    <tr style=\"text-align: right;\">\n      <th></th>\n      <th>Age</th>\n      <th>Overall</th>\n      <th>Potential</th>\n      <th>Jersey Number</th>\n    </tr>\n  </thead>\n  <tbody>\n    <tr>\n      <th>0</th>\n      <td>0.448276</td>\n      <td>0.541667</td>\n      <td>0.553191</td>\n      <td>0.214286</td>\n    </tr>\n    <tr>\n      <th>1</th>\n      <td>0.172414</td>\n      <td>0.458333</td>\n      <td>0.595745</td>\n      <td>0.112245</td>\n    </tr>\n    <tr>\n      <th>2</th>\n      <td>0.551724</td>\n      <td>0.312500</td>\n      <td>0.276596</td>\n      <td>0.183673</td>\n    </tr>\n    <tr>\n      <th>3</th>\n      <td>0.241379</td>\n      <td>0.479167</td>\n      <td>0.638298</td>\n      <td>0.051020</td>\n    </tr>\n    <tr>\n      <th>4</th>\n      <td>0.344828</td>\n      <td>0.375000</td>\n      <td>0.404255</td>\n      <td>0.153061</td>\n    </tr>\n    <tr>\n      <th>...</th>\n      <td>...</td>\n      <td>...</td>\n      <td>...</td>\n      <td>...</td>\n    </tr>\n    <tr>\n      <th>14320</th>\n      <td>0.344828</td>\n      <td>0.687500</td>\n      <td>0.702128</td>\n      <td>0.183673</td>\n    </tr>\n    <tr>\n      <th>14321</th>\n      <td>0.517241</td>\n      <td>0.395833</td>\n      <td>0.361702</td>\n      <td>0.224490</td>\n    </tr>\n    <tr>\n      <th>14322</th>\n      <td>0.103448</td>\n      <td>0.208333</td>\n      <td>0.361702</td>\n      <td>0.346939</td>\n    </tr>\n    <tr>\n      <th>14323</th>\n      <td>0.344828</td>\n      <td>0.416667</td>\n      <td>0.404255</td>\n      <td>0.081633</td>\n    </tr>\n    <tr>\n      <th>14324</th>\n      <td>0.103448</td>\n      <td>0.270833</td>\n      <td>0.489362</td>\n      <td>0.428571</td>\n    </tr>\n  </tbody>\n</table>\n<p>14325 rows × 4 columns</p>\n</div>"
     },
     "execution_count": 45,
     "metadata": {},
     "output_type": "execute_result"
    }
   ],
   "source": [
    "pd.DataFrame(columns = X_train.columns, data = norm.transform(X_train))"
   ]
  },
  {
   "cell_type": "code",
   "execution_count": 46,
   "metadata": {},
   "outputs": [
    {
     "data": {
      "text/plain": "           Age   Overall  Potential  Jersey Number\n0     0.241379  0.625000   0.702128       0.132653\n1     0.379310  0.479167   0.446809       0.142857\n2     0.517241  0.562500   0.531915       0.173469\n3     0.241379  0.541667   0.638298       0.163265\n4     0.103448  0.229167   0.510638       0.275510\n...        ...       ...        ...            ...\n3577  0.206897  0.229167   0.361702       0.285714\n3578  0.034483  0.270833   0.702128       0.551020\n3579  0.241379  0.520833   0.595745       0.040816\n3580  0.275862  0.520833   0.574468       0.142857\n3581  0.103448  0.166667   0.425532       0.367347\n\n[3582 rows x 4 columns]",
      "text/html": "<div>\n<style scoped>\n    .dataframe tbody tr th:only-of-type {\n        vertical-align: middle;\n    }\n\n    .dataframe tbody tr th {\n        vertical-align: top;\n    }\n\n    .dataframe thead th {\n        text-align: right;\n    }\n</style>\n<table border=\"1\" class=\"dataframe\">\n  <thead>\n    <tr style=\"text-align: right;\">\n      <th></th>\n      <th>Age</th>\n      <th>Overall</th>\n      <th>Potential</th>\n      <th>Jersey Number</th>\n    </tr>\n  </thead>\n  <tbody>\n    <tr>\n      <th>0</th>\n      <td>0.241379</td>\n      <td>0.625000</td>\n      <td>0.702128</td>\n      <td>0.132653</td>\n    </tr>\n    <tr>\n      <th>1</th>\n      <td>0.379310</td>\n      <td>0.479167</td>\n      <td>0.446809</td>\n      <td>0.142857</td>\n    </tr>\n    <tr>\n      <th>2</th>\n      <td>0.517241</td>\n      <td>0.562500</td>\n      <td>0.531915</td>\n      <td>0.173469</td>\n    </tr>\n    <tr>\n      <th>3</th>\n      <td>0.241379</td>\n      <td>0.541667</td>\n      <td>0.638298</td>\n      <td>0.163265</td>\n    </tr>\n    <tr>\n      <th>4</th>\n      <td>0.103448</td>\n      <td>0.229167</td>\n      <td>0.510638</td>\n      <td>0.275510</td>\n    </tr>\n    <tr>\n      <th>...</th>\n      <td>...</td>\n      <td>...</td>\n      <td>...</td>\n      <td>...</td>\n    </tr>\n    <tr>\n      <th>3577</th>\n      <td>0.206897</td>\n      <td>0.229167</td>\n      <td>0.361702</td>\n      <td>0.285714</td>\n    </tr>\n    <tr>\n      <th>3578</th>\n      <td>0.034483</td>\n      <td>0.270833</td>\n      <td>0.702128</td>\n      <td>0.551020</td>\n    </tr>\n    <tr>\n      <th>3579</th>\n      <td>0.241379</td>\n      <td>0.520833</td>\n      <td>0.595745</td>\n      <td>0.040816</td>\n    </tr>\n    <tr>\n      <th>3580</th>\n      <td>0.275862</td>\n      <td>0.520833</td>\n      <td>0.574468</td>\n      <td>0.142857</td>\n    </tr>\n    <tr>\n      <th>3581</th>\n      <td>0.103448</td>\n      <td>0.166667</td>\n      <td>0.425532</td>\n      <td>0.367347</td>\n    </tr>\n  </tbody>\n</table>\n<p>3582 rows × 4 columns</p>\n</div>"
     },
     "execution_count": 46,
     "metadata": {},
     "output_type": "execute_result"
    }
   ],
   "source": [
    "pd.DataFrame(columns = X_test.columns, data = norm.transform(X_test))"
   ]
  },
  {
   "cell_type": "markdown",
   "metadata": {},
   "source": [
    "### Standard Scaler"
   ]
  },
  {
   "cell_type": "code",
   "execution_count": 47,
   "metadata": {},
   "outputs": [],
   "source": [
    "from sklearn.preprocessing import StandardScaler\n",
    "# todo: remember"
   ]
  },
  {
   "cell_type": "code",
   "execution_count": 48,
   "metadata": {},
   "outputs": [],
   "source": [
    "# Initialise the Scaler and Fit\n",
    "norm = StandardScaler().fit(X_train)"
   ]
  },
  {
   "cell_type": "code",
   "execution_count": 49,
   "metadata": {},
   "outputs": [
    {
     "data": {
      "text/plain": "            Age   Overall  Potential  Jersey Number\n0      0.841812  0.835319   0.434953       0.136944\n1     -0.873789  0.259978   0.760155      -0.483305\n2      1.485163 -0.746869  -1.678858      -0.049131\n3     -0.444889  0.403813   1.085356      -0.855454\n4      0.198462 -0.315363  -0.703253      -0.235205\n...         ...       ...        ...            ...\n14320  0.198462  1.842166   1.573159      -0.049131\n14321  1.270713 -0.171528  -1.028454       0.198969\n14322 -1.302689 -1.466045  -1.028454       0.943267\n14323  0.198462 -0.027693  -0.703253      -0.669379\n14324 -1.302689 -1.034539  -0.052850       1.439466\n\n[14325 rows x 4 columns]",
      "text/html": "<div>\n<style scoped>\n    .dataframe tbody tr th:only-of-type {\n        vertical-align: middle;\n    }\n\n    .dataframe tbody tr th {\n        vertical-align: top;\n    }\n\n    .dataframe thead th {\n        text-align: right;\n    }\n</style>\n<table border=\"1\" class=\"dataframe\">\n  <thead>\n    <tr style=\"text-align: right;\">\n      <th></th>\n      <th>Age</th>\n      <th>Overall</th>\n      <th>Potential</th>\n      <th>Jersey Number</th>\n    </tr>\n  </thead>\n  <tbody>\n    <tr>\n      <th>0</th>\n      <td>0.841812</td>\n      <td>0.835319</td>\n      <td>0.434953</td>\n      <td>0.136944</td>\n    </tr>\n    <tr>\n      <th>1</th>\n      <td>-0.873789</td>\n      <td>0.259978</td>\n      <td>0.760155</td>\n      <td>-0.483305</td>\n    </tr>\n    <tr>\n      <th>2</th>\n      <td>1.485163</td>\n      <td>-0.746869</td>\n      <td>-1.678858</td>\n      <td>-0.049131</td>\n    </tr>\n    <tr>\n      <th>3</th>\n      <td>-0.444889</td>\n      <td>0.403813</td>\n      <td>1.085356</td>\n      <td>-0.855454</td>\n    </tr>\n    <tr>\n      <th>4</th>\n      <td>0.198462</td>\n      <td>-0.315363</td>\n      <td>-0.703253</td>\n      <td>-0.235205</td>\n    </tr>\n    <tr>\n      <th>...</th>\n      <td>...</td>\n      <td>...</td>\n      <td>...</td>\n      <td>...</td>\n    </tr>\n    <tr>\n      <th>14320</th>\n      <td>0.198462</td>\n      <td>1.842166</td>\n      <td>1.573159</td>\n      <td>-0.049131</td>\n    </tr>\n    <tr>\n      <th>14321</th>\n      <td>1.270713</td>\n      <td>-0.171528</td>\n      <td>-1.028454</td>\n      <td>0.198969</td>\n    </tr>\n    <tr>\n      <th>14322</th>\n      <td>-1.302689</td>\n      <td>-1.466045</td>\n      <td>-1.028454</td>\n      <td>0.943267</td>\n    </tr>\n    <tr>\n      <th>14323</th>\n      <td>0.198462</td>\n      <td>-0.027693</td>\n      <td>-0.703253</td>\n      <td>-0.669379</td>\n    </tr>\n    <tr>\n      <th>14324</th>\n      <td>-1.302689</td>\n      <td>-1.034539</td>\n      <td>-0.052850</td>\n      <td>1.439466</td>\n    </tr>\n  </tbody>\n</table>\n<p>14325 rows × 4 columns</p>\n</div>"
     },
     "execution_count": 49,
     "metadata": {},
     "output_type": "execute_result"
    }
   ],
   "source": [
    "pd.DataFrame(columns = X_train.columns, data = norm.transform(X_train))"
   ]
  },
  {
   "cell_type": "code",
   "execution_count": 50,
   "metadata": {},
   "outputs": [
    {
     "data": {
      "text/plain": "           Age   Overall  Potential  Jersey Number\n0    -0.444889  1.410660   1.573159      -0.359255\n1     0.412912  0.403813  -0.378051      -0.297230\n2     1.270713  0.979154   0.272352      -0.111155\n3    -0.444889  0.835319   1.085356      -0.173180\n4    -1.302689 -1.322210   0.109751       0.509093\n...        ...       ...        ...            ...\n3577 -0.659339 -1.322210  -1.028454       0.571118\n3578 -1.731590 -1.034539   1.573159       2.183764\n3579 -0.444889  0.691484   0.760155      -0.917479\n3580 -0.230438  0.691484   0.597554      -0.297230\n3581 -1.302689 -1.753716  -0.540652       1.067317\n\n[3582 rows x 4 columns]",
      "text/html": "<div>\n<style scoped>\n    .dataframe tbody tr th:only-of-type {\n        vertical-align: middle;\n    }\n\n    .dataframe tbody tr th {\n        vertical-align: top;\n    }\n\n    .dataframe thead th {\n        text-align: right;\n    }\n</style>\n<table border=\"1\" class=\"dataframe\">\n  <thead>\n    <tr style=\"text-align: right;\">\n      <th></th>\n      <th>Age</th>\n      <th>Overall</th>\n      <th>Potential</th>\n      <th>Jersey Number</th>\n    </tr>\n  </thead>\n  <tbody>\n    <tr>\n      <th>0</th>\n      <td>-0.444889</td>\n      <td>1.410660</td>\n      <td>1.573159</td>\n      <td>-0.359255</td>\n    </tr>\n    <tr>\n      <th>1</th>\n      <td>0.412912</td>\n      <td>0.403813</td>\n      <td>-0.378051</td>\n      <td>-0.297230</td>\n    </tr>\n    <tr>\n      <th>2</th>\n      <td>1.270713</td>\n      <td>0.979154</td>\n      <td>0.272352</td>\n      <td>-0.111155</td>\n    </tr>\n    <tr>\n      <th>3</th>\n      <td>-0.444889</td>\n      <td>0.835319</td>\n      <td>1.085356</td>\n      <td>-0.173180</td>\n    </tr>\n    <tr>\n      <th>4</th>\n      <td>-1.302689</td>\n      <td>-1.322210</td>\n      <td>0.109751</td>\n      <td>0.509093</td>\n    </tr>\n    <tr>\n      <th>...</th>\n      <td>...</td>\n      <td>...</td>\n      <td>...</td>\n      <td>...</td>\n    </tr>\n    <tr>\n      <th>3577</th>\n      <td>-0.659339</td>\n      <td>-1.322210</td>\n      <td>-1.028454</td>\n      <td>0.571118</td>\n    </tr>\n    <tr>\n      <th>3578</th>\n      <td>-1.731590</td>\n      <td>-1.034539</td>\n      <td>1.573159</td>\n      <td>2.183764</td>\n    </tr>\n    <tr>\n      <th>3579</th>\n      <td>-0.444889</td>\n      <td>0.691484</td>\n      <td>0.760155</td>\n      <td>-0.917479</td>\n    </tr>\n    <tr>\n      <th>3580</th>\n      <td>-0.230438</td>\n      <td>0.691484</td>\n      <td>0.597554</td>\n      <td>-0.297230</td>\n    </tr>\n    <tr>\n      <th>3581</th>\n      <td>-1.302689</td>\n      <td>-1.753716</td>\n      <td>-0.540652</td>\n      <td>1.067317</td>\n    </tr>\n  </tbody>\n</table>\n<p>3582 rows × 4 columns</p>\n</div>"
     },
     "execution_count": 50,
     "metadata": {},
     "output_type": "execute_result"
    }
   ],
   "source": [
    "pd.DataFrame(columns = X_test.columns, data = norm.transform(X_test))"
   ]
  },
  {
   "cell_type": "markdown",
   "metadata": {},
   "source": [
    "# tasks"
   ]
  },
  {
   "cell_type": "markdown",
   "metadata": {},
   "source": [
    "###### try applying this scalers to any dataset and check the regression results"
   ]
  },
  {
   "cell_type": "code",
   "execution_count": 51,
   "metadata": {},
   "outputs": [],
   "source": [
    "# your code here"
   ]
  },
  {
   "cell_type": "markdown",
   "metadata": {},
   "source": [
    "# One Hot Encoding"
   ]
  },
  {
   "cell_type": "code",
   "execution_count": 52,
   "metadata": {},
   "outputs": [],
   "source": [
    "data = pd.read_csv('regression.csv')"
   ]
  },
  {
   "cell_type": "code",
   "execution_count": 53,
   "metadata": {},
   "outputs": [
    {
     "data": {
      "text/plain": "                Name  Age Nationality  Overall  Potential  \\\n0           L. Messi   31   Argentina       94         94   \n1  Cristiano Ronaldo   33    Portugal       94         94   \n2          Neymar Jr   26      Brazil       92         93   \n3             De Gea   27       Spain       91         93   \n4       K. De Bruyne   27     Belgium       91         92   \n\n                  Club        Value   Wage Position  Jersey Number  \\\n0         FC Barcelona  110500000.0  €565K       RF           10.0   \n1             Juventus   77000000.0  €405K       ST            7.0   \n2  Paris Saint-Germain  118500000.0  €290K       LW           10.0   \n3    Manchester United   72000000.0  €260K       GK            1.0   \n4      Manchester City  102000000.0  €355K      RCM            7.0   \n\n  Contract Valid Until Height  Weight  \n0                 2021    5'7  159lbs  \n1                 2022    6'2  183lbs  \n2                 2022    5'9  150lbs  \n3                 2020    6'4  168lbs  \n4                 2023   5'11  154lbs  ",
      "text/html": "<div>\n<style scoped>\n    .dataframe tbody tr th:only-of-type {\n        vertical-align: middle;\n    }\n\n    .dataframe tbody tr th {\n        vertical-align: top;\n    }\n\n    .dataframe thead th {\n        text-align: right;\n    }\n</style>\n<table border=\"1\" class=\"dataframe\">\n  <thead>\n    <tr style=\"text-align: right;\">\n      <th></th>\n      <th>Name</th>\n      <th>Age</th>\n      <th>Nationality</th>\n      <th>Overall</th>\n      <th>Potential</th>\n      <th>Club</th>\n      <th>Value</th>\n      <th>Wage</th>\n      <th>Position</th>\n      <th>Jersey Number</th>\n      <th>Contract Valid Until</th>\n      <th>Height</th>\n      <th>Weight</th>\n    </tr>\n  </thead>\n  <tbody>\n    <tr>\n      <th>0</th>\n      <td>L. Messi</td>\n      <td>31</td>\n      <td>Argentina</td>\n      <td>94</td>\n      <td>94</td>\n      <td>FC Barcelona</td>\n      <td>110500000.0</td>\n      <td>€565K</td>\n      <td>RF</td>\n      <td>10.0</td>\n      <td>2021</td>\n      <td>5'7</td>\n      <td>159lbs</td>\n    </tr>\n    <tr>\n      <th>1</th>\n      <td>Cristiano Ronaldo</td>\n      <td>33</td>\n      <td>Portugal</td>\n      <td>94</td>\n      <td>94</td>\n      <td>Juventus</td>\n      <td>77000000.0</td>\n      <td>€405K</td>\n      <td>ST</td>\n      <td>7.0</td>\n      <td>2022</td>\n      <td>6'2</td>\n      <td>183lbs</td>\n    </tr>\n    <tr>\n      <th>2</th>\n      <td>Neymar Jr</td>\n      <td>26</td>\n      <td>Brazil</td>\n      <td>92</td>\n      <td>93</td>\n      <td>Paris Saint-Germain</td>\n      <td>118500000.0</td>\n      <td>€290K</td>\n      <td>LW</td>\n      <td>10.0</td>\n      <td>2022</td>\n      <td>5'9</td>\n      <td>150lbs</td>\n    </tr>\n    <tr>\n      <th>3</th>\n      <td>De Gea</td>\n      <td>27</td>\n      <td>Spain</td>\n      <td>91</td>\n      <td>93</td>\n      <td>Manchester United</td>\n      <td>72000000.0</td>\n      <td>€260K</td>\n      <td>GK</td>\n      <td>1.0</td>\n      <td>2020</td>\n      <td>6'4</td>\n      <td>168lbs</td>\n    </tr>\n    <tr>\n      <th>4</th>\n      <td>K. De Bruyne</td>\n      <td>27</td>\n      <td>Belgium</td>\n      <td>91</td>\n      <td>92</td>\n      <td>Manchester City</td>\n      <td>102000000.0</td>\n      <td>€355K</td>\n      <td>RCM</td>\n      <td>7.0</td>\n      <td>2023</td>\n      <td>5'11</td>\n      <td>154lbs</td>\n    </tr>\n  </tbody>\n</table>\n</div>"
     },
     "execution_count": 53,
     "metadata": {},
     "output_type": "execute_result"
    }
   ],
   "source": [
    "data.head()"
   ]
  },
  {
   "cell_type": "code",
   "execution_count": 54,
   "metadata": {},
   "outputs": [
    {
     "data": {
      "text/plain": "       Age  Club_ SSV Jahn Regensburg  Club_1. FC Heidenheim 1846  \\\n0       31                          0                           0   \n1       33                          0                           0   \n2       26                          0                           0   \n3       27                          0                           0   \n4       27                          0                           0   \n...    ...                        ...                         ...   \n17902   19                          0                           0   \n17903   19                          0                           0   \n17904   16                          0                           0   \n17905   17                          0                           0   \n17906   16                          0                           0   \n\n       Club_1. FC Kaiserslautern  Club_1. FC Köln  Club_1. FC Magdeburg  \\\n0                              0                0                     0   \n1                              0                0                     0   \n2                              0                0                     0   \n3                              0                0                     0   \n4                              0                0                     0   \n...                          ...              ...                   ...   \n17902                          0                0                     0   \n17903                          0                0                     0   \n17904                          0                0                     0   \n17905                          0                0                     0   \n17906                          0                0                     0   \n\n       Club_1. FC Nürnberg  Club_1. FC Union Berlin  Club_1. FSV Mainz 05  \\\n0                        0                        0                     0   \n1                        0                        0                     0   \n2                        0                        0                     0   \n3                        0                        0                     0   \n4                        0                        0                     0   \n...                    ...                      ...                   ...   \n17902                    0                        0                     0   \n17903                    0                        0                     0   \n17904                    0                        0                     0   \n17905                    0                        0                     0   \n17906                    0                        0                     0   \n\n       Club_AC Ajaccio  ...  Club_Wycombe Wanderers  Club_Yeni Malatyaspor  \\\n0                    0  ...                       0                      0   \n1                    0  ...                       0                      0   \n2                    0  ...                       0                      0   \n3                    0  ...                       0                      0   \n4                    0  ...                       0                      0   \n...                ...  ...                     ...                    ...   \n17902                0  ...                       0                      0   \n17903                0  ...                       0                      0   \n17904                0  ...                       0                      0   \n17905                0  ...                       0                      0   \n17906                0  ...                       0                      0   \n\n       Club_Yeovil Town  Club_Yokohama F. Marinos  Club_Zagłębie Lubin  \\\n0                     0                         0                    0   \n1                     0                         0                    0   \n2                     0                         0                    0   \n3                     0                         0                    0   \n4                     0                         0                    0   \n...                 ...                       ...                  ...   \n17902                 0                         0                    0   \n17903                 0                         0                    0   \n17904                 0                         0                    0   \n17905                 0                         0                    0   \n17906                 0                         0                    0   \n\n       Club_Zagłębie Sosnowiec  Club_Çaykur Rizespor  Club_Örebro SK  \\\n0                            0                     0               0   \n1                            0                     0               0   \n2                            0                     0               0   \n3                            0                     0               0   \n4                            0                     0               0   \n...                        ...                   ...             ...   \n17902                        0                     0               0   \n17903                        0                     0               0   \n17904                        0                     0               0   \n17905                        0                     0               0   \n17906                        0                     0               0   \n\n       Club_Östersunds FK  Club_Śląsk Wrocław  \n0                       0                   0  \n1                       0                   0  \n2                       0                   0  \n3                       0                   0  \n4                       0                   0  \n...                   ...                 ...  \n17902                   0                   0  \n17903                   0                   0  \n17904                   0                   0  \n17905                   0                   0  \n17906                   0                   0  \n\n[17907 rows x 652 columns]",
      "text/html": "<div>\n<style scoped>\n    .dataframe tbody tr th:only-of-type {\n        vertical-align: middle;\n    }\n\n    .dataframe tbody tr th {\n        vertical-align: top;\n    }\n\n    .dataframe thead th {\n        text-align: right;\n    }\n</style>\n<table border=\"1\" class=\"dataframe\">\n  <thead>\n    <tr style=\"text-align: right;\">\n      <th></th>\n      <th>Age</th>\n      <th>Club_ SSV Jahn Regensburg</th>\n      <th>Club_1. FC Heidenheim 1846</th>\n      <th>Club_1. FC Kaiserslautern</th>\n      <th>Club_1. FC Köln</th>\n      <th>Club_1. FC Magdeburg</th>\n      <th>Club_1. FC Nürnberg</th>\n      <th>Club_1. FC Union Berlin</th>\n      <th>Club_1. FSV Mainz 05</th>\n      <th>Club_AC Ajaccio</th>\n      <th>...</th>\n      <th>Club_Wycombe Wanderers</th>\n      <th>Club_Yeni Malatyaspor</th>\n      <th>Club_Yeovil Town</th>\n      <th>Club_Yokohama F. Marinos</th>\n      <th>Club_Zagłębie Lubin</th>\n      <th>Club_Zagłębie Sosnowiec</th>\n      <th>Club_Çaykur Rizespor</th>\n      <th>Club_Örebro SK</th>\n      <th>Club_Östersunds FK</th>\n      <th>Club_Śląsk Wrocław</th>\n    </tr>\n  </thead>\n  <tbody>\n    <tr>\n      <th>0</th>\n      <td>31</td>\n      <td>0</td>\n      <td>0</td>\n      <td>0</td>\n      <td>0</td>\n      <td>0</td>\n      <td>0</td>\n      <td>0</td>\n      <td>0</td>\n      <td>0</td>\n      <td>...</td>\n      <td>0</td>\n      <td>0</td>\n      <td>0</td>\n      <td>0</td>\n      <td>0</td>\n      <td>0</td>\n      <td>0</td>\n      <td>0</td>\n      <td>0</td>\n      <td>0</td>\n    </tr>\n    <tr>\n      <th>1</th>\n      <td>33</td>\n      <td>0</td>\n      <td>0</td>\n      <td>0</td>\n      <td>0</td>\n      <td>0</td>\n      <td>0</td>\n      <td>0</td>\n      <td>0</td>\n      <td>0</td>\n      <td>...</td>\n      <td>0</td>\n      <td>0</td>\n      <td>0</td>\n      <td>0</td>\n      <td>0</td>\n      <td>0</td>\n      <td>0</td>\n      <td>0</td>\n      <td>0</td>\n      <td>0</td>\n    </tr>\n    <tr>\n      <th>2</th>\n      <td>26</td>\n      <td>0</td>\n      <td>0</td>\n      <td>0</td>\n      <td>0</td>\n      <td>0</td>\n      <td>0</td>\n      <td>0</td>\n      <td>0</td>\n      <td>0</td>\n      <td>...</td>\n      <td>0</td>\n      <td>0</td>\n      <td>0</td>\n      <td>0</td>\n      <td>0</td>\n      <td>0</td>\n      <td>0</td>\n      <td>0</td>\n      <td>0</td>\n      <td>0</td>\n    </tr>\n    <tr>\n      <th>3</th>\n      <td>27</td>\n      <td>0</td>\n      <td>0</td>\n      <td>0</td>\n      <td>0</td>\n      <td>0</td>\n      <td>0</td>\n      <td>0</td>\n      <td>0</td>\n      <td>0</td>\n      <td>...</td>\n      <td>0</td>\n      <td>0</td>\n      <td>0</td>\n      <td>0</td>\n      <td>0</td>\n      <td>0</td>\n      <td>0</td>\n      <td>0</td>\n      <td>0</td>\n      <td>0</td>\n    </tr>\n    <tr>\n      <th>4</th>\n      <td>27</td>\n      <td>0</td>\n      <td>0</td>\n      <td>0</td>\n      <td>0</td>\n      <td>0</td>\n      <td>0</td>\n      <td>0</td>\n      <td>0</td>\n      <td>0</td>\n      <td>...</td>\n      <td>0</td>\n      <td>0</td>\n      <td>0</td>\n      <td>0</td>\n      <td>0</td>\n      <td>0</td>\n      <td>0</td>\n      <td>0</td>\n      <td>0</td>\n      <td>0</td>\n    </tr>\n    <tr>\n      <th>...</th>\n      <td>...</td>\n      <td>...</td>\n      <td>...</td>\n      <td>...</td>\n      <td>...</td>\n      <td>...</td>\n      <td>...</td>\n      <td>...</td>\n      <td>...</td>\n      <td>...</td>\n      <td>...</td>\n      <td>...</td>\n      <td>...</td>\n      <td>...</td>\n      <td>...</td>\n      <td>...</td>\n      <td>...</td>\n      <td>...</td>\n      <td>...</td>\n      <td>...</td>\n      <td>...</td>\n    </tr>\n    <tr>\n      <th>17902</th>\n      <td>19</td>\n      <td>0</td>\n      <td>0</td>\n      <td>0</td>\n      <td>0</td>\n      <td>0</td>\n      <td>0</td>\n      <td>0</td>\n      <td>0</td>\n      <td>0</td>\n      <td>...</td>\n      <td>0</td>\n      <td>0</td>\n      <td>0</td>\n      <td>0</td>\n      <td>0</td>\n      <td>0</td>\n      <td>0</td>\n      <td>0</td>\n      <td>0</td>\n      <td>0</td>\n    </tr>\n    <tr>\n      <th>17903</th>\n      <td>19</td>\n      <td>0</td>\n      <td>0</td>\n      <td>0</td>\n      <td>0</td>\n      <td>0</td>\n      <td>0</td>\n      <td>0</td>\n      <td>0</td>\n      <td>0</td>\n      <td>...</td>\n      <td>0</td>\n      <td>0</td>\n      <td>0</td>\n      <td>0</td>\n      <td>0</td>\n      <td>0</td>\n      <td>0</td>\n      <td>0</td>\n      <td>0</td>\n      <td>0</td>\n    </tr>\n    <tr>\n      <th>17904</th>\n      <td>16</td>\n      <td>0</td>\n      <td>0</td>\n      <td>0</td>\n      <td>0</td>\n      <td>0</td>\n      <td>0</td>\n      <td>0</td>\n      <td>0</td>\n      <td>0</td>\n      <td>...</td>\n      <td>0</td>\n      <td>0</td>\n      <td>0</td>\n      <td>0</td>\n      <td>0</td>\n      <td>0</td>\n      <td>0</td>\n      <td>0</td>\n      <td>0</td>\n      <td>0</td>\n    </tr>\n    <tr>\n      <th>17905</th>\n      <td>17</td>\n      <td>0</td>\n      <td>0</td>\n      <td>0</td>\n      <td>0</td>\n      <td>0</td>\n      <td>0</td>\n      <td>0</td>\n      <td>0</td>\n      <td>0</td>\n      <td>...</td>\n      <td>0</td>\n      <td>0</td>\n      <td>0</td>\n      <td>0</td>\n      <td>0</td>\n      <td>0</td>\n      <td>0</td>\n      <td>0</td>\n      <td>0</td>\n      <td>0</td>\n    </tr>\n    <tr>\n      <th>17906</th>\n      <td>16</td>\n      <td>0</td>\n      <td>0</td>\n      <td>0</td>\n      <td>0</td>\n      <td>0</td>\n      <td>0</td>\n      <td>0</td>\n      <td>0</td>\n      <td>0</td>\n      <td>...</td>\n      <td>0</td>\n      <td>0</td>\n      <td>0</td>\n      <td>0</td>\n      <td>0</td>\n      <td>0</td>\n      <td>0</td>\n      <td>0</td>\n      <td>0</td>\n      <td>0</td>\n    </tr>\n  </tbody>\n</table>\n<p>17907 rows × 652 columns</p>\n</div>"
     },
     "execution_count": 54,
     "metadata": {},
     "output_type": "execute_result"
    }
   ],
   "source": [
    "pd.get_dummies(data[['Age', 'Club']])"
   ]
  },
  {
   "cell_type": "markdown",
   "metadata": {},
   "source": [
    "# tasks"
   ]
  },
  {
   "cell_type": "markdown",
   "metadata": {},
   "source": [
    "###### try applying OHE to any column(s) and check the regression results"
   ]
  },
  {
   "cell_type": "code",
   "execution_count": 55,
   "metadata": {},
   "outputs": [],
   "source": [
    "from sklearn.preprocessing import StandardScaler\n",
    "import pandas as pd\n",
    "\n",
    "data = pd.read_csv('regression.csv')\n",
    "\n",
    "value = data.Value\n",
    "data = data.drop(columns=[\"Value\"])\n",
    "\n",
    "\n"
   ]
  },
  {
   "cell_type": "code",
   "execution_count": 56,
   "outputs": [],
   "source": [
    "data[\"Jersey Number\"] = data[\"Jersey Number\"].map(str)\n",
    "# data = pd.get_dummies(data[[\"Name\", \"Nationality\", \"Club\", \"Wage\", \"Position\", \"Height\", \"Weight\", \"Jersey Number\"]])\n",
    "data = pd.get_dummies(data[['Jersey Number', 'Club', \"Age\"]])\n",
    "\n"
   ],
   "metadata": {
    "collapsed": false
   }
  },
  {
   "cell_type": "code",
   "execution_count": 57,
   "outputs": [],
   "source": [
    "norm = StandardScaler().fit(data)\n",
    "data_scaled = pd.DataFrame(columns = data.columns, data = norm.transform(data))"
   ],
   "metadata": {
    "collapsed": false
   }
  },
  {
   "cell_type": "code",
   "execution_count": 58,
   "outputs": [
    {
     "data": {
      "text/plain": "array([-1189599.98395404,   840416.01604596,  2619872.01604596,\n        2397088.01604596,  3649088.01604596])"
     },
     "execution_count": 58,
     "metadata": {},
     "output_type": "execute_result"
    }
   ],
   "source": [
    "# create training and testing vars\n",
    "from sklearn.model_selection import train_test_split\n",
    "X_train, X_test, y_train, y_test = train_test_split(data_scaled, value, test_size=0.2)\n",
    "from sklearn import linear_model\n",
    "lm = linear_model.LinearRegression()\n",
    "model = lm.fit(X_train, y_train)\n",
    "predictions = lm.predict(X_test)\n",
    "predictions[0:5]\n"
   ],
   "metadata": {
    "collapsed": false
   }
  },
  {
   "cell_type": "code",
   "execution_count": 59,
   "outputs": [
    {
     "data": {
      "text/plain": "array([3750192.,  763152., 6306304., 1780496., 3023840.])"
     },
     "execution_count": 59,
     "metadata": {},
     "output_type": "execute_result"
    }
   ],
   "source": [
    "# create training and testing vars\n",
    "from sklearn.model_selection import train_test_split\n",
    "X_train, X_test, y_train, y_test = train_test_split(data, value, test_size=0.2)\n",
    "from sklearn import linear_model\n",
    "lm = linear_model.LinearRegression()\n",
    "model = lm.fit(X_train, y_train)\n",
    "predictions = lm.predict(X_test)\n",
    "predictions[0:5]\n"
   ],
   "metadata": {
    "collapsed": false
   }
  },
  {
   "cell_type": "code",
   "execution_count": 64,
   "outputs": [
    {
     "name": "stdout",
     "output_type": "stream",
     "text": [
      "Cross-validated scores: [-6.74873306e-01 -3.37507906e+27 -1.31427450e+02 -4.96659786e+02\n",
      " -1.11877193e+03 -2.51858791e+31]\n"
     ]
    },
    {
     "data": {
      "text/plain": "1.4469969199994808e+18"
     },
     "execution_count": 64,
     "metadata": {},
     "output_type": "execute_result"
    },
    {
     "data": {
      "text/plain": "<Figure size 432x288 with 1 Axes>",
      "image/png": "[encoded data removed]"
     },
     "metadata": {
      "needs_background": "light"
     },
     "output_type": "display_data"
    }
   ],
   "source": [
    "data = data_scaled\n",
    "predictions = cross_val_predict(model, data, value, cv=10)\n",
    "\n",
    "scores = cross_val_score(model, data, value, cv=6)\n",
    "\n",
    "print ('Cross-validated scores:', scores)\n",
    "\n",
    "plt.scatter(value, predictions)\n",
    "\n",
    "np.sqrt(mean_squared_error(value,predictions))\n",
    "\n",
    "# todo check with cross val r2 how good/bad it became"
   ],
   "metadata": {
    "collapsed": false
   }
  }
 ],
 "metadata": {
  "kernelspec": {
   "display_name": "Python 3 (ipykernel)",
   "language": "python",
   "name": "python3"
  },
  "language_info": {
   "codemirror_mode": {
    "name": "ipython",
    "version": 3
   },
   "file_extension": ".py",
   "mimetype": "text/x-python",
   "name": "python",
   "nbconvert_exporter": "python",
   "pygments_lexer": "ipython3",
   "version": "3.9.12"
  }
 },
 "nbformat": 4,
 "nbformat_minor": 4
}
