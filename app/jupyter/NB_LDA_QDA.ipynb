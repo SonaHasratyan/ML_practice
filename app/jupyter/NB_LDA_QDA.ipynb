{
 "cells": [
  {
   "cell_type": "markdown",
   "metadata": {},
   "source": [
    "# NB"
   ]
  },
  {
   "cell_type": "code",
   "execution_count": 4,
   "metadata": {
    "id": "VP9iFta2heGa",
    "outputId": "e19717bd-95b5-4179-b1e5-89abaf6c4f36"
   },
   "outputs": [],
   "source": [
    "from sklearn.datasets import load_iris\n",
    "from sklearn.model_selection import train_test_split\n",
    "from sklearn.naive_bayes import GaussianNB\n",
    "\n",
    "import numpy as np"
   ]
  },
  {
   "cell_type": "code",
   "execution_count": 5,
   "metadata": {
    "id": "hKR8iBXPheGd"
   },
   "outputs": [],
   "source": [
    "class0_len = 1000\n",
    "X0 = np.random.normal((0,1,2), (1,2,2), (class0_len,3))\n",
    "y0 = [0]*class0_len\n",
    "\n",
    "class1_len = 2000\n",
    "X1 = np.random.normal((1,1,-1), (3,1,1), (class1_len, 3))\n",
    "y1 = [1]*class1_len"
   ]
  },
  {
   "cell_type": "code",
   "execution_count": 6,
   "metadata": {
    "id": "QBJ-dbdiheGd"
   },
   "outputs": [],
   "source": [
    "X = np.concatenate((X0, X1))\n",
    "y = y0+y1"
   ]
  },
  {
   "cell_type": "code",
   "execution_count": 7,
   "metadata": {
    "id": "h1ItV7C1heGe",
    "outputId": "eaebbaa9-cb4a-4fd9-a2b6-4a998f0820af"
   },
   "outputs": [
    {
     "data": {
      "text/plain": [
       "array([[-1.55424214,  3.53066247,  0.90124965],\n",
       "       [ 0.27815994,  0.4228629 ,  2.66372785],\n",
       "       [ 1.465079  ,  0.49402474,  1.76752491],\n",
       "       ...,\n",
       "       [ 3.43677018,  3.26729159,  0.05904708],\n",
       "       [-2.14781647,  1.59729414, -1.02582951],\n",
       "       [-0.08090843,  0.37481197, -1.17949893]])"
      ]
     },
     "execution_count": 7,
     "metadata": {},
     "output_type": "execute_result"
    }
   ],
   "source": [
    "X"
   ]
  },
  {
   "cell_type": "code",
   "execution_count": 8,
   "metadata": {
    "id": "cQ9fXIk7heGf"
   },
   "outputs": [],
   "source": [
    "X_train, X_val, y_train, y_val = train_test_split(X, y, random_state=24)"
   ]
  },
  {
   "cell_type": "code",
   "execution_count": 9,
   "metadata": {
    "id": "96I0Etq-heGg"
   },
   "outputs": [],
   "source": [
    "gnb = GaussianNB()"
   ]
  },
  {
   "cell_type": "code",
   "execution_count": 10,
   "metadata": {
    "id": "B2AAVvTKheGg",
    "outputId": "3fa743d8-65d1-4e0a-86b2-bd976149ee72"
   },
   "outputs": [
    {
     "data": {
      "text/plain": [
       "GaussianNB()"
      ]
     },
     "execution_count": 10,
     "metadata": {},
     "output_type": "execute_result"
    }
   ],
   "source": [
    "gnb.fit(X_train, y_train)"
   ]
  },
  {
   "cell_type": "code",
   "execution_count": 11,
   "metadata": {
    "id": "Ca3rJbPtheGg",
    "outputId": "4e57662a-b10a-4ac6-90c6-8dd84f6ec573"
   },
   "outputs": [
    {
     "data": {
      "text/plain": [
       "0.9177777777777778"
      ]
     },
     "execution_count": 11,
     "metadata": {},
     "output_type": "execute_result"
    }
   ],
   "source": [
    "gnb.score(X_train, y_train)"
   ]
  },
  {
   "cell_type": "code",
   "execution_count": 12,
   "metadata": {
    "id": "kUDUIJ8sheGh",
    "outputId": "285b881f-cc45-46cb-f92a-eeec49bad49e"
   },
   "outputs": [
    {
     "data": {
      "text/plain": [
       "0.9146666666666666"
      ]
     },
     "execution_count": 12,
     "metadata": {},
     "output_type": "execute_result"
    }
   ],
   "source": [
    "gnb.score(X_val, y_val)"
   ]
  },
  {
   "cell_type": "markdown",
   "metadata": {
    "id": "-WobMhDIheGh"
   },
   "source": [
    "# LDA"
   ]
  },
  {
   "cell_type": "code",
   "execution_count": 14,
   "metadata": {
    "id": "BlRDUU4iheGi"
   },
   "outputs": [],
   "source": [
    "from sklearn.discriminant_analysis import LinearDiscriminantAnalysis\n",
    "clf = LinearDiscriminantAnalysis()"
   ]
  },
  {
   "cell_type": "code",
   "execution_count": 15,
   "metadata": {
    "id": "dN9s4sXtheGi"
   },
   "outputs": [],
   "source": [
    "class0_len = 1000\n",
    "X0 = np.random.multivariate_normal([1,2,-1], np.array([[1, 0.9, 0.9], [0.9, 1, 0.9], [0.9, 0.9, 1]]), size=class0_len)\n",
    "y0 = [0]*class0_len\n",
    "\n",
    "class1_len = 3000\n",
    "X1 = np.random.multivariate_normal([1,1,0], np.array([[1, 0.9, 0.9], [0.9, 1, 0.9], [0.9, 0.9, 1]]), size=class1_len)\n",
    "y1 = [1]*class1_len"
   ]
  },
  {
   "cell_type": "code",
   "execution_count": 16,
   "metadata": {
    "id": "kxDC3sE2heGi"
   },
   "outputs": [],
   "source": [
    "X = np.concatenate((X0, X1))\n",
    "y = y0+y1"
   ]
  },
  {
   "cell_type": "code",
   "execution_count": 17,
   "metadata": {
    "id": "rCdOxzkcheGj"
   },
   "outputs": [],
   "source": [
    "X_train, X_val, y_train, y_val = train_test_split(X, y, random_state=24)"
   ]
  },
  {
   "cell_type": "code",
   "execution_count": 18,
   "metadata": {
    "id": "h4Hwl8DYheGj",
    "outputId": "158b781f-08f1-4547-cc93-f173e4c417e6"
   },
   "outputs": [
    {
     "data": {
      "text/plain": [
       "0.873"
      ]
     },
     "execution_count": 18,
     "metadata": {},
     "output_type": "execute_result"
    }
   ],
   "source": [
    "gnb = GaussianNB()\n",
    "gnb.fit(X_train, y_train)\n",
    "gnb.score(X_val, y_val)"
   ]
  },
  {
   "cell_type": "code",
   "execution_count": 19,
   "metadata": {
    "id": "5ZJ9CAOWheGk",
    "outputId": "b4e9a0d0-7dec-4c56-ef88-8307901d1aff"
   },
   "outputs": [
    {
     "data": {
      "text/plain": [
       "0.8516666666666667"
      ]
     },
     "execution_count": 19,
     "metadata": {},
     "output_type": "execute_result"
    }
   ],
   "source": [
    "gnb.score(X_train, y_train)"
   ]
  },
  {
   "cell_type": "code",
   "execution_count": 20,
   "metadata": {
    "id": "lgEwcUq7heGl",
    "outputId": "ba130d35-8125-4a39-e3f7-bc5ef74614f2"
   },
   "outputs": [
    {
     "data": {
      "text/plain": [
       "0.996"
      ]
     },
     "execution_count": 20,
     "metadata": {},
     "output_type": "execute_result"
    }
   ],
   "source": [
    "clf.fit(X_train, y_train)\n",
    "clf.score(X_val, y_val)"
   ]
  },
  {
   "cell_type": "code",
   "execution_count": 21,
   "metadata": {
    "id": "VJywT_4qheGl",
    "outputId": "27ac559f-bf66-41ea-830b-92252f0f0d8e"
   },
   "outputs": [
    {
     "data": {
      "text/plain": [
       "0.984"
      ]
     },
     "execution_count": 21,
     "metadata": {},
     "output_type": "execute_result"
    }
   ],
   "source": [
    "clf.score(X_train, y_train)"
   ]
  },
  {
   "cell_type": "code",
   "execution_count": 22,
   "metadata": {
    "id": "hzwiGkdAheGl",
    "outputId": "04cd7394-a395-4080-dbd6-343d371b8b8e"
   },
   "outputs": [
    {
     "data": {
      "text/plain": [
       "array([[0.96444761, 0.85328866, 0.86682518],\n",
       "       [0.85328866, 0.96403309, 0.8620083 ],\n",
       "       [0.86682518, 0.8620083 , 0.97916327]])"
      ]
     },
     "execution_count": 22,
     "metadata": {},
     "output_type": "execute_result"
    }
   ],
   "source": [
    "np.cov(X0.T)"
   ]
  },
  {
   "cell_type": "code",
   "execution_count": 23,
   "metadata": {
    "id": "roda4nSaheGm",
    "outputId": "46dc14d3-e8b8-4c48-c556-de6003409243"
   },
   "outputs": [
    {
     "data": {
      "text/plain": [
       "array([[0.97916663, 0.8818711 , 0.87155407],\n",
       "       [0.8818711 , 0.98799807, 0.87873241],\n",
       "       [0.87155407, 0.87873241, 0.96702054]])"
      ]
     },
     "execution_count": 23,
     "metadata": {},
     "output_type": "execute_result"
    }
   ],
   "source": [
    "np.cov(X1.T)"
   ]
  },
  {
   "cell_type": "markdown",
   "metadata": {
    "id": "YLefKfs_heGm"
   },
   "source": [
    "# QDA"
   ]
  },
  {
   "cell_type": "code",
   "execution_count": 24,
   "metadata": {
    "id": "ilflh33rheGn"
   },
   "outputs": [],
   "source": [
    "from sklearn.discriminant_analysis import QuadraticDiscriminantAnalysis\n",
    "clf = QuadraticDiscriminantAnalysis()"
   ]
  },
  {
   "cell_type": "code",
   "execution_count": 25,
   "metadata": {
    "id": "N4RCLntgheGn"
   },
   "outputs": [],
   "source": [
    "class0_len = 1000\n",
    "X0 = np.random.multivariate_normal([1,2,0], np.array([[1, 0.9, 0.9], [0.9, 1, 0.9], [0.9, 0.9, 1]]), size=class0_len)\n",
    "y0 = [0]*class0_len\n",
    "\n",
    "class1_len = 3000\n",
    "X1 = np.random.multivariate_normal([1,1,0], np.array([[1, 0.4, 0.2], [0.4, 1, 0.8], [0.2, 0.8, 1]]), size=class1_len)\n",
    "y1 = [1]*class1_len"
   ]
  },
  {
   "cell_type": "code",
   "execution_count": 26,
   "metadata": {
    "id": "4ZauysmTheGn"
   },
   "outputs": [],
   "source": [
    "X = np.concatenate((X0, X1))\n",
    "y = y0+y1"
   ]
  },
  {
   "cell_type": "code",
   "execution_count": 27,
   "metadata": {
    "id": "QIcm3hVJheGn"
   },
   "outputs": [],
   "source": [
    "X_train, X_val, y_train, y_val = train_test_split(X, y, random_state=24)"
   ]
  },
  {
   "cell_type": "code",
   "execution_count": 28,
   "metadata": {
    "id": "oae02L3dheGo",
    "outputId": "163bc237-06f4-42ba-f505-51578fafef5a"
   },
   "outputs": [
    {
     "data": {
      "text/plain": [
       "0.807"
      ]
     },
     "execution_count": 28,
     "metadata": {},
     "output_type": "execute_result"
    }
   ],
   "source": [
    "gnb = GaussianNB()\n",
    "gnb.fit(X_train, y_train)\n",
    "gnb.score(X_val, y_val)"
   ]
  },
  {
   "cell_type": "code",
   "execution_count": 29,
   "metadata": {
    "id": "kokjLzE-heGo",
    "outputId": "29215319-c5cf-4477-8818-da4808cf8dc6"
   },
   "outputs": [
    {
     "data": {
      "text/plain": [
       "0.777"
      ]
     },
     "execution_count": 29,
     "metadata": {},
     "output_type": "execute_result"
    }
   ],
   "source": [
    "gnb.score(X_train, y_train)"
   ]
  },
  {
   "cell_type": "code",
   "execution_count": 30,
   "metadata": {
    "id": "s-Fc6bAAheGo",
    "outputId": "4d096d1a-b030-4aed-d0b5-5c17879e68e0"
   },
   "outputs": [
    {
     "data": {
      "text/plain": [
       "0.905"
      ]
     },
     "execution_count": 30,
     "metadata": {},
     "output_type": "execute_result"
    }
   ],
   "source": [
    "clf.fit(X_train, y_train)\n",
    "clf.score(X_val, y_val)"
   ]
  },
  {
   "cell_type": "code",
   "execution_count": 31,
   "metadata": {
    "id": "iN-BKVlfheGp",
    "outputId": "b73bb388-4cc1-48b3-889e-ce93cf70ca14"
   },
   "outputs": [
    {
     "data": {
      "text/plain": [
       "0.9056666666666666"
      ]
     },
     "execution_count": 31,
     "metadata": {},
     "output_type": "execute_result"
    }
   ],
   "source": [
    "clf.score(X_train, y_train)"
   ]
  },
  {
   "cell_type": "code",
   "execution_count": 32,
   "metadata": {
    "id": "onKJmw1mheGp"
   },
   "outputs": [],
   "source": [
    "clf_linear = LinearDiscriminantAnalysis()"
   ]
  },
  {
   "cell_type": "code",
   "execution_count": 33,
   "metadata": {
    "id": "5NfAeIChheGp",
    "outputId": "6d49b2ce-1ffc-4f34-f743-e5b46cafb11e"
   },
   "outputs": [
    {
     "data": {
      "text/plain": [
       "LinearDiscriminantAnalysis()"
      ]
     },
     "execution_count": 33,
     "metadata": {},
     "output_type": "execute_result"
    }
   ],
   "source": [
    "clf_linear.fit(X_train, y_train)"
   ]
  },
  {
   "cell_type": "code",
   "execution_count": 34,
   "metadata": {
    "id": "GRJlwEiuheGq",
    "outputId": "88769d0a-b911-472c-80b7-cb5c14af8344"
   },
   "outputs": [
    {
     "data": {
      "text/plain": [
       "0.871"
      ]
     },
     "execution_count": 34,
     "metadata": {},
     "output_type": "execute_result"
    }
   ],
   "source": [
    "clf_linear.score(X_val, y_val)"
   ]
  },
  {
   "cell_type": "code",
   "execution_count": 35,
   "metadata": {
    "id": "3LpuYzTbheGq",
    "outputId": "e5a4c50c-3f66-41f5-c0e7-62768e63e62b"
   },
   "outputs": [
    {
     "data": {
      "text/plain": [
       "0.8836666666666667"
      ]
     },
     "execution_count": 35,
     "metadata": {},
     "output_type": "execute_result"
    }
   ],
   "source": [
    "clf_linear.score(X_train, y_train)"
   ]
  }
 ],
 "metadata": {
  "colab": {
   "name": "NB_LDA_QDA.ipynb",
   "provenance": []
  },
  "kernelspec": {
   "display_name": "Python 3 (ipykernel)",
   "language": "python",
   "name": "python3"
  },
  "language_info": {
   "codemirror_mode": {
    "name": "ipython",
    "version": 3
   },
   "file_extension": ".py",
   "mimetype": "text/x-python",
   "name": "python",
   "nbconvert_exporter": "python",
   "pygments_lexer": "ipython3",
   "version": "3.9.12"
  }
 },
 "nbformat": 4,
 "nbformat_minor": 1
}
