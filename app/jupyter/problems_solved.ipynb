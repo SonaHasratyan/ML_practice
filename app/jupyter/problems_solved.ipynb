{
 "cells": [
  {
   "cell_type": "markdown",
   "id": "4d1bd61d",
   "metadata": {},
   "source": [
    "1. Generate random integer numbers of a given shape. From random generators you can use only np.random.rand()\n",
    "\n",
    "\n",
    "2. Find unique values of the given numpy array.\n",
    "\n",
    "\n",
    "3. Find value of derivative of a function of 1 variable in given point. The function can be only polynomial and is given by string. For example func('3x^2+4x+4', 3) == 22 (for your ease - lets limit coefficients to be only integers)\n",
    "\n",
    "\n",
    "4. From which known distribution is np.random.rand() ? Get 2 different arrays generated from that distribution and get their difference. What should the mean of that difference be, if we get a bigger sample size? Think about this answer before calculating it with code.\n",
    "\n",
    "\n",
    "5. Replace random values (~10 % of values) of car data.csv with np.nan; Then fill that nan values with most common values of the column for categorical columns and with mean values from numerical columns.\n",
    "\n",
    "\n",
    "6. Plot graphics of functions x^2 and sin(x) in the same figure. Make one of them regular plot and the other one with dashed lines.\n",
    "\n",
    "\n",
    "7. Scatter plot data points from car data.csv using selling price and present price as data point coordinates. Differentiate the points by colors, each color corresponds to a unique fuel type (e.g., all Petrols are blue and all Diesels are red). Add a legend for each color."
   ]
  },
  {
   "cell_type": "code",
   "execution_count": 148,
   "id": "4a16a950",
   "metadata": {},
   "outputs": [],
   "source": [
    "import numpy as np\n",
    "import pandas as pd\n",
    "import matplotlib.pyplot as plt\n",
    "\n",
    "from sympy.parsing.sympy_parser import parse_expr\n",
    "from sympy import diff\n",
    "import re"
   ]
  },
  {
   "cell_type": "code",
   "execution_count": 48,
   "id": "3eacc8c9",
   "metadata": {},
   "outputs": [],
   "source": [
    "def int_generator(shape):\n",
    "    return (np.random.rand(*shape)*(2**16)).astype(int) - (2**15)    "
   ]
  },
  {
   "cell_type": "code",
   "execution_count": 154,
   "id": "879cc3d8",
   "metadata": {},
   "outputs": [],
   "source": [
    "def unique(arr):\n",
    "    return np.unique(arr)"
   ]
  },
  {
   "cell_type": "code",
   "execution_count": 202,
   "id": "cffd047f",
   "metadata": {},
   "outputs": [],
   "source": [
    "def func_deriv(func, p):\n",
    "    func = func.replace('^', '**')\n",
    "    for r in re.findall('\\dx', func):\n",
    "        r_new = r.replace('x', '*x')\n",
    "        func = func.replace(r, r_new)\n",
    "    deriv = diff(func, 'x')\n",
    "    return deriv.subs('x', p)"
   ]
  },
  {
   "cell_type": "code",
   "execution_count": 204,
   "id": "c36522fd",
   "metadata": {},
   "outputs": [],
   "source": [
    "def uniform_diff(shape):\n",
    "    x1 = np.random.rand(*shape)\n",
    "    x2 = np.random.rand(*shape)\n",
    "    return (x1-x2).mean()"
   ]
  },
  {
   "cell_type": "code",
   "execution_count": 287,
   "id": "f36c088f",
   "metadata": {},
   "outputs": [],
   "source": [
    "def replace_values(df):\n",
    "    boolean_mask = np.random.rand(*df.values.shape)>0.9\n",
    "    df[boolean_mask] = np.nan\n",
    "    \n",
    "    numeric_columns = df.select_dtypes(include=['int', 'float']).columns\n",
    "    numeric_means = df[numeric_columns].mean()\n",
    "    df[numeric_columns] = df[numeric_columns].fillna(numeric_means)\n",
    "    \n",
    "    categorical_columns = df.select_dtypes(include=['object']).columns\n",
    "    categorical_modes = df[categorical_columns].mode().iloc[0]\n",
    "    df[categorical_columns] = df[categorical_columns].fillna(categorical_modes)\n",
    "    \n",
    "    return numeric_columns, df"
   ]
  },
  {
   "cell_type": "code",
   "execution_count": 344,
   "id": "840ede88",
   "metadata": {},
   "outputs": [],
   "source": [
    "def plot_functions():\n",
    "    x = np.arange(-10, 10, 0.1)\n",
    "    plt.xlim([-2, 2])\n",
    "    plt.ylim([-4, 4])\n",
    "    plt.plot(x, np.sin(x))\n",
    "    plt.plot(x, x**2, linestyle='dashed')\n",
    "    plt.show()"
   ]
  },
  {
   "cell_type": "code",
   "execution_count": 44,
   "id": "8e3336ce",
   "metadata": {},
   "outputs": [],
   "source": [
    "def plot_prices(df):\n",
    "    def generate_color():\n",
    "        return tuple(np.random.rand(3))\n",
    "\n",
    "    fig, ax = plt.subplots()\n",
    "\n",
    "    colors = dict()\n",
    "    for fuel_type in df['Fuel_Type'].unique():\n",
    "        colors[fuel_type] = generate_color()\n",
    "\n",
    "    grouped = df.groupby('Fuel_Type')\n",
    "    for key, group in grouped:\n",
    "        group.plot(ax=ax, kind='scatter', x='Selling_Price', y='Present_Price', label=key, color=colors[key])\n",
    "\n",
    "    plt.show()"
   ]
  }
 ],
 "metadata": {
  "kernelspec": {
   "display_name": "Python 3 (ipykernel)",
   "language": "python",
   "name": "python3"
  },
  "language_info": {
   "codemirror_mode": {
    "name": "ipython",
    "version": 3
   },
   "file_extension": ".py",
   "mimetype": "text/x-python",
   "name": "python",
   "nbconvert_exporter": "python",
   "pygments_lexer": "ipython3",
   "version": "3.9.12"
  }
 },
 "nbformat": 4,
 "nbformat_minor": 5
}
