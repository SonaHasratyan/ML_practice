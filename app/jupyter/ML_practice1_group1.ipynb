{
 "cells": [
  {
   "cell_type": "markdown",
   "id": "5c3d2fd2",
   "metadata": {},
   "source": [
    "# Numpy"
   ]
  },
  {
   "cell_type": "markdown",
   "id": "b1194703",
   "metadata": {},
   "source": [
    "why to use numpy?"
   ]
  },
  {
   "cell_type": "code",
   "execution_count": 362,
   "id": "d2038b86",
   "metadata": {},
   "outputs": [],
   "source": [
    "import numpy as np"
   ]
  },
  {
   "cell_type": "markdown",
   "id": "265a635b",
   "metadata": {},
   "source": [
    "np.array vs python lists - what differences do you know?"
   ]
  },
  {
   "cell_type": "code",
   "execution_count": 363,
   "id": "e587cf6d",
   "metadata": {},
   "outputs": [],
   "source": [
    "# 1-dimensonal array, or a vector\n",
    "a1 = np.array([1, 2, 3], dtype=np.float32)\n",
    "\n",
    "# 2-dimensional array, or a matrix\n",
    "a2 = np.array([[1, 2, 3],\n",
    "               [4, 5, 6]])\n",
    "\n",
    "# 3-dimensional array, or a matrix (sometimes, a tensor)\n",
    "a3 = np.array([[[1, 2, 3],\n",
    "                [4, 5, 6],\n",
    "                [7, 8, 9]],\n",
    "                [[10, 11, 12],\n",
    "                 [13, 14, 15],\n",
    "                 [16, 17, 18]]])"
   ]
  },
  {
   "cell_type": "code",
   "execution_count": 364,
   "id": "81d1e12f",
   "metadata": {},
   "outputs": [
    {
     "data": {
      "text/plain": "array([1., 2., 3.], dtype=float32)"
     },
     "execution_count": 364,
     "metadata": {},
     "output_type": "execute_result"
    }
   ],
   "source": [
    "a1"
   ]
  },
  {
   "cell_type": "code",
   "execution_count": 365,
   "id": "db6e9730",
   "metadata": {},
   "outputs": [
    {
     "data": {
      "text/plain": "((3,), 1, dtype('float32'), 3, numpy.ndarray)"
     },
     "execution_count": 365,
     "metadata": {},
     "output_type": "execute_result"
    }
   ],
   "source": [
    "a1.shape, a1.ndim, a1.dtype, a1.size, type(a1)"
   ]
  },
  {
   "cell_type": "markdown",
   "id": "0478d388",
   "metadata": {},
   "source": [
    "there are different ways to create a numpy array"
   ]
  },
  {
   "cell_type": "code",
   "execution_count": 366,
   "id": "08c5ba5b",
   "metadata": {},
   "outputs": [],
   "source": [
    "# np.array() - converting from a list\n",
    "# np.ones() ; np.zeros() - creating array of a given shape \n",
    "# np.random.rand(5, 3) ; np.random.randint() - generating random numbers"
   ]
  },
  {
   "cell_type": "code",
   "execution_count": 367,
   "id": "727f962b",
   "metadata": {},
   "outputs": [
    {
     "data": {
      "text/plain": "array([1, 2, 3])"
     },
     "execution_count": 367,
     "metadata": {},
     "output_type": "execute_result"
    }
   ],
   "source": [
    "np.array([1,2,3])"
   ]
  },
  {
   "cell_type": "code",
   "execution_count": 368,
   "id": "85e98d27",
   "metadata": {},
   "outputs": [
    {
     "data": {
      "text/plain": "array([[0., 0., 0.],\n       [0., 0., 0.]])"
     },
     "execution_count": 368,
     "metadata": {},
     "output_type": "execute_result"
    }
   ],
   "source": [
    "np.zeros((2,3))"
   ]
  },
  {
   "cell_type": "code",
   "execution_count": 369,
   "id": "e477e8d8",
   "metadata": {},
   "outputs": [
    {
     "data": {
      "text/plain": "array([0., 0., 0.], dtype=float32)"
     },
     "execution_count": 369,
     "metadata": {},
     "output_type": "execute_result"
    }
   ],
   "source": [
    "np.zeros_like(a1)"
   ]
  },
  {
   "cell_type": "code",
   "execution_count": 370,
   "id": "c28686f0",
   "metadata": {
    "scrolled": true
   },
   "outputs": [
    {
     "data": {
      "text/plain": "array([[[9.48885537, 9.65632033, 8.08397348, 3.04613769, 0.97672114,\n         6.84233027, 4.40152494, 1.22038235, 4.9517691 , 0.34388521],\n        [9.09320402, 2.58779982, 6.62522284, 3.11711076, 5.20068021,\n         5.46710279, 1.84854456, 9.69584628, 7.75132823, 9.39498942],\n        [8.9482735 , 5.97899979, 9.21874235, 0.88492502, 1.95982862,\n         0.45227289, 3.25330331, 3.8867729 , 2.71349032, 8.28737509]],\n\n       [[3.56753327, 2.8093451 , 5.42696083, 1.40924225, 8.02196981,\n         0.74550644, 9.86886937, 7.72244769, 1.98715682, 0.05522117],\n        [8.15461428, 7.06857344, 7.29007168, 7.71270347, 0.74044652,\n         3.58465729, 1.1586906 , 8.63103426, 6.23298127, 3.30898025],\n        [0.6355835 , 3.10982322, 3.25183322, 7.29606178, 6.37557471,\n         8.87212743, 4.72214925, 1.19594246, 7.13244787, 7.60785049]],\n\n       [[5.61277198, 7.7096718 , 4.93795596, 5.22732829, 4.27541018,\n         0.25419127, 1.07891427, 0.31429186, 6.36410411, 3.14355981],\n        [5.08570691, 9.07566474, 2.49292229, 4.10382923, 7.55551139,\n         2.28798165, 0.7697991 , 2.89751453, 1.61221287, 9.29697652],\n        [8.0812038 , 6.33403757, 8.7146059 , 8.03672077, 1.86570059,\n         8.92558998, 5.39342242, 8.07440155, 8.960913  , 3.18003475]],\n\n       [[1.10051925, 2.27935163, 4.27107789, 8.18014766, 8.60730583,\n         0.06952131, 5.10747303, 4.17411003, 2.2210781 , 1.19865367],\n        [3.37615171, 9.42909704, 3.23202932, 5.18790622, 7.03018959,\n         3.63629602, 9.71782083, 9.62447295, 2.51782296, 4.97248506],\n        [3.0087831 , 2.84840494, 0.36886947, 6.09564334, 5.02679023,\n         0.51478751, 2.78646464, 9.08265886, 2.39561891, 1.44894872]],\n\n       [[4.8945276 , 9.85650454, 2.42055272, 6.72135547, 7.61619615,\n         2.37637544, 7.28216349, 3.67783133, 6.32305831, 6.33529711],\n        [5.35774684, 0.9028977 , 8.35302496, 3.20780065, 1.8651851 ,\n         0.40775142, 5.90892943, 6.77564362, 0.16587829, 5.12093058],\n        [2.26495775, 6.4517279 , 1.74366429, 6.90937738, 3.86735346,\n         9.36729989, 1.37520944, 3.41066351, 1.13473521, 9.24693618]]])"
     },
     "execution_count": 370,
     "metadata": {},
     "output_type": "execute_result"
    }
   ],
   "source": [
    "np.random.rand(5,3,10)*10"
   ]
  },
  {
   "cell_type": "code",
   "execution_count": 473,
   "id": "14280528",
   "metadata": {},
   "outputs": [],
   "source": [
    "lll = np.random.randint(10, 15, size=(2,3), dtype=np.int64)"
   ]
  },
  {
   "cell_type": "code",
   "execution_count": 477,
   "outputs": [
    {
     "data": {
      "text/plain": "dtype('int64')"
     },
     "execution_count": 477,
     "metadata": {},
     "output_type": "execute_result"
    }
   ],
   "source": [
    "type(lll) == np.ndarray\n",
    "lll.dtype"
   ],
   "metadata": {
    "collapsed": false
   }
  },
  {
   "cell_type": "code",
   "execution_count": 372,
   "id": "cabd5fd3",
   "metadata": {},
   "outputs": [
    {
     "data": {
      "text/plain": "1"
     },
     "execution_count": 372,
     "metadata": {},
     "output_type": "execute_result"
    }
   ],
   "source": [
    "np.random.choice([1,2,3])"
   ]
  },
  {
   "cell_type": "markdown",
   "id": "139fa33c",
   "metadata": {},
   "source": [
    "what is np.random.seed()  ?"
   ]
  },
  {
   "cell_type": "code",
   "execution_count": 373,
   "id": "b3e2d565",
   "metadata": {},
   "outputs": [
    {
     "data": {
      "text/plain": "'1.21.4'"
     },
     "execution_count": 373,
     "metadata": {},
     "output_type": "execute_result"
    }
   ],
   "source": [
    "np.__version__"
   ]
  },
  {
   "cell_type": "code",
   "execution_count": 374,
   "id": "e6fda82e",
   "metadata": {},
   "outputs": [
    {
     "name": "stdout",
     "output_type": "stream",
     "text": [
      "[[0.37454012 0.95071431 0.73199394]\n",
      " [0.59865848 0.15601864 0.15599452]]\n"
     ]
    },
    {
     "data": {
      "text/plain": "array([[0.05808361, 0.86617615, 0.60111501],\n       [0.70807258, 0.02058449, 0.96990985]])"
     },
     "execution_count": 374,
     "metadata": {},
     "output_type": "execute_result"
    }
   ],
   "source": [
    "np.random.seed(42)\n",
    "print(np.random.rand(2,3))\n",
    "np.random.rand(2,3)"
   ]
  },
  {
   "cell_type": "code",
   "execution_count": 375,
   "id": "d642f429",
   "metadata": {},
   "outputs": [
    {
     "data": {
      "text/plain": "array([[0.37454012, 0.95071431, 0.73199394],\n       [0.59865848, 0.15601864, 0.15599452]])"
     },
     "execution_count": 375,
     "metadata": {},
     "output_type": "execute_result"
    }
   ],
   "source": [
    "np.random.seed(42)\n",
    "np.random.rand(2,3)"
   ]
  },
  {
   "cell_type": "markdown",
   "id": "962fd334",
   "metadata": {},
   "source": [
    "slicing in numpy arrays"
   ]
  },
  {
   "cell_type": "code",
   "execution_count": 376,
   "id": "7467cccd",
   "metadata": {},
   "outputs": [
    {
     "data": {
      "text/plain": "array([[1, 2, 3],\n       [4, 5, 6]])"
     },
     "execution_count": 376,
     "metadata": {},
     "output_type": "execute_result"
    }
   ],
   "source": [
    "a2"
   ]
  },
  {
   "cell_type": "code",
   "execution_count": 377,
   "id": "e084fbc1",
   "metadata": {},
   "outputs": [
    {
     "data": {
      "text/plain": "5"
     },
     "execution_count": 377,
     "metadata": {},
     "output_type": "execute_result"
    }
   ],
   "source": [
    "a2[1, 1]"
   ]
  },
  {
   "cell_type": "code",
   "execution_count": 378,
   "id": "a48c1a04",
   "metadata": {},
   "outputs": [
    {
     "data": {
      "text/plain": "5"
     },
     "execution_count": 378,
     "metadata": {},
     "output_type": "execute_result"
    }
   ],
   "source": [
    "a2[1][1]"
   ]
  },
  {
   "cell_type": "code",
   "execution_count": 379,
   "id": "1a2ac836",
   "metadata": {},
   "outputs": [
    {
     "data": {
      "text/plain": "array([[1, 2, 3]])"
     },
     "execution_count": 379,
     "metadata": {},
     "output_type": "execute_result"
    }
   ],
   "source": [
    "a2[:1]"
   ]
  },
  {
   "cell_type": "code",
   "execution_count": 380,
   "id": "f56f7bab",
   "metadata": {},
   "outputs": [
    {
     "data": {
      "text/plain": "array([1, 2, 3])"
     },
     "execution_count": 380,
     "metadata": {},
     "output_type": "execute_result"
    }
   ],
   "source": [
    "np.squeeze(a2[:1])"
   ]
  },
  {
   "cell_type": "markdown",
   "id": "b4d14495",
   "metadata": {},
   "source": [
    "Most mathematical functions are implemented both as methods of Numpy and as methods of Numpy object"
   ]
  },
  {
   "cell_type": "code",
   "execution_count": 381,
   "id": "9abbb7dd",
   "metadata": {},
   "outputs": [
    {
     "data": {
      "text/plain": "3.5"
     },
     "execution_count": 381,
     "metadata": {},
     "output_type": "execute_result"
    }
   ],
   "source": [
    "a2.mean()"
   ]
  },
  {
   "cell_type": "code",
   "execution_count": 382,
   "id": "c735348d",
   "metadata": {},
   "outputs": [
    {
     "data": {
      "text/plain": "3.5"
     },
     "execution_count": 382,
     "metadata": {},
     "output_type": "execute_result"
    }
   ],
   "source": [
    "np.mean(a2)"
   ]
  },
  {
   "cell_type": "code",
   "execution_count": 383,
   "id": "a384c8c7",
   "metadata": {},
   "outputs": [
    {
     "data": {
      "text/plain": "array([2.5, 3.5, 4.5])"
     },
     "execution_count": 383,
     "metadata": {},
     "output_type": "execute_result"
    }
   ],
   "source": [
    "a2.mean(axis=0)"
   ]
  },
  {
   "cell_type": "code",
   "execution_count": 384,
   "id": "a10d95ef",
   "metadata": {},
   "outputs": [
    {
     "data": {
      "text/plain": "array([2., 5.])"
     },
     "execution_count": 384,
     "metadata": {},
     "output_type": "execute_result"
    }
   ],
   "source": [
    "a2.mean(axis=1)"
   ]
  },
  {
   "cell_type": "code",
   "execution_count": 385,
   "id": "3a0f0945",
   "metadata": {},
   "outputs": [],
   "source": [
    "# np.mean(); np.sum(); np.min(); np.max()"
   ]
  },
  {
   "cell_type": "code",
   "execution_count": 386,
   "id": "36c9cb34",
   "metadata": {},
   "outputs": [
    {
     "data": {
      "text/plain": "array([[1, 4],\n       [2, 5],\n       [3, 6]])"
     },
     "execution_count": 386,
     "metadata": {},
     "output_type": "execute_result"
    }
   ],
   "source": [
    "a2.T"
   ]
  },
  {
   "cell_type": "markdown",
   "id": "f1c607d7",
   "metadata": {},
   "source": [
    "##### Broadcasting"
   ]
  },
  {
   "cell_type": "markdown",
   "id": "03691e78",
   "metadata": {},
   "source": [
    "Broadcasting is a feature of NumPy which performs an operation across multiple dimensions of data without replicating the data"
   ]
  },
  {
   "cell_type": "code",
   "execution_count": 387,
   "id": "0de21b61",
   "metadata": {},
   "outputs": [
    {
     "data": {
      "text/plain": "((3,), (2, 3), (2, 3, 3))"
     },
     "execution_count": 387,
     "metadata": {},
     "output_type": "execute_result"
    }
   ],
   "source": [
    "a1.shape, a2.shape, a3.shape"
   ]
  },
  {
   "cell_type": "code",
   "execution_count": 388,
   "id": "59e797bb",
   "metadata": {},
   "outputs": [
    {
     "data": {
      "text/plain": "array([1., 2., 3.], dtype=float32)"
     },
     "execution_count": 388,
     "metadata": {},
     "output_type": "execute_result"
    }
   ],
   "source": [
    "a1"
   ]
  },
  {
   "cell_type": "code",
   "execution_count": 389,
   "id": "4961c386",
   "metadata": {},
   "outputs": [
    {
     "data": {
      "text/plain": "array([[1, 2, 3],\n       [4, 5, 6]])"
     },
     "execution_count": 389,
     "metadata": {},
     "output_type": "execute_result"
    }
   ],
   "source": [
    "a2"
   ]
  },
  {
   "cell_type": "code",
   "execution_count": 390,
   "id": "80de14b8",
   "metadata": {},
   "outputs": [
    {
     "data": {
      "text/plain": "array([[[ 1,  2,  3],\n        [ 4,  5,  6],\n        [ 7,  8,  9]],\n\n       [[10, 11, 12],\n        [13, 14, 15],\n        [16, 17, 18]]])"
     },
     "execution_count": 390,
     "metadata": {},
     "output_type": "execute_result"
    }
   ],
   "source": [
    "a3"
   ]
  },
  {
   "cell_type": "code",
   "execution_count": 391,
   "id": "e3731c29",
   "metadata": {},
   "outputs": [
    {
     "data": {
      "text/plain": "array([[ 1.,  4.,  9.],\n       [ 4., 10., 18.]])"
     },
     "execution_count": 391,
     "metadata": {},
     "output_type": "execute_result"
    }
   ],
   "source": [
    "a1*a2"
   ]
  },
  {
   "cell_type": "code",
   "execution_count": 392,
   "id": "efecde34",
   "metadata": {},
   "outputs": [],
   "source": [
    "a4 = np.random.rand(2,2,3)\n"
   ]
  },
  {
   "cell_type": "code",
   "execution_count": 393,
   "outputs": [
    {
     "data": {
      "text/plain": "array([[[0.05808361, 0.86617615, 0.60111501],\n        [0.70807258, 0.02058449, 0.96990985]],\n\n       [[0.83244264, 0.21233911, 0.18182497],\n        [0.18340451, 0.30424224, 0.52475643]]])"
     },
     "execution_count": 393,
     "metadata": {},
     "output_type": "execute_result"
    }
   ],
   "source": [
    "a4"
   ],
   "metadata": {
    "collapsed": false
   }
  },
  {
   "cell_type": "code",
   "execution_count": 394,
   "id": "ac846f11",
   "metadata": {},
   "outputs": [],
   "source": [
    "# a2*a3"
   ]
  },
  {
   "cell_type": "code",
   "execution_count": 395,
   "id": "bf609398",
   "metadata": {},
   "outputs": [
    {
     "data": {
      "text/plain": "array([[[0.05808361, 1.73235229, 1.80334504],\n        [2.83229031, 0.10292247, 5.81945911]],\n\n       [[0.83244264, 0.42467822, 0.5454749 ],\n        [0.73361804, 1.52121121, 3.14853859]]])"
     },
     "execution_count": 395,
     "metadata": {},
     "output_type": "execute_result"
    }
   ],
   "source": [
    "a2*a4"
   ]
  },
  {
   "cell_type": "markdown",
   "id": "af23919a",
   "metadata": {},
   "source": [
    "##### Reshaping"
   ]
  },
  {
   "cell_type": "markdown",
   "id": "5e7f10c6",
   "metadata": {},
   "source": [
    "You can reshape your np.array to any possible shape (but be carefull to get what you really want)"
   ]
  },
  {
   "cell_type": "code",
   "execution_count": 396,
   "id": "9a3fa638",
   "metadata": {},
   "outputs": [
    {
     "data": {
      "text/plain": "(2, 3)"
     },
     "execution_count": 396,
     "metadata": {},
     "output_type": "execute_result"
    }
   ],
   "source": [
    "a2.shape"
   ]
  },
  {
   "cell_type": "code",
   "execution_count": 397,
   "id": "84be00ae",
   "metadata": {},
   "outputs": [
    {
     "data": {
      "text/plain": "array([[1, 2, 3],\n       [4, 5, 6]])"
     },
     "execution_count": 397,
     "metadata": {},
     "output_type": "execute_result"
    }
   ],
   "source": [
    "a2"
   ]
  },
  {
   "cell_type": "code",
   "execution_count": 398,
   "id": "2eb59b0e",
   "metadata": {},
   "outputs": [
    {
     "data": {
      "text/plain": "array([[1, 2],\n       [3, 4],\n       [5, 6]])"
     },
     "execution_count": 398,
     "metadata": {},
     "output_type": "execute_result"
    }
   ],
   "source": [
    "a2.reshape((3,2))"
   ]
  },
  {
   "cell_type": "code",
   "execution_count": 399,
   "id": "cdaa78ba",
   "metadata": {},
   "outputs": [
    {
     "data": {
      "text/plain": "array([[1, 4],\n       [2, 5],\n       [3, 6]])"
     },
     "execution_count": 399,
     "metadata": {},
     "output_type": "execute_result"
    }
   ],
   "source": [
    "a2.T"
   ]
  },
  {
   "cell_type": "code",
   "execution_count": 400,
   "id": "da1933d4",
   "metadata": {},
   "outputs": [
    {
     "data": {
      "text/plain": "array([1, 2, 3, 4, 5, 6])"
     },
     "execution_count": 400,
     "metadata": {},
     "output_type": "execute_result"
    }
   ],
   "source": [
    "a2.reshape(-1)"
   ]
  },
  {
   "cell_type": "code",
   "execution_count": 401,
   "id": "53a3d4c3",
   "metadata": {},
   "outputs": [
    {
     "data": {
      "text/plain": "array([[1, 2],\n       [3, 4],\n       [5, 6]])"
     },
     "execution_count": 401,
     "metadata": {},
     "output_type": "execute_result"
    }
   ],
   "source": [
    "a2.reshape((3,-1))"
   ]
  },
  {
   "cell_type": "markdown",
   "id": "0e3f9801",
   "metadata": {},
   "source": [
    "##### sorting"
   ]
  },
  {
   "cell_type": "markdown",
   "id": "9ec0b607",
   "metadata": {},
   "source": [
    "np.sort() vs np.argsort()"
   ]
  },
  {
   "cell_type": "code",
   "execution_count": 402,
   "id": "ea10fbf1",
   "metadata": {},
   "outputs": [
    {
     "data": {
      "text/plain": "array([0, 1, 2])"
     },
     "execution_count": 402,
     "metadata": {},
     "output_type": "execute_result"
    }
   ],
   "source": [
    "np.sort([1,2,0])"
   ]
  },
  {
   "cell_type": "code",
   "execution_count": 403,
   "id": "4678797e",
   "metadata": {},
   "outputs": [
    {
     "data": {
      "text/plain": "array([2, 0, 1])"
     },
     "execution_count": 403,
     "metadata": {},
     "output_type": "execute_result"
    }
   ],
   "source": [
    "np.argsort([1,2,0])"
   ]
  },
  {
   "cell_type": "code",
   "execution_count": 404,
   "id": "42fd3cdb",
   "metadata": {},
   "outputs": [
    {
     "data": {
      "text/plain": "array([[[ 1,  2,  3],\n        [ 4,  5,  6],\n        [ 7,  8,  9]],\n\n       [[10, 11, 12],\n        [13, 14, 15],\n        [16, 17, 18]]])"
     },
     "execution_count": 404,
     "metadata": {},
     "output_type": "execute_result"
    }
   ],
   "source": [
    "a3"
   ]
  },
  {
   "cell_type": "code",
   "execution_count": 405,
   "id": "1b6355b5",
   "metadata": {},
   "outputs": [
    {
     "data": {
      "text/plain": "1"
     },
     "execution_count": 405,
     "metadata": {},
     "output_type": "execute_result"
    }
   ],
   "source": [
    "a3.min()"
   ]
  },
  {
   "cell_type": "code",
   "execution_count": 406,
   "id": "d94dce59",
   "metadata": {},
   "outputs": [
    {
     "data": {
      "text/plain": "0"
     },
     "execution_count": 406,
     "metadata": {},
     "output_type": "execute_result"
    }
   ],
   "source": [
    "a3.argmin()"
   ]
  },
  {
   "cell_type": "code",
   "execution_count": 407,
   "id": "5b351a7a",
   "metadata": {},
   "outputs": [
    {
     "data": {
      "text/plain": "array([[1, 2, 3],\n       [4, 5, 6]])"
     },
     "execution_count": 407,
     "metadata": {},
     "output_type": "execute_result"
    }
   ],
   "source": [
    "a2"
   ]
  },
  {
   "cell_type": "code",
   "execution_count": 408,
   "outputs": [
    {
     "data": {
      "text/plain": "3"
     },
     "execution_count": 408,
     "metadata": {},
     "output_type": "execute_result"
    }
   ],
   "source": [
    "len(a2[0])"
   ],
   "metadata": {
    "collapsed": false
   }
  },
  {
   "cell_type": "markdown",
   "id": "e6f6a6fe",
   "metadata": {},
   "source": [
    "##### Linear Algebra"
   ]
  },
  {
   "cell_type": "markdown",
   "id": "1f0cf431",
   "metadata": {},
   "source": [
    "all operations needed are much easier in numpy"
   ]
  },
  {
   "cell_type": "code",
   "execution_count": 409,
   "id": "4fe39391",
   "metadata": {},
   "outputs": [
    {
     "data": {
      "text/plain": "array([[14, 32],\n       [32, 77]])"
     },
     "execution_count": 409,
     "metadata": {},
     "output_type": "execute_result"
    }
   ],
   "source": [
    "# this is matrix multiplication in numpy\n",
    "a2.dot(a2.T) # or np.dot(a2, a2.T)"
   ]
  },
  {
   "cell_type": "code",
   "execution_count": 410,
   "id": "c3908f2d",
   "metadata": {},
   "outputs": [
    {
     "data": {
      "text/plain": "array([[14, 32],\n       [32, 77]])"
     },
     "execution_count": 410,
     "metadata": {},
     "output_type": "execute_result"
    }
   ],
   "source": [
    "a2 @ a2.T"
   ]
  },
  {
   "cell_type": "code",
   "execution_count": 411,
   "id": "6237ae85",
   "metadata": {},
   "outputs": [],
   "source": [
    "# mtrx_mult(a2, a2.T) == a2.dot(a2.T)"
   ]
  },
  {
   "cell_type": "code",
   "execution_count": 412,
   "id": "9156907d",
   "metadata": {},
   "outputs": [],
   "source": [
    "# implement matrix multiplication in pure python\n",
    "\n",
    "def mtrx_mult(m1, m2):\n",
    "    final = []\n",
    "    for i in range(len(m1)):\n",
    "        new_row = []\n",
    "        for j in range(len(m2[0])):\n",
    "            s = 0\n",
    "            for k in range(len(m2)):\n",
    "                s += m1[i][k] * m2[k][j]\n",
    "            new_row.append(s)\n",
    "        final.append(new_row)\n",
    "    return final\n",
    "\n",
    "assert (mtrx_mult(a2, a2.T) == a2.dot(a2.T)).all()"
   ]
  },
  {
   "cell_type": "code",
   "execution_count": 413,
   "id": "ecd0c47c",
   "metadata": {},
   "outputs": [],
   "source": [
    "a6 = np.random.rand(3,3)\n",
    "a7 = np.random.rand(3,2)"
   ]
  },
  {
   "cell_type": "code",
   "execution_count": 414,
   "id": "14f3b006",
   "metadata": {},
   "outputs": [
    {
     "data": {
      "text/plain": "[[0.3399843965433409, 0.47262729231632383],\n [0.14777631887306647, 0.28396159406048604],\n [0.3050478364015601, 0.7602012138587388]]"
     },
     "execution_count": 414,
     "metadata": {},
     "output_type": "execute_result"
    }
   ],
   "source": [
    "mtrx_mult(a6, a7)"
   ]
  },
  {
   "cell_type": "code",
   "execution_count": 415,
   "id": "95bd020e",
   "metadata": {},
   "outputs": [
    {
     "data": {
      "text/plain": "array([[0.3399844 , 0.47262729],\n       [0.14777632, 0.28396159],\n       [0.30504784, 0.76020121]])"
     },
     "execution_count": 415,
     "metadata": {},
     "output_type": "execute_result"
    }
   ],
   "source": [
    "a6.dot(a7)"
   ]
  },
  {
   "cell_type": "code",
   "execution_count": 416,
   "id": "40d59321",
   "metadata": {},
   "outputs": [],
   "source": [
    "import numpy.linalg as linalg"
   ]
  },
  {
   "cell_type": "code",
   "execution_count": 417,
   "id": "6ce4c980",
   "metadata": {},
   "outputs": [],
   "source": [
    "# linalg.eigvals\n",
    "# linalg.det\n",
    "# linalg.inv\n",
    "# linalg.solve"
   ]
  },
  {
   "cell_type": "markdown",
   "id": "bc6183ea",
   "metadata": {},
   "source": [
    "##### Statistics"
   ]
  },
  {
   "cell_type": "code",
   "execution_count": 418,
   "id": "61e01a09",
   "metadata": {},
   "outputs": [],
   "source": [
    "# np.mean(); np.var(); np.std()"
   ]
  },
  {
   "cell_type": "code",
   "execution_count": 419,
   "id": "e03bba47",
   "metadata": {},
   "outputs": [],
   "source": [
    "a5 = np.array([10,14,20])"
   ]
  },
  {
   "cell_type": "code",
   "execution_count": 420,
   "outputs": [
    {
     "data": {
      "text/plain": "14.666666666666666"
     },
     "execution_count": 420,
     "metadata": {},
     "output_type": "execute_result"
    }
   ],
   "source": [
    "np.mean(a5)"
   ],
   "metadata": {
    "collapsed": false
   }
  },
  {
   "cell_type": "code",
   "execution_count": 421,
   "outputs": [
    {
     "data": {
      "text/plain": "14.0"
     },
     "execution_count": 421,
     "metadata": {},
     "output_type": "execute_result"
    }
   ],
   "source": [
    "np.median(a5)"
   ],
   "metadata": {
    "collapsed": false
   }
  },
  {
   "cell_type": "code",
   "execution_count": 422,
   "id": "7c94a44e",
   "metadata": {},
   "outputs": [
    {
     "data": {
      "text/plain": "16.88888888888889"
     },
     "execution_count": 422,
     "metadata": {},
     "output_type": "execute_result"
    }
   ],
   "source": [
    "np.var(a5)"
   ]
  },
  {
   "cell_type": "code",
   "execution_count": 423,
   "id": "0533be5c",
   "metadata": {},
   "outputs": [
    {
     "data": {
      "text/plain": "16.888888888888914"
     },
     "execution_count": 423,
     "metadata": {},
     "output_type": "execute_result"
    }
   ],
   "source": [
    "np.mean(a5**2) - np.mean(a5)**2"
   ]
  },
  {
   "cell_type": "code",
   "execution_count": 424,
   "id": "f1fca3ad",
   "metadata": {},
   "outputs": [],
   "source": [
    "# lets calculate variance by its definition"
   ]
  },
  {
   "cell_type": "markdown",
   "id": "5c5e4480",
   "metadata": {},
   "source": [
    "You can generate random samples from different distributions. You can find the list here - https://numpy.org/doc/1.16/reference/routines.random.html"
   ]
  },
  {
   "cell_type": "markdown",
   "id": "95819cab",
   "metadata": {},
   "source": [
    "# Pandas"
   ]
  },
  {
   "cell_type": "markdown",
   "id": "10dfaddc",
   "metadata": {},
   "source": [
    "why to use pandas?"
   ]
  },
  {
   "cell_type": "code",
   "execution_count": 425,
   "id": "5d05bfda",
   "metadata": {},
   "outputs": [],
   "source": [
    "import pandas as pd"
   ]
  },
  {
   "cell_type": "markdown",
   "id": "2fd97492",
   "metadata": {},
   "source": [
    "##### pd.Series"
   ]
  },
  {
   "cell_type": "code",
   "execution_count": 426,
   "id": "2527428f",
   "metadata": {},
   "outputs": [],
   "source": [
    "clubs = pd.Series([\"Real\", \"PSG\", \"Liverpool\"])\n",
    "titles = pd.Series([35, 10, 1])"
   ]
  },
  {
   "cell_type": "code",
   "execution_count": 427,
   "id": "46c7314d",
   "metadata": {},
   "outputs": [
    {
     "data": {
      "text/plain": "0         Real\n1          PSG\n2    Liverpool\ndtype: object"
     },
     "execution_count": 427,
     "metadata": {},
     "output_type": "execute_result"
    }
   ],
   "source": [
    "clubs"
   ]
  },
  {
   "cell_type": "code",
   "execution_count": 428,
   "id": "1f364b46",
   "metadata": {},
   "outputs": [
    {
     "data": {
      "text/plain": "0    35\n1    10\n2     1\ndtype: int64"
     },
     "execution_count": 428,
     "metadata": {},
     "output_type": "execute_result"
    }
   ],
   "source": [
    "titles"
   ]
  },
  {
   "cell_type": "markdown",
   "id": "aee71500",
   "metadata": {},
   "source": [
    "##### pd.Dataframe"
   ]
  },
  {
   "cell_type": "code",
   "execution_count": 429,
   "id": "1fb55067",
   "metadata": {},
   "outputs": [],
   "source": [
    "club_data = pd.DataFrame({\"Club name\": clubs, \n",
    "                         \"Titles\": titles})"
   ]
  },
  {
   "cell_type": "code",
   "execution_count": 430,
   "id": "95c95476",
   "metadata": {},
   "outputs": [
    {
     "name": "stdout",
     "output_type": "stream",
     "text": [
      "   Club name  Titles\n",
      "0       Real      35\n",
      "1        PSG      10\n",
      "2  Liverpool       1\n"
     ]
    }
   ],
   "source": [
    "print(club_data)"
   ]
  },
  {
   "cell_type": "code",
   "execution_count": 431,
   "id": "30d50713",
   "metadata": {},
   "outputs": [
    {
     "data": {
      "text/plain": "   Club name  Titles\n0       Real      35\n1        PSG      10\n2  Liverpool       1",
      "text/html": "<div>\n<style scoped>\n    .dataframe tbody tr th:only-of-type {\n        vertical-align: middle;\n    }\n\n    .dataframe tbody tr th {\n        vertical-align: top;\n    }\n\n    .dataframe thead th {\n        text-align: right;\n    }\n</style>\n<table border=\"1\" class=\"dataframe\">\n  <thead>\n    <tr style=\"text-align: right;\">\n      <th></th>\n      <th>Club name</th>\n      <th>Titles</th>\n    </tr>\n  </thead>\n  <tbody>\n    <tr>\n      <th>0</th>\n      <td>Real</td>\n      <td>35</td>\n    </tr>\n    <tr>\n      <th>1</th>\n      <td>PSG</td>\n      <td>10</td>\n    </tr>\n    <tr>\n      <th>2</th>\n      <td>Liverpool</td>\n      <td>1</td>\n    </tr>\n  </tbody>\n</table>\n</div>"
     },
     "execution_count": 431,
     "metadata": {},
     "output_type": "execute_result"
    }
   ],
   "source": [
    "club_data"
   ]
  },
  {
   "cell_type": "code",
   "execution_count": 432,
   "id": "2981c722",
   "metadata": {},
   "outputs": [],
   "source": [
    "# common terms here - index, columns, rows, values (data)"
   ]
  },
  {
   "cell_type": "code",
   "execution_count": 433,
   "id": "ca9c578c",
   "metadata": {},
   "outputs": [],
   "source": [
    "df = pd.read_csv('car data.csv')"
   ]
  },
  {
   "cell_type": "code",
   "execution_count": 434,
   "id": "59955a5b",
   "metadata": {},
   "outputs": [
    {
     "data": {
      "text/plain": "    Car_Name  Year  Selling_Price  Present_Price  Kms_Driven Fuel_Type  \\\n0       ritz  2014           3.35           5.59       27000    Petrol   \n1        sx4  2013           4.75           9.54       43000    Diesel   \n2       ciaz  2017           7.25           9.85        6900    Petrol   \n3    wagon r  2011           2.85           4.15        5200    Petrol   \n4      swift  2014           4.60           6.87       42450    Diesel   \n..       ...   ...            ...            ...         ...       ...   \n296     city  2016           9.50          11.60       33988    Diesel   \n297     brio  2015           4.00           5.90       60000    Petrol   \n298     city  2009           3.35          11.00       87934    Petrol   \n299     city  2017          11.50          12.50        9000    Diesel   \n300     brio  2016           5.30           5.90        5464    Petrol   \n\n    Seller_Type Transmission  Owner  \n0        Dealer       Manual      0  \n1        Dealer       Manual      0  \n2        Dealer       Manual      0  \n3        Dealer       Manual      0  \n4        Dealer       Manual      0  \n..          ...          ...    ...  \n296      Dealer       Manual      0  \n297      Dealer       Manual      0  \n298      Dealer       Manual      0  \n299      Dealer       Manual      0  \n300      Dealer       Manual      0  \n\n[301 rows x 9 columns]",
      "text/html": "<div>\n<style scoped>\n    .dataframe tbody tr th:only-of-type {\n        vertical-align: middle;\n    }\n\n    .dataframe tbody tr th {\n        vertical-align: top;\n    }\n\n    .dataframe thead th {\n        text-align: right;\n    }\n</style>\n<table border=\"1\" class=\"dataframe\">\n  <thead>\n    <tr style=\"text-align: right;\">\n      <th></th>\n      <th>Car_Name</th>\n      <th>Year</th>\n      <th>Selling_Price</th>\n      <th>Present_Price</th>\n      <th>Kms_Driven</th>\n      <th>Fuel_Type</th>\n      <th>Seller_Type</th>\n      <th>Transmission</th>\n      <th>Owner</th>\n    </tr>\n  </thead>\n  <tbody>\n    <tr>\n      <th>0</th>\n      <td>ritz</td>\n      <td>2014</td>\n      <td>3.35</td>\n      <td>5.59</td>\n      <td>27000</td>\n      <td>Petrol</td>\n      <td>Dealer</td>\n      <td>Manual</td>\n      <td>0</td>\n    </tr>\n    <tr>\n      <th>1</th>\n      <td>sx4</td>\n      <td>2013</td>\n      <td>4.75</td>\n      <td>9.54</td>\n      <td>43000</td>\n      <td>Diesel</td>\n      <td>Dealer</td>\n      <td>Manual</td>\n      <td>0</td>\n    </tr>\n    <tr>\n      <th>2</th>\n      <td>ciaz</td>\n      <td>2017</td>\n      <td>7.25</td>\n      <td>9.85</td>\n      <td>6900</td>\n      <td>Petrol</td>\n      <td>Dealer</td>\n      <td>Manual</td>\n      <td>0</td>\n    </tr>\n    <tr>\n      <th>3</th>\n      <td>wagon r</td>\n      <td>2011</td>\n      <td>2.85</td>\n      <td>4.15</td>\n      <td>5200</td>\n      <td>Petrol</td>\n      <td>Dealer</td>\n      <td>Manual</td>\n      <td>0</td>\n    </tr>\n    <tr>\n      <th>4</th>\n      <td>swift</td>\n      <td>2014</td>\n      <td>4.60</td>\n      <td>6.87</td>\n      <td>42450</td>\n      <td>Diesel</td>\n      <td>Dealer</td>\n      <td>Manual</td>\n      <td>0</td>\n    </tr>\n    <tr>\n      <th>...</th>\n      <td>...</td>\n      <td>...</td>\n      <td>...</td>\n      <td>...</td>\n      <td>...</td>\n      <td>...</td>\n      <td>...</td>\n      <td>...</td>\n      <td>...</td>\n    </tr>\n    <tr>\n      <th>296</th>\n      <td>city</td>\n      <td>2016</td>\n      <td>9.50</td>\n      <td>11.60</td>\n      <td>33988</td>\n      <td>Diesel</td>\n      <td>Dealer</td>\n      <td>Manual</td>\n      <td>0</td>\n    </tr>\n    <tr>\n      <th>297</th>\n      <td>brio</td>\n      <td>2015</td>\n      <td>4.00</td>\n      <td>5.90</td>\n      <td>60000</td>\n      <td>Petrol</td>\n      <td>Dealer</td>\n      <td>Manual</td>\n      <td>0</td>\n    </tr>\n    <tr>\n      <th>298</th>\n      <td>city</td>\n      <td>2009</td>\n      <td>3.35</td>\n      <td>11.00</td>\n      <td>87934</td>\n      <td>Petrol</td>\n      <td>Dealer</td>\n      <td>Manual</td>\n      <td>0</td>\n    </tr>\n    <tr>\n      <th>299</th>\n      <td>city</td>\n      <td>2017</td>\n      <td>11.50</td>\n      <td>12.50</td>\n      <td>9000</td>\n      <td>Diesel</td>\n      <td>Dealer</td>\n      <td>Manual</td>\n      <td>0</td>\n    </tr>\n    <tr>\n      <th>300</th>\n      <td>brio</td>\n      <td>2016</td>\n      <td>5.30</td>\n      <td>5.90</td>\n      <td>5464</td>\n      <td>Petrol</td>\n      <td>Dealer</td>\n      <td>Manual</td>\n      <td>0</td>\n    </tr>\n  </tbody>\n</table>\n<p>301 rows × 9 columns</p>\n</div>"
     },
     "execution_count": 434,
     "metadata": {},
     "output_type": "execute_result"
    }
   ],
   "source": [
    "df"
   ]
  },
  {
   "cell_type": "markdown",
   "id": "a6f1c9dc",
   "metadata": {},
   "source": [
    "##### slicing"
   ]
  },
  {
   "cell_type": "code",
   "execution_count": 435,
   "id": "ebc3bd61",
   "metadata": {},
   "outputs": [
    {
     "data": {
      "text/plain": "0      2014\n1      2013\n2      2017\n3      2011\n4      2014\n       ... \n296    2016\n297    2015\n298    2009\n299    2017\n300    2016\nName: Year, Length: 301, dtype: int64"
     },
     "execution_count": 435,
     "metadata": {},
     "output_type": "execute_result"
    }
   ],
   "source": [
    "df['Year']"
   ]
  },
  {
   "cell_type": "code",
   "execution_count": 436,
   "id": "cb47f0b3",
   "metadata": {},
   "outputs": [],
   "source": [
    "# df['Kms_Driven', 'Present_Price'].head() # .tail()"
   ]
  },
  {
   "cell_type": "code",
   "execution_count": 437,
   "id": "05b4e42f",
   "metadata": {},
   "outputs": [
    {
     "data": {
      "text/plain": "   Kms_Driven  Present_Price\n0       27000           5.59\n1       43000           9.54\n2        6900           9.85\n3        5200           4.15\n4       42450           6.87",
      "text/html": "<div>\n<style scoped>\n    .dataframe tbody tr th:only-of-type {\n        vertical-align: middle;\n    }\n\n    .dataframe tbody tr th {\n        vertical-align: top;\n    }\n\n    .dataframe thead th {\n        text-align: right;\n    }\n</style>\n<table border=\"1\" class=\"dataframe\">\n  <thead>\n    <tr style=\"text-align: right;\">\n      <th></th>\n      <th>Kms_Driven</th>\n      <th>Present_Price</th>\n    </tr>\n  </thead>\n  <tbody>\n    <tr>\n      <th>0</th>\n      <td>27000</td>\n      <td>5.59</td>\n    </tr>\n    <tr>\n      <th>1</th>\n      <td>43000</td>\n      <td>9.54</td>\n    </tr>\n    <tr>\n      <th>2</th>\n      <td>6900</td>\n      <td>9.85</td>\n    </tr>\n    <tr>\n      <th>3</th>\n      <td>5200</td>\n      <td>4.15</td>\n    </tr>\n    <tr>\n      <th>4</th>\n      <td>42450</td>\n      <td>6.87</td>\n    </tr>\n  </tbody>\n</table>\n</div>"
     },
     "execution_count": 437,
     "metadata": {},
     "output_type": "execute_result"
    }
   ],
   "source": [
    "df[['Kms_Driven', 'Present_Price']].head() # .tail()"
   ]
  },
  {
   "cell_type": "code",
   "execution_count": 438,
   "id": "1f9158af",
   "metadata": {},
   "outputs": [
    {
     "data": {
      "text/plain": "        Car_Name  Year  Selling_Price  Present_Price  Kms_Driven Fuel_Type  \\\n2           ciaz  2017           7.25           9.85        6900    Petrol   \n3        wagon r  2011           2.85           4.15        5200    Petrol   \n4          swift  2014           4.60           6.87       42450    Diesel   \n5  vitara brezza  2018           9.25           9.83        2071    Diesel   \n\n  Seller_Type Transmission  Owner  \n2      Dealer       Manual      0  \n3      Dealer       Manual      0  \n4      Dealer       Manual      0  \n5      Dealer       Manual      0  ",
      "text/html": "<div>\n<style scoped>\n    .dataframe tbody tr th:only-of-type {\n        vertical-align: middle;\n    }\n\n    .dataframe tbody tr th {\n        vertical-align: top;\n    }\n\n    .dataframe thead th {\n        text-align: right;\n    }\n</style>\n<table border=\"1\" class=\"dataframe\">\n  <thead>\n    <tr style=\"text-align: right;\">\n      <th></th>\n      <th>Car_Name</th>\n      <th>Year</th>\n      <th>Selling_Price</th>\n      <th>Present_Price</th>\n      <th>Kms_Driven</th>\n      <th>Fuel_Type</th>\n      <th>Seller_Type</th>\n      <th>Transmission</th>\n      <th>Owner</th>\n    </tr>\n  </thead>\n  <tbody>\n    <tr>\n      <th>2</th>\n      <td>ciaz</td>\n      <td>2017</td>\n      <td>7.25</td>\n      <td>9.85</td>\n      <td>6900</td>\n      <td>Petrol</td>\n      <td>Dealer</td>\n      <td>Manual</td>\n      <td>0</td>\n    </tr>\n    <tr>\n      <th>3</th>\n      <td>wagon r</td>\n      <td>2011</td>\n      <td>2.85</td>\n      <td>4.15</td>\n      <td>5200</td>\n      <td>Petrol</td>\n      <td>Dealer</td>\n      <td>Manual</td>\n      <td>0</td>\n    </tr>\n    <tr>\n      <th>4</th>\n      <td>swift</td>\n      <td>2014</td>\n      <td>4.60</td>\n      <td>6.87</td>\n      <td>42450</td>\n      <td>Diesel</td>\n      <td>Dealer</td>\n      <td>Manual</td>\n      <td>0</td>\n    </tr>\n    <tr>\n      <th>5</th>\n      <td>vitara brezza</td>\n      <td>2018</td>\n      <td>9.25</td>\n      <td>9.83</td>\n      <td>2071</td>\n      <td>Diesel</td>\n      <td>Dealer</td>\n      <td>Manual</td>\n      <td>0</td>\n    </tr>\n  </tbody>\n</table>\n</div>"
     },
     "execution_count": 438,
     "metadata": {},
     "output_type": "execute_result"
    }
   ],
   "source": [
    "df.loc[2:5]"
   ]
  },
  {
   "cell_type": "code",
   "execution_count": 439,
   "id": "8535660c",
   "metadata": {},
   "outputs": [
    {
     "data": {
      "text/plain": "  Car_Name  Year  Selling_Price  Present_Price  Kms_Driven Fuel_Type  \\\n2     ciaz  2017           7.25           9.85        6900    Petrol   \n3  wagon r  2011           2.85           4.15        5200    Petrol   \n4    swift  2014           4.60           6.87       42450    Diesel   \n\n  Seller_Type Transmission  Owner  \n2      Dealer       Manual      0  \n3      Dealer       Manual      0  \n4      Dealer       Manual      0  ",
      "text/html": "<div>\n<style scoped>\n    .dataframe tbody tr th:only-of-type {\n        vertical-align: middle;\n    }\n\n    .dataframe tbody tr th {\n        vertical-align: top;\n    }\n\n    .dataframe thead th {\n        text-align: right;\n    }\n</style>\n<table border=\"1\" class=\"dataframe\">\n  <thead>\n    <tr style=\"text-align: right;\">\n      <th></th>\n      <th>Car_Name</th>\n      <th>Year</th>\n      <th>Selling_Price</th>\n      <th>Present_Price</th>\n      <th>Kms_Driven</th>\n      <th>Fuel_Type</th>\n      <th>Seller_Type</th>\n      <th>Transmission</th>\n      <th>Owner</th>\n    </tr>\n  </thead>\n  <tbody>\n    <tr>\n      <th>2</th>\n      <td>ciaz</td>\n      <td>2017</td>\n      <td>7.25</td>\n      <td>9.85</td>\n      <td>6900</td>\n      <td>Petrol</td>\n      <td>Dealer</td>\n      <td>Manual</td>\n      <td>0</td>\n    </tr>\n    <tr>\n      <th>3</th>\n      <td>wagon r</td>\n      <td>2011</td>\n      <td>2.85</td>\n      <td>4.15</td>\n      <td>5200</td>\n      <td>Petrol</td>\n      <td>Dealer</td>\n      <td>Manual</td>\n      <td>0</td>\n    </tr>\n    <tr>\n      <th>4</th>\n      <td>swift</td>\n      <td>2014</td>\n      <td>4.60</td>\n      <td>6.87</td>\n      <td>42450</td>\n      <td>Diesel</td>\n      <td>Dealer</td>\n      <td>Manual</td>\n      <td>0</td>\n    </tr>\n  </tbody>\n</table>\n</div>"
     },
     "execution_count": 439,
     "metadata": {},
     "output_type": "execute_result"
    }
   ],
   "source": [
    "df.iloc[2:5]"
   ]
  },
  {
   "cell_type": "code",
   "execution_count": 468,
   "id": "45bc3815",
   "metadata": {},
   "outputs": [],
   "source": [
    "df = df.set_index('Present_Price')"
   ]
  },
  {
   "cell_type": "code",
   "execution_count": 467,
   "outputs": [],
   "source": [
    "# df = df.reset_index()"
   ],
   "metadata": {
    "collapsed": false
   }
  },
  {
   "cell_type": "code",
   "execution_count": 469,
   "id": "581a44fb",
   "metadata": {},
   "outputs": [
    {
     "data": {
      "text/plain": "              Car_Name  Year  Selling_Price  Kms_Driven Fuel_Type Seller_Type  \\\nPresent_Price                                                                   \n5.59              ritz  2014           3.35       27000    Petrol      Dealer   \n9.54               sx4  2013           4.75       43000    Diesel      Dealer   \n9.85              ciaz  2017           7.25        6900    Petrol      Dealer   \n4.15           wagon r  2011           2.85        5200    Petrol      Dealer   \n6.87             swift  2014           4.60       42450    Diesel      Dealer   \n\n              Transmission  Owner  \nPresent_Price                      \n5.59                Manual      0  \n9.54                Manual      0  \n9.85                Manual      0  \n4.15                Manual      0  \n6.87                Manual      0  ",
      "text/html": "<div>\n<style scoped>\n    .dataframe tbody tr th:only-of-type {\n        vertical-align: middle;\n    }\n\n    .dataframe tbody tr th {\n        vertical-align: top;\n    }\n\n    .dataframe thead th {\n        text-align: right;\n    }\n</style>\n<table border=\"1\" class=\"dataframe\">\n  <thead>\n    <tr style=\"text-align: right;\">\n      <th></th>\n      <th>Car_Name</th>\n      <th>Year</th>\n      <th>Selling_Price</th>\n      <th>Kms_Driven</th>\n      <th>Fuel_Type</th>\n      <th>Seller_Type</th>\n      <th>Transmission</th>\n      <th>Owner</th>\n    </tr>\n    <tr>\n      <th>Present_Price</th>\n      <th></th>\n      <th></th>\n      <th></th>\n      <th></th>\n      <th></th>\n      <th></th>\n      <th></th>\n      <th></th>\n    </tr>\n  </thead>\n  <tbody>\n    <tr>\n      <th>5.59</th>\n      <td>ritz</td>\n      <td>2014</td>\n      <td>3.35</td>\n      <td>27000</td>\n      <td>Petrol</td>\n      <td>Dealer</td>\n      <td>Manual</td>\n      <td>0</td>\n    </tr>\n    <tr>\n      <th>9.54</th>\n      <td>sx4</td>\n      <td>2013</td>\n      <td>4.75</td>\n      <td>43000</td>\n      <td>Diesel</td>\n      <td>Dealer</td>\n      <td>Manual</td>\n      <td>0</td>\n    </tr>\n    <tr>\n      <th>9.85</th>\n      <td>ciaz</td>\n      <td>2017</td>\n      <td>7.25</td>\n      <td>6900</td>\n      <td>Petrol</td>\n      <td>Dealer</td>\n      <td>Manual</td>\n      <td>0</td>\n    </tr>\n    <tr>\n      <th>4.15</th>\n      <td>wagon r</td>\n      <td>2011</td>\n      <td>2.85</td>\n      <td>5200</td>\n      <td>Petrol</td>\n      <td>Dealer</td>\n      <td>Manual</td>\n      <td>0</td>\n    </tr>\n    <tr>\n      <th>6.87</th>\n      <td>swift</td>\n      <td>2014</td>\n      <td>4.60</td>\n      <td>42450</td>\n      <td>Diesel</td>\n      <td>Dealer</td>\n      <td>Manual</td>\n      <td>0</td>\n    </tr>\n  </tbody>\n</table>\n</div>"
     },
     "execution_count": 469,
     "metadata": {},
     "output_type": "execute_result"
    }
   ],
   "source": [
    "df.head()"
   ]
  },
  {
   "cell_type": "code",
   "execution_count": 443,
   "id": "b0632e51",
   "metadata": {},
   "outputs": [
    {
     "data": {
      "text/plain": "              Car_Name  Year  Selling_Price  Kms_Driven Fuel_Type Seller_Type  \\\nPresent_Price                                                                   \n9.85              ciaz  2017           7.25        6900    Petrol      Dealer   \n4.15           wagon r  2011           2.85        5200    Petrol      Dealer   \n6.87             swift  2014           4.60       42450    Diesel      Dealer   \n\n              Transmission  Owner  \nPresent_Price                      \n9.85                Manual      0  \n4.15                Manual      0  \n6.87                Manual      0  ",
      "text/html": "<div>\n<style scoped>\n    .dataframe tbody tr th:only-of-type {\n        vertical-align: middle;\n    }\n\n    .dataframe tbody tr th {\n        vertical-align: top;\n    }\n\n    .dataframe thead th {\n        text-align: right;\n    }\n</style>\n<table border=\"1\" class=\"dataframe\">\n  <thead>\n    <tr style=\"text-align: right;\">\n      <th></th>\n      <th>Car_Name</th>\n      <th>Year</th>\n      <th>Selling_Price</th>\n      <th>Kms_Driven</th>\n      <th>Fuel_Type</th>\n      <th>Seller_Type</th>\n      <th>Transmission</th>\n      <th>Owner</th>\n    </tr>\n    <tr>\n      <th>Present_Price</th>\n      <th></th>\n      <th></th>\n      <th></th>\n      <th></th>\n      <th></th>\n      <th></th>\n      <th></th>\n      <th></th>\n    </tr>\n  </thead>\n  <tbody>\n    <tr>\n      <th>9.85</th>\n      <td>ciaz</td>\n      <td>2017</td>\n      <td>7.25</td>\n      <td>6900</td>\n      <td>Petrol</td>\n      <td>Dealer</td>\n      <td>Manual</td>\n      <td>0</td>\n    </tr>\n    <tr>\n      <th>4.15</th>\n      <td>wagon r</td>\n      <td>2011</td>\n      <td>2.85</td>\n      <td>5200</td>\n      <td>Petrol</td>\n      <td>Dealer</td>\n      <td>Manual</td>\n      <td>0</td>\n    </tr>\n    <tr>\n      <th>6.87</th>\n      <td>swift</td>\n      <td>2014</td>\n      <td>4.60</td>\n      <td>42450</td>\n      <td>Diesel</td>\n      <td>Dealer</td>\n      <td>Manual</td>\n      <td>0</td>\n    </tr>\n  </tbody>\n</table>\n</div>"
     },
     "execution_count": 443,
     "metadata": {},
     "output_type": "execute_result"
    }
   ],
   "source": [
    "df.iloc[2:5]"
   ]
  },
  {
   "cell_type": "code",
   "execution_count": 444,
   "id": "28947e35",
   "metadata": {},
   "outputs": [
    {
     "data": {
      "text/plain": "              Car_Name  Year  Selling_Price  Kms_Driven Fuel_Type Seller_Type  \\\nPresent_Price                                                                   \n4.15           wagon r  2011           2.85        5200    Petrol      Dealer   \n4.15           wagon r  2006           1.05       65000    Petrol      Dealer   \n\n              Transmission  Owner  \nPresent_Price                      \n4.15                Manual      0  \n4.15                Manual      0  ",
      "text/html": "<div>\n<style scoped>\n    .dataframe tbody tr th:only-of-type {\n        vertical-align: middle;\n    }\n\n    .dataframe tbody tr th {\n        vertical-align: top;\n    }\n\n    .dataframe thead th {\n        text-align: right;\n    }\n</style>\n<table border=\"1\" class=\"dataframe\">\n  <thead>\n    <tr style=\"text-align: right;\">\n      <th></th>\n      <th>Car_Name</th>\n      <th>Year</th>\n      <th>Selling_Price</th>\n      <th>Kms_Driven</th>\n      <th>Fuel_Type</th>\n      <th>Seller_Type</th>\n      <th>Transmission</th>\n      <th>Owner</th>\n    </tr>\n    <tr>\n      <th>Present_Price</th>\n      <th></th>\n      <th></th>\n      <th></th>\n      <th></th>\n      <th></th>\n      <th></th>\n      <th></th>\n      <th></th>\n    </tr>\n  </thead>\n  <tbody>\n    <tr>\n      <th>4.15</th>\n      <td>wagon r</td>\n      <td>2011</td>\n      <td>2.85</td>\n      <td>5200</td>\n      <td>Petrol</td>\n      <td>Dealer</td>\n      <td>Manual</td>\n      <td>0</td>\n    </tr>\n    <tr>\n      <th>4.15</th>\n      <td>wagon r</td>\n      <td>2006</td>\n      <td>1.05</td>\n      <td>65000</td>\n      <td>Petrol</td>\n      <td>Dealer</td>\n      <td>Manual</td>\n      <td>0</td>\n    </tr>\n  </tbody>\n</table>\n</div>"
     },
     "execution_count": 444,
     "metadata": {},
     "output_type": "execute_result"
    }
   ],
   "source": [
    "df.loc[4.15]"
   ]
  },
  {
   "cell_type": "code",
   "execution_count": 470,
   "id": "3a6e656d",
   "metadata": {},
   "outputs": [],
   "source": [
    "df.to_csv('car_data_upd.csv')"
   ]
  },
  {
   "cell_type": "code",
   "execution_count": 446,
   "id": "77162809",
   "metadata": {},
   "outputs": [],
   "source": [
    "df.to_csv('car_data_exp.csv', index=False)"
   ]
  },
  {
   "cell_type": "code",
   "execution_count": 447,
   "id": "dc1eb110",
   "metadata": {},
   "outputs": [
    {
     "data": {
      "text/plain": "Car_Name          object\nYear               int64\nSelling_Price    float64\nKms_Driven         int64\nFuel_Type         object\nSeller_Type       object\nTransmission      object\nOwner              int64\ndtype: object"
     },
     "execution_count": 447,
     "metadata": {},
     "output_type": "execute_result"
    }
   ],
   "source": [
    "df.dtypes"
   ]
  },
  {
   "cell_type": "code",
   "execution_count": 448,
   "id": "efe20c4d",
   "metadata": {},
   "outputs": [
    {
     "data": {
      "text/plain": "              Year  Selling_Price     Kms_Driven       Owner\ncount   301.000000     301.000000     301.000000  301.000000\nmean   2013.627907       4.661296   36947.205980    0.043189\nstd       2.891554       5.082812   38886.883882    0.247915\nmin    2003.000000       0.100000     500.000000    0.000000\n25%    2012.000000       0.900000   15000.000000    0.000000\n50%    2014.000000       3.600000   32000.000000    0.000000\n75%    2016.000000       6.000000   48767.000000    0.000000\nmax    2018.000000      35.000000  500000.000000    3.000000",
      "text/html": "<div>\n<style scoped>\n    .dataframe tbody tr th:only-of-type {\n        vertical-align: middle;\n    }\n\n    .dataframe tbody tr th {\n        vertical-align: top;\n    }\n\n    .dataframe thead th {\n        text-align: right;\n    }\n</style>\n<table border=\"1\" class=\"dataframe\">\n  <thead>\n    <tr style=\"text-align: right;\">\n      <th></th>\n      <th>Year</th>\n      <th>Selling_Price</th>\n      <th>Kms_Driven</th>\n      <th>Owner</th>\n    </tr>\n  </thead>\n  <tbody>\n    <tr>\n      <th>count</th>\n      <td>301.000000</td>\n      <td>301.000000</td>\n      <td>301.000000</td>\n      <td>301.000000</td>\n    </tr>\n    <tr>\n      <th>mean</th>\n      <td>2013.627907</td>\n      <td>4.661296</td>\n      <td>36947.205980</td>\n      <td>0.043189</td>\n    </tr>\n    <tr>\n      <th>std</th>\n      <td>2.891554</td>\n      <td>5.082812</td>\n      <td>38886.883882</td>\n      <td>0.247915</td>\n    </tr>\n    <tr>\n      <th>min</th>\n      <td>2003.000000</td>\n      <td>0.100000</td>\n      <td>500.000000</td>\n      <td>0.000000</td>\n    </tr>\n    <tr>\n      <th>25%</th>\n      <td>2012.000000</td>\n      <td>0.900000</td>\n      <td>15000.000000</td>\n      <td>0.000000</td>\n    </tr>\n    <tr>\n      <th>50%</th>\n      <td>2014.000000</td>\n      <td>3.600000</td>\n      <td>32000.000000</td>\n      <td>0.000000</td>\n    </tr>\n    <tr>\n      <th>75%</th>\n      <td>2016.000000</td>\n      <td>6.000000</td>\n      <td>48767.000000</td>\n      <td>0.000000</td>\n    </tr>\n    <tr>\n      <th>max</th>\n      <td>2018.000000</td>\n      <td>35.000000</td>\n      <td>500000.000000</td>\n      <td>3.000000</td>\n    </tr>\n  </tbody>\n</table>\n</div>"
     },
     "execution_count": 448,
     "metadata": {},
     "output_type": "execute_result"
    }
   ],
   "source": [
    "df.describe()"
   ]
  },
  {
   "cell_type": "code",
   "execution_count": 449,
   "id": "90487025",
   "metadata": {},
   "outputs": [
    {
     "name": "stdout",
     "output_type": "stream",
     "text": [
      "<class 'pandas.core.frame.DataFrame'>\n",
      "Float64Index: 301 entries, 5.59 to 5.9\n",
      "Data columns (total 8 columns):\n",
      " #   Column         Non-Null Count  Dtype  \n",
      "---  ------         --------------  -----  \n",
      " 0   Car_Name       301 non-null    object \n",
      " 1   Year           301 non-null    int64  \n",
      " 2   Selling_Price  301 non-null    float64\n",
      " 3   Kms_Driven     301 non-null    int64  \n",
      " 4   Fuel_Type      301 non-null    object \n",
      " 5   Seller_Type    301 non-null    object \n",
      " 6   Transmission   301 non-null    object \n",
      " 7   Owner          301 non-null    int64  \n",
      "dtypes: float64(1), int64(3), object(4)\n",
      "memory usage: 29.3+ KB\n"
     ]
    }
   ],
   "source": [
    "df.info()"
   ]
  },
  {
   "cell_type": "code",
   "execution_count": 450,
   "id": "a6517e47",
   "metadata": {},
   "outputs": [
    {
     "data": {
      "text/plain": "              Car_Name  Year  Selling_Price  Kms_Driven Fuel_Type Seller_Type  \\\nPresent_Price                                                                   \n13.6              city  2014           6.25       40126    Petrol      Dealer   \n7.6               city  2006           2.10       50456    Petrol      Dealer   \n14.0              city  2014           8.25       63000    Diesel      Dealer   \n5.9               brio  2013           3.50        9800    Petrol      Dealer   \n6.4              amaze  2014           4.50       19000    Petrol      Dealer   \n9.9               city  2010           3.25       38000    Petrol      Dealer   \n6.8              amaze  2014           3.75       33019    Petrol      Dealer   \n11.0              city  2009           3.35       87934    Petrol      Dealer   \n\n              Transmission  Owner  \nPresent_Price                      \n13.6                Manual      0  \n7.6                 Manual      0  \n14.0                Manual      0  \n5.9                 Manual      0  \n6.4                 Manual      0  \n9.9                 Manual      0  \n6.8                 Manual      0  \n11.0                Manual      0  ",
      "text/html": "<div>\n<style scoped>\n    .dataframe tbody tr th:only-of-type {\n        vertical-align: middle;\n    }\n\n    .dataframe tbody tr th {\n        vertical-align: top;\n    }\n\n    .dataframe thead th {\n        text-align: right;\n    }\n</style>\n<table border=\"1\" class=\"dataframe\">\n  <thead>\n    <tr style=\"text-align: right;\">\n      <th></th>\n      <th>Car_Name</th>\n      <th>Year</th>\n      <th>Selling_Price</th>\n      <th>Kms_Driven</th>\n      <th>Fuel_Type</th>\n      <th>Seller_Type</th>\n      <th>Transmission</th>\n      <th>Owner</th>\n    </tr>\n    <tr>\n      <th>Present_Price</th>\n      <th></th>\n      <th></th>\n      <th></th>\n      <th></th>\n      <th></th>\n      <th></th>\n      <th></th>\n      <th></th>\n    </tr>\n  </thead>\n  <tbody>\n    <tr>\n      <th>13.6</th>\n      <td>city</td>\n      <td>2014</td>\n      <td>6.25</td>\n      <td>40126</td>\n      <td>Petrol</td>\n      <td>Dealer</td>\n      <td>Manual</td>\n      <td>0</td>\n    </tr>\n    <tr>\n      <th>7.6</th>\n      <td>city</td>\n      <td>2006</td>\n      <td>2.10</td>\n      <td>50456</td>\n      <td>Petrol</td>\n      <td>Dealer</td>\n      <td>Manual</td>\n      <td>0</td>\n    </tr>\n    <tr>\n      <th>14.0</th>\n      <td>city</td>\n      <td>2014</td>\n      <td>8.25</td>\n      <td>63000</td>\n      <td>Diesel</td>\n      <td>Dealer</td>\n      <td>Manual</td>\n      <td>0</td>\n    </tr>\n    <tr>\n      <th>5.9</th>\n      <td>brio</td>\n      <td>2013</td>\n      <td>3.50</td>\n      <td>9800</td>\n      <td>Petrol</td>\n      <td>Dealer</td>\n      <td>Manual</td>\n      <td>0</td>\n    </tr>\n    <tr>\n      <th>6.4</th>\n      <td>amaze</td>\n      <td>2014</td>\n      <td>4.50</td>\n      <td>19000</td>\n      <td>Petrol</td>\n      <td>Dealer</td>\n      <td>Manual</td>\n      <td>0</td>\n    </tr>\n    <tr>\n      <th>9.9</th>\n      <td>city</td>\n      <td>2010</td>\n      <td>3.25</td>\n      <td>38000</td>\n      <td>Petrol</td>\n      <td>Dealer</td>\n      <td>Manual</td>\n      <td>0</td>\n    </tr>\n    <tr>\n      <th>6.8</th>\n      <td>amaze</td>\n      <td>2014</td>\n      <td>3.75</td>\n      <td>33019</td>\n      <td>Petrol</td>\n      <td>Dealer</td>\n      <td>Manual</td>\n      <td>0</td>\n    </tr>\n    <tr>\n      <th>11.0</th>\n      <td>city</td>\n      <td>2009</td>\n      <td>3.35</td>\n      <td>87934</td>\n      <td>Petrol</td>\n      <td>Dealer</td>\n      <td>Manual</td>\n      <td>0</td>\n    </tr>\n  </tbody>\n</table>\n</div>"
     },
     "execution_count": 450,
     "metadata": {},
     "output_type": "execute_result"
    }
   ],
   "source": [
    "df[df['Year']<2015].tail(8)"
   ]
  },
  {
   "cell_type": "code",
   "execution_count": 451,
   "id": "5ede8dc4",
   "metadata": {},
   "outputs": [
    {
     "data": {
      "text/plain": "              Car_Name  Year  Selling_Price  Kms_Driven Fuel_Type Seller_Type  \\\nPresent_Price                                                                   \n5.35              brio  2012           3.00       53675    Petrol      Dealer   \n10.00             city  2011           4.10       69341    Petrol      Dealer   \n10.00             city  2009           3.00       69562    Petrol      Dealer   \n7.50              jazz  2010           2.25       61203    Petrol      Dealer   \n13.60             city  2014           6.25       40126    Petrol      Dealer   \n7.60              city  2006           2.10       50456    Petrol      Dealer   \n14.00             city  2014           8.25       63000    Diesel      Dealer   \n11.00             city  2009           3.35       87934    Petrol      Dealer   \n\n              Transmission  Owner  \nPresent_Price                      \n5.35                Manual      0  \n10.00               Manual      0  \n10.00               Manual      0  \n7.50                Manual      0  \n13.60               Manual      0  \n7.60                Manual      0  \n14.00               Manual      0  \n11.00               Manual      0  ",
      "text/html": "<div>\n<style scoped>\n    .dataframe tbody tr th:only-of-type {\n        vertical-align: middle;\n    }\n\n    .dataframe tbody tr th {\n        vertical-align: top;\n    }\n\n    .dataframe thead th {\n        text-align: right;\n    }\n</style>\n<table border=\"1\" class=\"dataframe\">\n  <thead>\n    <tr style=\"text-align: right;\">\n      <th></th>\n      <th>Car_Name</th>\n      <th>Year</th>\n      <th>Selling_Price</th>\n      <th>Kms_Driven</th>\n      <th>Fuel_Type</th>\n      <th>Seller_Type</th>\n      <th>Transmission</th>\n      <th>Owner</th>\n    </tr>\n    <tr>\n      <th>Present_Price</th>\n      <th></th>\n      <th></th>\n      <th></th>\n      <th></th>\n      <th></th>\n      <th></th>\n      <th></th>\n      <th></th>\n    </tr>\n  </thead>\n  <tbody>\n    <tr>\n      <th>5.35</th>\n      <td>brio</td>\n      <td>2012</td>\n      <td>3.00</td>\n      <td>53675</td>\n      <td>Petrol</td>\n      <td>Dealer</td>\n      <td>Manual</td>\n      <td>0</td>\n    </tr>\n    <tr>\n      <th>10.00</th>\n      <td>city</td>\n      <td>2011</td>\n      <td>4.10</td>\n      <td>69341</td>\n      <td>Petrol</td>\n      <td>Dealer</td>\n      <td>Manual</td>\n      <td>0</td>\n    </tr>\n    <tr>\n      <th>10.00</th>\n      <td>city</td>\n      <td>2009</td>\n      <td>3.00</td>\n      <td>69562</td>\n      <td>Petrol</td>\n      <td>Dealer</td>\n      <td>Manual</td>\n      <td>0</td>\n    </tr>\n    <tr>\n      <th>7.50</th>\n      <td>jazz</td>\n      <td>2010</td>\n      <td>2.25</td>\n      <td>61203</td>\n      <td>Petrol</td>\n      <td>Dealer</td>\n      <td>Manual</td>\n      <td>0</td>\n    </tr>\n    <tr>\n      <th>13.60</th>\n      <td>city</td>\n      <td>2014</td>\n      <td>6.25</td>\n      <td>40126</td>\n      <td>Petrol</td>\n      <td>Dealer</td>\n      <td>Manual</td>\n      <td>0</td>\n    </tr>\n    <tr>\n      <th>7.60</th>\n      <td>city</td>\n      <td>2006</td>\n      <td>2.10</td>\n      <td>50456</td>\n      <td>Petrol</td>\n      <td>Dealer</td>\n      <td>Manual</td>\n      <td>0</td>\n    </tr>\n    <tr>\n      <th>14.00</th>\n      <td>city</td>\n      <td>2014</td>\n      <td>8.25</td>\n      <td>63000</td>\n      <td>Diesel</td>\n      <td>Dealer</td>\n      <td>Manual</td>\n      <td>0</td>\n    </tr>\n    <tr>\n      <th>11.00</th>\n      <td>city</td>\n      <td>2009</td>\n      <td>3.35</td>\n      <td>87934</td>\n      <td>Petrol</td>\n      <td>Dealer</td>\n      <td>Manual</td>\n      <td>0</td>\n    </tr>\n  </tbody>\n</table>\n</div>"
     },
     "execution_count": 451,
     "metadata": {},
     "output_type": "execute_result"
    }
   ],
   "source": [
    "df[(df['Year']<2015) & (df['Kms_Driven']>40000)].tail(8)"
   ]
  },
  {
   "cell_type": "code",
   "execution_count": 452,
   "id": "92e8b5c9",
   "metadata": {},
   "outputs": [],
   "source": [
    "a10 = a4.reshape(-1)"
   ]
  },
  {
   "cell_type": "code",
   "execution_count": 453,
   "id": "39476742",
   "metadata": {},
   "outputs": [
    {
     "data": {
      "text/plain": "array([0.05808361, 0.02058449, 0.21233911, 0.18182497, 0.18340451,\n       0.30424224])"
     },
     "execution_count": 453,
     "metadata": {},
     "output_type": "execute_result"
    }
   ],
   "source": [
    "a10[a10<0.5]"
   ]
  },
  {
   "cell_type": "code",
   "execution_count": 454,
   "id": "9ce30c67",
   "metadata": {},
   "outputs": [
    {
     "data": {
      "text/plain": "              Car_Name  Year  Selling_Price  Kms_Driven Fuel_Type Seller_Type  \\\nPresent_Price                                                                   \n5.59              ritz  2014           3.35       27000    Petrol      Dealer   \n9.54               sx4  2013           4.75       43000    Diesel      Dealer   \n9.85              ciaz  2017           7.25        6900    Petrol      Dealer   \n4.15           wagon r  2011           2.85        5200    Petrol      Dealer   \n6.87             swift  2014           4.60       42450    Diesel      Dealer   \n...                ...   ...            ...         ...       ...         ...   \n11.60             city  2016           9.50       33988    Diesel      Dealer   \n5.90              brio  2015           4.00       60000    Petrol      Dealer   \n11.00             city  2009           3.35       87934    Petrol      Dealer   \n12.50             city  2017          11.50        9000    Diesel      Dealer   \n5.90              brio  2016           5.30        5464    Petrol      Dealer   \n\n              Transmission  Owner  \nPresent_Price                      \n5.59                Manual      0  \n9.54                Manual      0  \n9.85                Manual      0  \n4.15                Manual      0  \n6.87                Manual      0  \n...                    ...    ...  \n11.60               Manual      0  \n5.90                Manual      0  \n11.00               Manual      0  \n12.50               Manual      0  \n5.90                Manual      0  \n\n[301 rows x 8 columns]",
      "text/html": "<div>\n<style scoped>\n    .dataframe tbody tr th:only-of-type {\n        vertical-align: middle;\n    }\n\n    .dataframe tbody tr th {\n        vertical-align: top;\n    }\n\n    .dataframe thead th {\n        text-align: right;\n    }\n</style>\n<table border=\"1\" class=\"dataframe\">\n  <thead>\n    <tr style=\"text-align: right;\">\n      <th></th>\n      <th>Car_Name</th>\n      <th>Year</th>\n      <th>Selling_Price</th>\n      <th>Kms_Driven</th>\n      <th>Fuel_Type</th>\n      <th>Seller_Type</th>\n      <th>Transmission</th>\n      <th>Owner</th>\n    </tr>\n    <tr>\n      <th>Present_Price</th>\n      <th></th>\n      <th></th>\n      <th></th>\n      <th></th>\n      <th></th>\n      <th></th>\n      <th></th>\n      <th></th>\n    </tr>\n  </thead>\n  <tbody>\n    <tr>\n      <th>5.59</th>\n      <td>ritz</td>\n      <td>2014</td>\n      <td>3.35</td>\n      <td>27000</td>\n      <td>Petrol</td>\n      <td>Dealer</td>\n      <td>Manual</td>\n      <td>0</td>\n    </tr>\n    <tr>\n      <th>9.54</th>\n      <td>sx4</td>\n      <td>2013</td>\n      <td>4.75</td>\n      <td>43000</td>\n      <td>Diesel</td>\n      <td>Dealer</td>\n      <td>Manual</td>\n      <td>0</td>\n    </tr>\n    <tr>\n      <th>9.85</th>\n      <td>ciaz</td>\n      <td>2017</td>\n      <td>7.25</td>\n      <td>6900</td>\n      <td>Petrol</td>\n      <td>Dealer</td>\n      <td>Manual</td>\n      <td>0</td>\n    </tr>\n    <tr>\n      <th>4.15</th>\n      <td>wagon r</td>\n      <td>2011</td>\n      <td>2.85</td>\n      <td>5200</td>\n      <td>Petrol</td>\n      <td>Dealer</td>\n      <td>Manual</td>\n      <td>0</td>\n    </tr>\n    <tr>\n      <th>6.87</th>\n      <td>swift</td>\n      <td>2014</td>\n      <td>4.60</td>\n      <td>42450</td>\n      <td>Diesel</td>\n      <td>Dealer</td>\n      <td>Manual</td>\n      <td>0</td>\n    </tr>\n    <tr>\n      <th>...</th>\n      <td>...</td>\n      <td>...</td>\n      <td>...</td>\n      <td>...</td>\n      <td>...</td>\n      <td>...</td>\n      <td>...</td>\n      <td>...</td>\n    </tr>\n    <tr>\n      <th>11.60</th>\n      <td>city</td>\n      <td>2016</td>\n      <td>9.50</td>\n      <td>33988</td>\n      <td>Diesel</td>\n      <td>Dealer</td>\n      <td>Manual</td>\n      <td>0</td>\n    </tr>\n    <tr>\n      <th>5.90</th>\n      <td>brio</td>\n      <td>2015</td>\n      <td>4.00</td>\n      <td>60000</td>\n      <td>Petrol</td>\n      <td>Dealer</td>\n      <td>Manual</td>\n      <td>0</td>\n    </tr>\n    <tr>\n      <th>11.00</th>\n      <td>city</td>\n      <td>2009</td>\n      <td>3.35</td>\n      <td>87934</td>\n      <td>Petrol</td>\n      <td>Dealer</td>\n      <td>Manual</td>\n      <td>0</td>\n    </tr>\n    <tr>\n      <th>12.50</th>\n      <td>city</td>\n      <td>2017</td>\n      <td>11.50</td>\n      <td>9000</td>\n      <td>Diesel</td>\n      <td>Dealer</td>\n      <td>Manual</td>\n      <td>0</td>\n    </tr>\n    <tr>\n      <th>5.90</th>\n      <td>brio</td>\n      <td>2016</td>\n      <td>5.30</td>\n      <td>5464</td>\n      <td>Petrol</td>\n      <td>Dealer</td>\n      <td>Manual</td>\n      <td>0</td>\n    </tr>\n  </tbody>\n</table>\n<p>301 rows × 8 columns</p>\n</div>"
     },
     "execution_count": 454,
     "metadata": {},
     "output_type": "execute_result"
    }
   ],
   "source": [
    "df"
   ]
  },
  {
   "cell_type": "code",
   "execution_count": 455,
   "id": "ff03b773",
   "metadata": {},
   "outputs": [
    {
     "data": {
      "text/plain": "                   Year  Selling_Price  Kms_Driven Fuel_Type Seller_Type  \\\nCar_Name                                                                   \n800                2003           0.35      127000    Petrol  Individual   \nActiva 3g          2016           0.45      500000    Petrol  Individual   \nActiva 4g          2017           0.40        1300    Petrol  Individual   \nBajaj  ct 100      2015           0.18       35000    Petrol  Individual   \nBajaj Avenger 150  2016           0.75        7000    Petrol  Individual   \n...                 ...            ...         ...       ...         ...   \nsx4                2013           4.75       62000    Petrol      Dealer   \nverna              2017           9.25       71000    Petrol      Dealer   \nvitara brezza      2018           9.25        2071    Diesel      Dealer   \nwagon r            2015           3.25       65000    Petrol      Dealer   \nxcent              2017           5.75       35866    Petrol      Dealer   \n\n                  Transmission  Owner  \nCar_Name                               \n800                     Manual      0  \nActiva 3g            Automatic      0  \nActiva 4g            Automatic      0  \nBajaj  ct 100           Manual      0  \nBajaj Avenger 150       Manual      0  \n...                        ...    ...  \nsx4                     Manual      0  \nverna                   Manual      0  \nvitara brezza           Manual      0  \nwagon r                 Manual      0  \nxcent                   Manual      1  \n\n[98 rows x 7 columns]",
      "text/html": "<div>\n<style scoped>\n    .dataframe tbody tr th:only-of-type {\n        vertical-align: middle;\n    }\n\n    .dataframe tbody tr th {\n        vertical-align: top;\n    }\n\n    .dataframe thead th {\n        text-align: right;\n    }\n</style>\n<table border=\"1\" class=\"dataframe\">\n  <thead>\n    <tr style=\"text-align: right;\">\n      <th></th>\n      <th>Year</th>\n      <th>Selling_Price</th>\n      <th>Kms_Driven</th>\n      <th>Fuel_Type</th>\n      <th>Seller_Type</th>\n      <th>Transmission</th>\n      <th>Owner</th>\n    </tr>\n    <tr>\n      <th>Car_Name</th>\n      <th></th>\n      <th></th>\n      <th></th>\n      <th></th>\n      <th></th>\n      <th></th>\n      <th></th>\n    </tr>\n  </thead>\n  <tbody>\n    <tr>\n      <th>800</th>\n      <td>2003</td>\n      <td>0.35</td>\n      <td>127000</td>\n      <td>Petrol</td>\n      <td>Individual</td>\n      <td>Manual</td>\n      <td>0</td>\n    </tr>\n    <tr>\n      <th>Activa 3g</th>\n      <td>2016</td>\n      <td>0.45</td>\n      <td>500000</td>\n      <td>Petrol</td>\n      <td>Individual</td>\n      <td>Automatic</td>\n      <td>0</td>\n    </tr>\n    <tr>\n      <th>Activa 4g</th>\n      <td>2017</td>\n      <td>0.40</td>\n      <td>1300</td>\n      <td>Petrol</td>\n      <td>Individual</td>\n      <td>Automatic</td>\n      <td>0</td>\n    </tr>\n    <tr>\n      <th>Bajaj  ct 100</th>\n      <td>2015</td>\n      <td>0.18</td>\n      <td>35000</td>\n      <td>Petrol</td>\n      <td>Individual</td>\n      <td>Manual</td>\n      <td>0</td>\n    </tr>\n    <tr>\n      <th>Bajaj Avenger 150</th>\n      <td>2016</td>\n      <td>0.75</td>\n      <td>7000</td>\n      <td>Petrol</td>\n      <td>Individual</td>\n      <td>Manual</td>\n      <td>0</td>\n    </tr>\n    <tr>\n      <th>...</th>\n      <td>...</td>\n      <td>...</td>\n      <td>...</td>\n      <td>...</td>\n      <td>...</td>\n      <td>...</td>\n      <td>...</td>\n    </tr>\n    <tr>\n      <th>sx4</th>\n      <td>2013</td>\n      <td>4.75</td>\n      <td>62000</td>\n      <td>Petrol</td>\n      <td>Dealer</td>\n      <td>Manual</td>\n      <td>0</td>\n    </tr>\n    <tr>\n      <th>verna</th>\n      <td>2017</td>\n      <td>9.25</td>\n      <td>71000</td>\n      <td>Petrol</td>\n      <td>Dealer</td>\n      <td>Manual</td>\n      <td>0</td>\n    </tr>\n    <tr>\n      <th>vitara brezza</th>\n      <td>2018</td>\n      <td>9.25</td>\n      <td>2071</td>\n      <td>Diesel</td>\n      <td>Dealer</td>\n      <td>Manual</td>\n      <td>0</td>\n    </tr>\n    <tr>\n      <th>wagon r</th>\n      <td>2015</td>\n      <td>3.25</td>\n      <td>65000</td>\n      <td>Petrol</td>\n      <td>Dealer</td>\n      <td>Manual</td>\n      <td>0</td>\n    </tr>\n    <tr>\n      <th>xcent</th>\n      <td>2017</td>\n      <td>5.75</td>\n      <td>35866</td>\n      <td>Petrol</td>\n      <td>Dealer</td>\n      <td>Manual</td>\n      <td>1</td>\n    </tr>\n  </tbody>\n</table>\n<p>98 rows × 7 columns</p>\n</div>"
     },
     "execution_count": 455,
     "metadata": {},
     "output_type": "execute_result"
    }
   ],
   "source": [
    "df_grouped = df.groupby('Car_Name').max()\n",
    "df_grouped"
   ]
  },
  {
   "cell_type": "code",
   "execution_count": 456,
   "id": "33cbfd7a",
   "metadata": {},
   "outputs": [
    {
     "data": {
      "text/plain": "                    Year  Selling_Price  Kms_Driven  Owner\nCar_Name                                                  \n800                 2003           0.35      127000      0\nActiva 3g           4024           0.62      500500      0\nActiva 4g           2017           0.40        1300      0\nBajaj  ct 100       2015           0.18       35000      0\nBajaj Avenger 150   2016           0.75        7000      0\n...                  ...            ...         ...    ...\nsx4                12056          18.95      304440      0\nverna              28190          85.51      598462      0\nvitara brezza       2018           9.25        2071      0\nwagon r             8045          10.05      162579      0\nxcent               6046          14.90       82345      1\n\n[98 rows x 4 columns]",
      "text/html": "<div>\n<style scoped>\n    .dataframe tbody tr th:only-of-type {\n        vertical-align: middle;\n    }\n\n    .dataframe tbody tr th {\n        vertical-align: top;\n    }\n\n    .dataframe thead th {\n        text-align: right;\n    }\n</style>\n<table border=\"1\" class=\"dataframe\">\n  <thead>\n    <tr style=\"text-align: right;\">\n      <th></th>\n      <th>Year</th>\n      <th>Selling_Price</th>\n      <th>Kms_Driven</th>\n      <th>Owner</th>\n    </tr>\n    <tr>\n      <th>Car_Name</th>\n      <th></th>\n      <th></th>\n      <th></th>\n      <th></th>\n    </tr>\n  </thead>\n  <tbody>\n    <tr>\n      <th>800</th>\n      <td>2003</td>\n      <td>0.35</td>\n      <td>127000</td>\n      <td>0</td>\n    </tr>\n    <tr>\n      <th>Activa 3g</th>\n      <td>4024</td>\n      <td>0.62</td>\n      <td>500500</td>\n      <td>0</td>\n    </tr>\n    <tr>\n      <th>Activa 4g</th>\n      <td>2017</td>\n      <td>0.40</td>\n      <td>1300</td>\n      <td>0</td>\n    </tr>\n    <tr>\n      <th>Bajaj  ct 100</th>\n      <td>2015</td>\n      <td>0.18</td>\n      <td>35000</td>\n      <td>0</td>\n    </tr>\n    <tr>\n      <th>Bajaj Avenger 150</th>\n      <td>2016</td>\n      <td>0.75</td>\n      <td>7000</td>\n      <td>0</td>\n    </tr>\n    <tr>\n      <th>...</th>\n      <td>...</td>\n      <td>...</td>\n      <td>...</td>\n      <td>...</td>\n    </tr>\n    <tr>\n      <th>sx4</th>\n      <td>12056</td>\n      <td>18.95</td>\n      <td>304440</td>\n      <td>0</td>\n    </tr>\n    <tr>\n      <th>verna</th>\n      <td>28190</td>\n      <td>85.51</td>\n      <td>598462</td>\n      <td>0</td>\n    </tr>\n    <tr>\n      <th>vitara brezza</th>\n      <td>2018</td>\n      <td>9.25</td>\n      <td>2071</td>\n      <td>0</td>\n    </tr>\n    <tr>\n      <th>wagon r</th>\n      <td>8045</td>\n      <td>10.05</td>\n      <td>162579</td>\n      <td>0</td>\n    </tr>\n    <tr>\n      <th>xcent</th>\n      <td>6046</td>\n      <td>14.90</td>\n      <td>82345</td>\n      <td>1</td>\n    </tr>\n  </tbody>\n</table>\n<p>98 rows × 4 columns</p>\n</div>"
     },
     "execution_count": 456,
     "metadata": {},
     "output_type": "execute_result"
    }
   ],
   "source": [
    "df_grouped = df.groupby('Car_Name').sum()\n",
    "df_grouped"
   ]
  },
  {
   "cell_type": "code",
   "execution_count": 457,
   "id": "34f5d4f9",
   "metadata": {},
   "outputs": [
    {
     "data": {
      "text/plain": "<AxesSubplot:xlabel='Present_Price'>"
     },
     "execution_count": 457,
     "metadata": {},
     "output_type": "execute_result"
    },
    {
     "data": {
      "text/plain": "<Figure size 432x288 with 1 Axes>",
      "image/png": "[encoded data removed]"
     },
     "metadata": {
      "needs_background": "light"
     },
     "output_type": "display_data"
    }
   ],
   "source": [
    "df['Kms_Driven'].plot()"
   ]
  },
  {
   "cell_type": "code",
   "execution_count": 458,
   "id": "4dd4799c",
   "metadata": {},
   "outputs": [
    {
     "data": {
      "text/plain": "<AxesSubplot:>"
     },
     "execution_count": 458,
     "metadata": {},
     "output_type": "execute_result"
    },
    {
     "data": {
      "text/plain": "<Figure size 432x288 with 1 Axes>",
      "image/png": "[encoded data removed]"
     },
     "metadata": {
      "needs_background": "light"
     },
     "output_type": "display_data"
    }
   ],
   "source": [
    "df['Kms_Driven'].hist()"
   ]
  },
  {
   "cell_type": "code",
   "execution_count": 459,
   "id": "34189f1c",
   "metadata": {},
   "outputs": [
    {
     "data": {
      "text/plain": "              Car_Name  Year  Selling_Price  Kms_Driven Fuel_Type Seller_Type  \\\nPresent_Price                                                                   \n5.59              ritz  2014           3.35       27000    Petrol      Dealer   \n9.54               sx4  2013           4.75       43000    Diesel      Dealer   \n9.85              ciaz  2017           7.25        6900    Petrol      Dealer   \n4.15           wagon r  2011           2.85        5200    Petrol      Dealer   \n6.87             swift  2014           4.60       42450    Diesel      Dealer   \n...                ...   ...            ...         ...       ...         ...   \n11.60             city  2016           9.50       33988    Diesel      Dealer   \n5.90              brio  2015           4.00       60000    Petrol      Dealer   \n11.00             city  2009           3.35       87934    Petrol      Dealer   \n12.50             city  2017          11.50        9000    Diesel      Dealer   \n5.90              brio  2016           5.30        5464    Petrol      Dealer   \n\n              Transmission  Owner  \nPresent_Price                      \n5.59                Manual      0  \n9.54                Manual      0  \n9.85                Manual      0  \n4.15                Manual      0  \n6.87                Manual      0  \n...                    ...    ...  \n11.60               Manual      0  \n5.90                Manual      0  \n11.00               Manual      0  \n12.50               Manual      0  \n5.90                Manual      0  \n\n[301 rows x 8 columns]",
      "text/html": "<div>\n<style scoped>\n    .dataframe tbody tr th:only-of-type {\n        vertical-align: middle;\n    }\n\n    .dataframe tbody tr th {\n        vertical-align: top;\n    }\n\n    .dataframe thead th {\n        text-align: right;\n    }\n</style>\n<table border=\"1\" class=\"dataframe\">\n  <thead>\n    <tr style=\"text-align: right;\">\n      <th></th>\n      <th>Car_Name</th>\n      <th>Year</th>\n      <th>Selling_Price</th>\n      <th>Kms_Driven</th>\n      <th>Fuel_Type</th>\n      <th>Seller_Type</th>\n      <th>Transmission</th>\n      <th>Owner</th>\n    </tr>\n    <tr>\n      <th>Present_Price</th>\n      <th></th>\n      <th></th>\n      <th></th>\n      <th></th>\n      <th></th>\n      <th></th>\n      <th></th>\n      <th></th>\n    </tr>\n  </thead>\n  <tbody>\n    <tr>\n      <th>5.59</th>\n      <td>ritz</td>\n      <td>2014</td>\n      <td>3.35</td>\n      <td>27000</td>\n      <td>Petrol</td>\n      <td>Dealer</td>\n      <td>Manual</td>\n      <td>0</td>\n    </tr>\n    <tr>\n      <th>9.54</th>\n      <td>sx4</td>\n      <td>2013</td>\n      <td>4.75</td>\n      <td>43000</td>\n      <td>Diesel</td>\n      <td>Dealer</td>\n      <td>Manual</td>\n      <td>0</td>\n    </tr>\n    <tr>\n      <th>9.85</th>\n      <td>ciaz</td>\n      <td>2017</td>\n      <td>7.25</td>\n      <td>6900</td>\n      <td>Petrol</td>\n      <td>Dealer</td>\n      <td>Manual</td>\n      <td>0</td>\n    </tr>\n    <tr>\n      <th>4.15</th>\n      <td>wagon r</td>\n      <td>2011</td>\n      <td>2.85</td>\n      <td>5200</td>\n      <td>Petrol</td>\n      <td>Dealer</td>\n      <td>Manual</td>\n      <td>0</td>\n    </tr>\n    <tr>\n      <th>6.87</th>\n      <td>swift</td>\n      <td>2014</td>\n      <td>4.60</td>\n      <td>42450</td>\n      <td>Diesel</td>\n      <td>Dealer</td>\n      <td>Manual</td>\n      <td>0</td>\n    </tr>\n    <tr>\n      <th>...</th>\n      <td>...</td>\n      <td>...</td>\n      <td>...</td>\n      <td>...</td>\n      <td>...</td>\n      <td>...</td>\n      <td>...</td>\n      <td>...</td>\n    </tr>\n    <tr>\n      <th>11.60</th>\n      <td>city</td>\n      <td>2016</td>\n      <td>9.50</td>\n      <td>33988</td>\n      <td>Diesel</td>\n      <td>Dealer</td>\n      <td>Manual</td>\n      <td>0</td>\n    </tr>\n    <tr>\n      <th>5.90</th>\n      <td>brio</td>\n      <td>2015</td>\n      <td>4.00</td>\n      <td>60000</td>\n      <td>Petrol</td>\n      <td>Dealer</td>\n      <td>Manual</td>\n      <td>0</td>\n    </tr>\n    <tr>\n      <th>11.00</th>\n      <td>city</td>\n      <td>2009</td>\n      <td>3.35</td>\n      <td>87934</td>\n      <td>Petrol</td>\n      <td>Dealer</td>\n      <td>Manual</td>\n      <td>0</td>\n    </tr>\n    <tr>\n      <th>12.50</th>\n      <td>city</td>\n      <td>2017</td>\n      <td>11.50</td>\n      <td>9000</td>\n      <td>Diesel</td>\n      <td>Dealer</td>\n      <td>Manual</td>\n      <td>0</td>\n    </tr>\n    <tr>\n      <th>5.90</th>\n      <td>brio</td>\n      <td>2016</td>\n      <td>5.30</td>\n      <td>5464</td>\n      <td>Petrol</td>\n      <td>Dealer</td>\n      <td>Manual</td>\n      <td>0</td>\n    </tr>\n  </tbody>\n</table>\n<p>301 rows × 8 columns</p>\n</div>"
     },
     "execution_count": 459,
     "metadata": {},
     "output_type": "execute_result"
    }
   ],
   "source": [
    "df"
   ]
  },
  {
   "cell_type": "markdown",
   "id": "22fb1a0e",
   "metadata": {},
   "source": [
    "##### pandas join, merge, concat and append"
   ]
  },
  {
   "cell_type": "markdown",
   "id": "d3e02327",
   "metadata": {},
   "source": [
    "We will not go through the methods here. You can find all methods and examples here - https://pandas.pydata.org/docs/user_guide/merging.html"
   ]
  },
  {
   "cell_type": "markdown",
   "id": "5c669d39",
   "metadata": {},
   "source": [
    "##### Dask"
   ]
  },
  {
   "cell_type": "markdown",
   "id": "b042b8ff",
   "metadata": {},
   "source": [
    "similar library - (e.g., for working with several dataframes parallely)\n",
    "https://docs.dask.org/en/stable/"
   ]
  },
  {
   "cell_type": "markdown",
   "id": "251dba03",
   "metadata": {},
   "source": [
    "# Matplotlib"
   ]
  },
  {
   "cell_type": "code",
   "execution_count": 460,
   "id": "00608a23",
   "metadata": {},
   "outputs": [],
   "source": [
    "from matplotlib import pyplot as plt"
   ]
  },
  {
   "cell_type": "code",
   "execution_count": 461,
   "id": "21944bd3",
   "metadata": {},
   "outputs": [
    {
     "data": {
      "text/plain": "[<matplotlib.lines.Line2D at 0x7f7392374ee0>]"
     },
     "execution_count": 461,
     "metadata": {},
     "output_type": "execute_result"
    },
    {
     "data": {
      "text/plain": "<Figure size 432x288 with 1 Axes>",
      "image/png": "[encoded data removed]"
     },
     "metadata": {
      "needs_background": "light"
     },
     "output_type": "display_data"
    }
   ],
   "source": [
    "plt.plot([1, 2, 3, 4])"
   ]
  },
  {
   "cell_type": "code",
   "execution_count": 462,
   "id": "94f51355",
   "metadata": {},
   "outputs": [
    {
     "data": {
      "text/plain": "[<matplotlib.lines.Line2D at 0x7f73922f24c0>]"
     },
     "execution_count": 462,
     "metadata": {},
     "output_type": "execute_result"
    },
    {
     "data": {
      "text/plain": "<Figure size 432x288 with 1 Axes>",
      "image/png": "[encoded data removed]"
     },
     "metadata": {
      "needs_background": "light"
     },
     "output_type": "display_data"
    }
   ],
   "source": [
    "plt.plot([1, 2, 3, 4], [5,6,11,8])"
   ]
  },
  {
   "cell_type": "code",
   "execution_count": 463,
   "id": "62f56914",
   "metadata": {},
   "outputs": [
    {
     "data": {
      "text/plain": "<Figure size 720x720 with 1 Axes>",
      "image/png": "[encoded data removed]"
     },
     "metadata": {
      "needs_background": "light"
     },
     "output_type": "display_data"
    }
   ],
   "source": [
    "x = [1, 2, 3, 4]\n",
    "y = [5, 6, 11, 8]\n",
    "\n",
    "fig, ax = plt.subplots(figsize=(10,10))\n",
    "\n",
    "ax.plot(x, y)\n",
    "ax.set(title=\"Sample Simple Plot\", xlabel=\"x-axis\", ylabel=\"y-axis\")\n",
    "\n",
    "fig.savefig(\"simple-plot.png\")"
   ]
  },
  {
   "cell_type": "code",
   "execution_count": 471,
   "id": "8e5b53d6",
   "metadata": {},
   "outputs": [
    {
     "data": {
      "text/plain": "<matplotlib.collections.PathCollection at 0x7f739210fd90>"
     },
     "execution_count": 471,
     "metadata": {},
     "output_type": "execute_result"
    },
    {
     "data": {
      "text/plain": "<Figure size 432x288 with 1 Axes>",
      "image/png": "[encoded data removed]"
     },
     "metadata": {
      "needs_background": "light"
     },
     "output_type": "display_data"
    }
   ],
   "source": [
    "plt.scatter(x, y, marker = '*', c=[0,1,2,0])"
   ]
  },
  {
   "cell_type": "code",
   "execution_count": 464,
   "id": "23b5a7dc",
   "metadata": {},
   "outputs": [],
   "source": []
  }
 ],
 "metadata": {
  "kernelspec": {
   "display_name": "Python 3 (ipykernel)",
   "language": "python",
   "name": "python3"
  },
  "language_info": {
   "codemirror_mode": {
    "name": "ipython",
    "version": 3
   },
   "file_extension": ".py",
   "mimetype": "text/x-python",
   "name": "python",
   "nbconvert_exporter": "python",
   "pygments_lexer": "ipython3",
   "version": "3.9.12"
  }
 },
 "nbformat": 4,
 "nbformat_minor": 5
}
