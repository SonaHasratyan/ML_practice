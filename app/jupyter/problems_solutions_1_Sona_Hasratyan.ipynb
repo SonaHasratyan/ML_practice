{
 "cells": [
  {
   "cell_type": "code",
   "execution_count": 264,
   "outputs": [],
   "source": [
    "import numpy as np\n",
    "import pandas as pd\n",
    "from matplotlib import pyplot as plt"
   ],
   "metadata": {
    "collapsed": false
   }
  },
  {
   "cell_type": "markdown",
   "source": [
    "1. Generate random integer numbers of a given shape. From random generators you can use only np.random.rand()"
   ],
   "metadata": {
    "collapsed": false
   }
  },
  {
   "cell_type": "code",
   "execution_count": 265,
   "outputs": [],
   "source": [
    "def generate_rand_int_for_shape(*args):\n",
    "    rand_matrix = np.random.rand(*args)\n",
    "    shape = rand_matrix.shape\n",
    "    rand_matrix = rand_matrix.reshape(-1)\n",
    "    rand_matrix = np.array([int(str(item).split(\"0.\")[1]) for item in rand_matrix])\n",
    "\n",
    "    return rand_matrix.reshape(shape)"
   ],
   "metadata": {
    "collapsed": false
   }
  },
  {
   "cell_type": "code",
   "execution_count": 266,
   "outputs": [
    {
     "data": {
      "text/plain": "array([[33534858810339685, 14998843622855484, 13160101772330357],\n       [ 5795979124487699, 16247440528492996,  5777322125120217]])"
     },
     "execution_count": 266,
     "metadata": {},
     "output_type": "execute_result"
    }
   ],
   "source": [
    "generate_rand_int_for_shape(2, 3)"
   ],
   "metadata": {
    "collapsed": false
   }
  },
  {
   "cell_type": "markdown",
   "source": [
    "2. Find unique values of the given numpy array."
   ],
   "metadata": {
    "collapsed": false
   }
  },
  {
   "cell_type": "code",
   "execution_count": 267,
   "outputs": [],
   "source": [
    "def get_unique_values1(arr:np.ndarray):\n",
    "    arr = arr.reshape(-1)\n",
    "    unique_values = []\n",
    "    non_unique_values = []\n",
    "\n",
    "    for item in arr:\n",
    "        if item in unique_values:\n",
    "            unique_values.remove(item)\n",
    "            non_unique_values.append(item)\n",
    "        else:\n",
    "            if not item in non_unique_values:\n",
    "                unique_values.append(item)\n",
    "\n",
    "    return unique_values\n",
    "\n",
    "def get_unique_values(arr:np.ndarray):\n",
    "    arr = arr.reshape(-1)\n",
    "    items_and_occurrences = {}\n",
    "\n",
    "    for item in arr:\n",
    "        if item not in items_and_occurrences.keys():\n",
    "            items_and_occurrences.update({item: 1})\n",
    "        else:\n",
    "            items_and_occurrences[item] += 1\n",
    "\n",
    "    return [el for el in items_and_occurrences.keys() if items_and_occurrences[el] == 1]"
   ],
   "metadata": {
    "collapsed": false
   }
  },
  {
   "cell_type": "code",
   "execution_count": 268,
   "outputs": [
    {
     "data": {
      "text/plain": "[95, 24, 14, 56, 44, 16]"
     },
     "execution_count": 268,
     "metadata": {},
     "output_type": "execute_result"
    }
   ],
   "source": [
    "np_arr = np.array([[78, 67, 95, 24], [78, 14, 78, 56], [44, 16, 78, 67]])\n",
    "get_unique_values(np_arr)"
   ],
   "metadata": {
    "collapsed": false
   }
  },
  {
   "cell_type": "markdown",
   "source": [
    "3. Find value of derivative of a function of 1 variable in given point. The function can be only polynomial and is given by string. For example func('3x^2+4x+4', 3) == 22 (for your ease - lets limit coefficients to be only integers)\n"
   ],
   "metadata": {
    "collapsed": false
   }
  },
  {
   "cell_type": "code",
   "execution_count": 269,
   "outputs": [],
   "source": [
    "def derivative_of_polynomial(polynomial:str, point:int):\n",
    "    polynomial = polynomial.split()\n",
    "    polynomial = \"\".join(polynomial)\n",
    "    polynomial = polynomial.split(\"-\")\n",
    "    # the first element is either an empty list or a polynomial item with plus sign\n",
    "    polynomial = [\"-\" + item if not item == polynomial[0] else item for item in polynomial if item]\n",
    "\n",
    "    i = 0\n",
    "    while True:\n",
    "        len_polynomial = len(polynomial)\n",
    "\n",
    "        polynomial[i:i+1] = polynomial[i].split(\"+\")\n",
    "        i += len(polynomial) - len_polynomial + 1\n",
    "\n",
    "        if i == len(polynomial):\n",
    "            break\n",
    "\n",
    "    result = 0\n",
    "    for item in polynomial:\n",
    "        coef_degree = item.split(\"x^\")\n",
    "        if len(coef_degree) == 1:\n",
    "            coef_degree = item.split(\"x\")\n",
    "\n",
    "        if len(coef_degree) != 2:\n",
    "            continue\n",
    "\n",
    "        coef_degree = [int(val) if val else 1 for val in coef_degree]\n",
    "        result += coef_degree[0] * coef_degree[1] * pow(point, coef_degree[1] - 1)\n",
    "\n",
    "    return result\n"
   ],
   "metadata": {
    "collapsed": false
   }
  },
  {
   "cell_type": "code",
   "execution_count": 270,
   "outputs": [
    {
     "data": {
      "text/plain": "22"
     },
     "execution_count": 270,
     "metadata": {},
     "output_type": "execute_result"
    }
   ],
   "source": [
    "# function = '-3x^2+4x-4 + 2x + 5'\n",
    "function = '3x^2+4x+4'\n",
    "derivative_of_polynomial(function, 3)"
   ],
   "metadata": {
    "collapsed": false
   }
  },
  {
   "cell_type": "markdown",
   "source": [
    "4. From which known distribution is np.random.rand() ? Get 2 different arrays generated from that distribution and get their difference. What should the mean of that difference be, if we get a bigger sample size? Think about this answer before calculating it with code."
   ],
   "metadata": {
    "collapsed": false
   }
  },
  {
   "cell_type": "markdown",
   "source": [
    "### np.random.rand() is from a Uniform[0,1) distribution\n",
    "### E[X - Y] = E[X] - E[Y] = 1/2 - 1/2 = 0\n",
    "### Both $\\{a_k\\}_1^n, \\{a_k\\}_1^n$ sequences approach the interval over [0, 1)\n",
    "\n",
    "### $\\sum_{n=1}^{\\infty} \\frac {a_n - b_n}{n} = 0$\n",
    "\n",
    "### So on  a bigger sample it approaches to zero."
   ],
   "metadata": {
    "collapsed": false
   }
  },
  {
   "cell_type": "code",
   "execution_count": 271,
   "outputs": [
    {
     "data": {
      "text/plain": "7.991141700710951e-05"
     },
     "execution_count": 271,
     "metadata": {},
     "output_type": "execute_result"
    }
   ],
   "source": [
    "size = 10000000\n",
    "X = np.random.rand(size)\n",
    "Y = np.random.rand(size)\n",
    "np.mean(X - Y)"
   ],
   "metadata": {
    "collapsed": false
   }
  },
  {
   "cell_type": "markdown",
   "source": [
    "5. Replace random values (~10 % of values) of car data.csv with np.nan; Then fill that nan values with most common values of the column for categorical columns and with mean values from numerical columns.\n"
   ],
   "metadata": {
    "collapsed": false
   }
  },
  {
   "cell_type": "code",
   "execution_count": 272,
   "outputs": [],
   "source": [
    "df = pd.read_csv(\"car data.csv\")"
   ],
   "metadata": {
    "collapsed": false
   }
  },
  {
   "cell_type": "code",
   "execution_count": 273,
   "outputs": [],
   "source": [
    "max_iter = df.shape[0] * df.shape[1] // 10 + 1\n",
    "random_rows = np.random.choice(df.shape[0], max_iter)\n",
    "random_columns = np.random.choice(df.shape[1], max_iter)\n",
    "\n",
    "for i in range(max_iter):\n",
    "    df.loc[random_rows[i], df.columns[random_columns[i]]] = np.nan"
   ],
   "metadata": {
    "collapsed": false
   }
  },
  {
   "cell_type": "code",
   "execution_count": 274,
   "outputs": [],
   "source": [
    "for i in range(len(df.dtypes)):\n",
    "    if df.dtypes[i] != object:\n",
    "        df[df.columns[i]].replace({np.nan: df[df.columns[i]].mean()}, inplace=True)\n",
    "    else:\n",
    "        df[df.columns[i]].replace({np.nan: df[df.columns[i]].mode()[0]}, inplace=True)"
   ],
   "metadata": {
    "collapsed": false
   }
  },
  {
   "cell_type": "code",
   "execution_count": 275,
   "outputs": [
    {
     "data": {
      "text/plain": "    Car_Name    Year  Selling_Price  Present_Price  Kms_Driven Fuel_Type  \\\n0       ritz  2014.0           3.35       5.590000     27000.0    Petrol   \n1        sx4  2013.0           4.75       7.789353     43000.0    Diesel   \n2       city  2017.0           7.25       9.850000      6900.0    Petrol   \n3    wagon r  2011.0           2.85       4.150000      5200.0    Petrol   \n4      swift  2014.0           4.60       6.870000     42450.0    Diesel   \n..       ...     ...            ...            ...         ...       ...   \n296     city  2016.0           9.50      11.600000     33988.0    Diesel   \n297     brio  2015.0           4.00       5.900000     60000.0    Petrol   \n298     city  2009.0           3.35      11.000000     87934.0    Petrol   \n299     city  2017.0          11.50      12.500000      9000.0    Diesel   \n300     brio  2016.0           5.30       5.900000      5464.0    Petrol   \n\n    Seller_Type Transmission  Owner  \n0        Dealer       Manual    0.0  \n1        Dealer       Manual    0.0  \n2        Dealer       Manual    0.0  \n3        Dealer       Manual    0.0  \n4        Dealer       Manual    0.0  \n..          ...          ...    ...  \n296      Dealer       Manual    0.0  \n297      Dealer       Manual    0.0  \n298      Dealer       Manual    0.0  \n299      Dealer       Manual    0.0  \n300      Dealer       Manual    0.0  \n\n[301 rows x 9 columns]",
      "text/html": "<div>\n<style scoped>\n    .dataframe tbody tr th:only-of-type {\n        vertical-align: middle;\n    }\n\n    .dataframe tbody tr th {\n        vertical-align: top;\n    }\n\n    .dataframe thead th {\n        text-align: right;\n    }\n</style>\n<table border=\"1\" class=\"dataframe\">\n  <thead>\n    <tr style=\"text-align: right;\">\n      <th></th>\n      <th>Car_Name</th>\n      <th>Year</th>\n      <th>Selling_Price</th>\n      <th>Present_Price</th>\n      <th>Kms_Driven</th>\n      <th>Fuel_Type</th>\n      <th>Seller_Type</th>\n      <th>Transmission</th>\n      <th>Owner</th>\n    </tr>\n  </thead>\n  <tbody>\n    <tr>\n      <th>0</th>\n      <td>ritz</td>\n      <td>2014.0</td>\n      <td>3.35</td>\n      <td>5.590000</td>\n      <td>27000.0</td>\n      <td>Petrol</td>\n      <td>Dealer</td>\n      <td>Manual</td>\n      <td>0.0</td>\n    </tr>\n    <tr>\n      <th>1</th>\n      <td>sx4</td>\n      <td>2013.0</td>\n      <td>4.75</td>\n      <td>7.789353</td>\n      <td>43000.0</td>\n      <td>Diesel</td>\n      <td>Dealer</td>\n      <td>Manual</td>\n      <td>0.0</td>\n    </tr>\n    <tr>\n      <th>2</th>\n      <td>city</td>\n      <td>2017.0</td>\n      <td>7.25</td>\n      <td>9.850000</td>\n      <td>6900.0</td>\n      <td>Petrol</td>\n      <td>Dealer</td>\n      <td>Manual</td>\n      <td>0.0</td>\n    </tr>\n    <tr>\n      <th>3</th>\n      <td>wagon r</td>\n      <td>2011.0</td>\n      <td>2.85</td>\n      <td>4.150000</td>\n      <td>5200.0</td>\n      <td>Petrol</td>\n      <td>Dealer</td>\n      <td>Manual</td>\n      <td>0.0</td>\n    </tr>\n    <tr>\n      <th>4</th>\n      <td>swift</td>\n      <td>2014.0</td>\n      <td>4.60</td>\n      <td>6.870000</td>\n      <td>42450.0</td>\n      <td>Diesel</td>\n      <td>Dealer</td>\n      <td>Manual</td>\n      <td>0.0</td>\n    </tr>\n    <tr>\n      <th>...</th>\n      <td>...</td>\n      <td>...</td>\n      <td>...</td>\n      <td>...</td>\n      <td>...</td>\n      <td>...</td>\n      <td>...</td>\n      <td>...</td>\n      <td>...</td>\n    </tr>\n    <tr>\n      <th>296</th>\n      <td>city</td>\n      <td>2016.0</td>\n      <td>9.50</td>\n      <td>11.600000</td>\n      <td>33988.0</td>\n      <td>Diesel</td>\n      <td>Dealer</td>\n      <td>Manual</td>\n      <td>0.0</td>\n    </tr>\n    <tr>\n      <th>297</th>\n      <td>brio</td>\n      <td>2015.0</td>\n      <td>4.00</td>\n      <td>5.900000</td>\n      <td>60000.0</td>\n      <td>Petrol</td>\n      <td>Dealer</td>\n      <td>Manual</td>\n      <td>0.0</td>\n    </tr>\n    <tr>\n      <th>298</th>\n      <td>city</td>\n      <td>2009.0</td>\n      <td>3.35</td>\n      <td>11.000000</td>\n      <td>87934.0</td>\n      <td>Petrol</td>\n      <td>Dealer</td>\n      <td>Manual</td>\n      <td>0.0</td>\n    </tr>\n    <tr>\n      <th>299</th>\n      <td>city</td>\n      <td>2017.0</td>\n      <td>11.50</td>\n      <td>12.500000</td>\n      <td>9000.0</td>\n      <td>Diesel</td>\n      <td>Dealer</td>\n      <td>Manual</td>\n      <td>0.0</td>\n    </tr>\n    <tr>\n      <th>300</th>\n      <td>brio</td>\n      <td>2016.0</td>\n      <td>5.30</td>\n      <td>5.900000</td>\n      <td>5464.0</td>\n      <td>Petrol</td>\n      <td>Dealer</td>\n      <td>Manual</td>\n      <td>0.0</td>\n    </tr>\n  </tbody>\n</table>\n<p>301 rows × 9 columns</p>\n</div>"
     },
     "execution_count": 275,
     "metadata": {},
     "output_type": "execute_result"
    }
   ],
   "source": [
    "df"
   ],
   "metadata": {
    "collapsed": false
   }
  },
  {
   "cell_type": "markdown",
   "source": [
    "6. Plot graphics of functions x^2 and sin(x) in the same figure. Make one of them regular plot and the other one with dashed lines."
   ],
   "metadata": {
    "collapsed": false
   }
  },
  {
   "cell_type": "code",
   "execution_count": 276,
   "outputs": [
    {
     "data": {
      "text/plain": "Text(0.5, 1.0, 'Figures of $x^2$ and $\\\\sinx$')"
     },
     "execution_count": 276,
     "metadata": {},
     "output_type": "execute_result"
    },
    {
     "data": {
      "text/plain": "<Figure size 720x720 with 1 Axes>",
      "image/png": "[encoded data removed]"
     },
     "metadata": {
      "needs_background": "light"
     },
     "output_type": "display_data"
    }
   ],
   "source": [
    "fig, ax = plt.subplots(figsize=(10, 10))\n",
    "\n",
    "x = np.arange(-10, 11) / 2\n",
    "x_square = x ** 2\n",
    "sin_x = np.sin(x)\n",
    "\n",
    "ax.plot(x, x_square, \"--\")\n",
    "ax.plot(x, sin_x)\n",
    "\n",
    "ax.set_title(label=\"Figures of $x^2$ and $\\sinx$\")"
   ],
   "metadata": {
    "collapsed": false
   }
  },
  {
   "cell_type": "markdown",
   "source": [
    "7. Scatter plot data points from car data.csv using selling price and present price as data point coordinates. Differentiate the points by colors, each color corresponds to a unique fuel type (e.g., all Petrols are blue and all Diesels are red). Add a legend for each color."
   ],
   "metadata": {
    "collapsed": false
   }
  },
  {
   "cell_type": "code",
   "execution_count": 277,
   "outputs": [
    {
     "data": {
      "text/plain": "<matplotlib.legend.Legend at 0x7f8302feabe0>"
     },
     "execution_count": 277,
     "metadata": {},
     "output_type": "execute_result"
    },
    {
     "data": {
      "text/plain": "<Figure size 720x720 with 1 Axes>",
      "image/png": "[encoded data removed]"
     },
     "metadata": {
      "needs_background": "light"
     },
     "output_type": "display_data"
    }
   ],
   "source": [
    "df = pd.read_csv(\"car data.csv\")\n",
    "\n",
    "uniques = df.Fuel_Type.unique()\n",
    "colors = df.Fuel_Type.copy()\n",
    "\n",
    "for index, u in enumerate(uniques):\n",
    "    colors.replace({u: index}, inplace=True)\n",
    "\n",
    "plt.figure(figsize=(10,10))\n",
    "scatter = plt.scatter(df.Selling_Price, df.Present_Price, c=colors)\n",
    "plt.legend(*scatter.legend_elements(), loc=\"upper left\")"
   ],
   "metadata": {
    "collapsed": false
   }
  }
 ],
 "metadata": {
  "kernelspec": {
   "display_name": "Python 3 (ipykernel)",
   "language": "python",
   "name": "python3"
  },
  "language_info": {
   "codemirror_mode": {
    "name": "ipython",
    "version": 3
   },
   "file_extension": ".py",
   "mimetype": "text/x-python",
   "name": "python",
   "nbconvert_exporter": "python",
   "pygments_lexer": "ipython3",
   "version": "3.9.12"
  }
 },
 "nbformat": 4,
 "nbformat_minor": 5
}
