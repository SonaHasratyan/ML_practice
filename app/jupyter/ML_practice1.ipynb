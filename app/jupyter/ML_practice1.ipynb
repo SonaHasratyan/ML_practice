{
 "cells": [
  {
   "cell_type": "markdown",
   "id": "5c3d2fd2",
   "metadata": {},
   "source": [
    "# Numpy"
   ]
  },
  {
   "cell_type": "markdown",
   "id": "72cb1d62",
   "metadata": {},
   "source": [
    "why to use numpy?"
   ]
  },
  {
   "cell_type": "code",
   "execution_count": 60,
   "id": "d2038b86",
   "metadata": {},
   "outputs": [],
   "source": [
    "import numpy as np"
   ]
  },
  {
   "cell_type": "markdown",
   "id": "1044708f",
   "metadata": {},
   "source": [
    "np.array vs python lists - what differences do you know?"
   ]
  },
  {
   "cell_type": "code",
   "execution_count": 61,
   "id": "e587cf6d",
   "metadata": {},
   "outputs": [],
   "source": [
    "# 1-dimensonal array, or a vector\n",
    "a1 = np.array([1, 2, 3], dtype=np.float32)\n",
    "\n",
    "# 2-dimensional array, or a matrix\n",
    "a2 = np.array([[1, 2, 3],\n",
    "               [4, 5, 6]])\n",
    "\n",
    "# 3-dimensional array, or a matrix (sometimes, a tensor)\n",
    "a3 = np.array([[[1, 2, 3],\n",
    "                [4, 5, 6],\n",
    "                [7, 8, 9]],\n",
    "                [[10, 11, 12],\n",
    "                 [13, 14, 15],\n",
    "                 [16, 17, 18]]])"
   ]
  },
  {
   "cell_type": "code",
   "execution_count": 62,
   "id": "be265f8d",
   "metadata": {},
   "outputs": [
    {
     "data": {
      "text/plain": "array([1., 2., 3.], dtype=float32)"
     },
     "execution_count": 62,
     "metadata": {},
     "output_type": "execute_result"
    }
   ],
   "source": [
    "a1"
   ]
  },
  {
   "cell_type": "code",
   "execution_count": 63,
   "id": "6b5de9da",
   "metadata": {},
   "outputs": [
    {
     "data": {
      "text/plain": "((3,), 1, dtype('float32'), 3, numpy.ndarray)"
     },
     "execution_count": 63,
     "metadata": {},
     "output_type": "execute_result"
    }
   ],
   "source": [
    "a1.shape, a1.ndim, a1.dtype, a1.size, type(a1)"
   ]
  },
  {
   "cell_type": "markdown",
   "id": "406a018a",
   "metadata": {},
   "source": [
    "there are different ways to create a numpy array"
   ]
  },
  {
   "cell_type": "code",
   "execution_count": 64,
   "id": "ec091a50",
   "metadata": {},
   "outputs": [],
   "source": [
    "# np.array() - converting from a list\n",
    "# np.ones() ; np.zeros() - creating array of a given shape \n",
    "# np.random.rand(5, 3) ; np.random.randint() - generating random numbers"
   ]
  },
  {
   "cell_type": "code",
   "execution_count": 81,
   "outputs": [
    {
     "data": {
      "text/plain": "array([[[5.50351823e-01, 6.43404560e-01, 2.77163229e-01, 8.41227772e-01,\n         6.93434861e-01, 1.64766588e-01, 9.25042858e-01, 5.13978705e-01,\n         9.34508177e-01, 8.31617380e-01],\n        [3.90773382e-01, 3.70346830e-01, 4.34609433e-01, 9.55934959e-01,\n         3.47024398e-01, 8.88921583e-01, 9.15933224e-02, 9.03266020e-01,\n         6.38611708e-01, 1.20359274e-01],\n        [3.08781265e-01, 4.05372718e-01, 2.43742275e-01, 6.49981951e-01,\n         7.90482627e-01, 8.67881052e-01, 8.98390541e-01, 6.70492168e-01,\n         3.34983153e-01, 1.90958189e-02]],\n\n       [[3.52267124e-01, 3.81466917e-01, 7.74194061e-01, 7.01346507e-01,\n         7.74646900e-01, 7.53476143e-01, 2.40957712e-02, 3.60055769e-02,\n         5.29083426e-01, 3.89269192e-02],\n        [5.06690694e-01, 2.54878917e-01, 4.02176491e-01, 3.74405268e-01,\n         1.95209739e-01, 2.40605581e-01, 2.47366098e-01, 5.41548458e-01,\n         9.06578399e-01, 1.59674259e-01],\n        [5.34511471e-01, 6.14242401e-01, 1.66951078e-01, 4.48716568e-01,\n         7.67430105e-01, 3.04326588e-01, 2.54861931e-01, 9.75443648e-01,\n         3.11952746e-01, 9.62082451e-01]],\n\n       [[3.62611825e-01, 6.76899070e-01, 4.61017849e-01, 3.38856032e-01,\n         9.30886438e-01, 6.02052691e-01, 6.07385069e-01, 4.27617636e-01,\n         7.46014156e-01, 1.37832761e-01],\n        [8.86545661e-01, 6.18441797e-01, 4.42432671e-01, 9.79196813e-01,\n         2.40029245e-01, 6.52738831e-02, 5.74386529e-01, 3.46083461e-01,\n         8.77540503e-01, 1.27602123e-01],\n        [9.56287104e-01, 1.71557769e-01, 3.95321003e-01, 6.90480174e-01,\n         5.66313363e-01, 4.09565369e-03, 3.16629349e-01, 1.04958489e-01,\n         5.53283061e-01, 8.62358986e-02]],\n\n       [[8.21792429e-01, 7.19294826e-01, 5.30449556e-02, 9.21076155e-01,\n         6.73353433e-01, 9.47980330e-01, 6.03851497e-01, 8.24327867e-01,\n         6.37059659e-01, 3.59856243e-02],\n        [9.38960765e-01, 9.72234922e-01, 4.82123992e-02, 5.15142254e-01,\n         8.02638381e-01, 4.53384670e-02, 4.34894324e-01, 1.71260699e-01,\n         7.29495651e-01, 3.64867016e-01],\n        [1.32529514e-01, 4.82334824e-01, 1.21382099e-02, 6.26511582e-01,\n         9.56385313e-01, 7.56045346e-01, 1.17341329e-01, 7.74911300e-04,\n         5.42443978e-01, 6.06698116e-02]],\n\n       [[1.27892530e-01, 4.36105775e-01, 4.48051075e-02, 3.04729662e-01,\n         1.90754683e-01, 2.69581012e-01, 5.48348446e-01, 3.35962573e-01,\n         2.75841559e-01, 5.92924309e-01],\n        [2.15350500e-01, 9.76257324e-03, 9.79362202e-01, 5.95893643e-01,\n         9.60304490e-01, 7.44575672e-01, 2.11110747e-01, 9.85914939e-01,\n         9.50822991e-01, 8.71836429e-01],\n        [5.52222791e-01, 7.62744640e-01, 2.40871505e-01, 9.31316628e-01,\n         2.59461937e-01, 2.42284599e-01, 6.43559264e-01, 1.81581927e-01,\n         5.62766972e-01, 8.48482631e-01]]])"
     },
     "execution_count": 81,
     "metadata": {},
     "output_type": "execute_result"
    }
   ],
   "source": [
    "np.random.rand(5, 3, 10)"
   ],
   "metadata": {
    "collapsed": false
   }
  },
  {
   "cell_type": "code",
   "execution_count": 76,
   "id": "b5a05cb8",
   "metadata": {},
   "outputs": [
    {
     "data": {
      "text/plain": "array([1, 2, 3])"
     },
     "execution_count": 76,
     "metadata": {},
     "output_type": "execute_result"
    }
   ],
   "source": [
    "np.array([1,2,3])"
   ]
  },
  {
   "cell_type": "code",
   "execution_count": 77,
   "id": "1f6ed296",
   "metadata": {},
   "outputs": [
    {
     "data": {
      "text/plain": "array([[0., 0., 0.],\n       [0., 0., 0.]])"
     },
     "execution_count": 77,
     "metadata": {},
     "output_type": "execute_result"
    }
   ],
   "source": [
    "np.zeros((2,3))"
   ]
  },
  {
   "cell_type": "code",
   "execution_count": 78,
   "id": "6f232916",
   "metadata": {},
   "outputs": [
    {
     "data": {
      "text/plain": "array([0., 0., 0.], dtype=float32)"
     },
     "execution_count": 78,
     "metadata": {},
     "output_type": "execute_result"
    }
   ],
   "source": [
    "np.zeros_like(a1)"
   ]
  },
  {
   "cell_type": "code",
   "execution_count": 68,
   "id": "5de61647",
   "metadata": {
    "scrolled": true
   },
   "outputs": [
    {
     "data": {
      "text/plain": "array([[[3.04958414, 1.86449546, 5.14774925, 4.67646878, 6.19691169,\n         9.26747541, 4.1184299 , 3.31266279, 3.14194464, 3.5426441 ],\n        [2.36050322, 5.35603685, 3.32526603, 6.64269973, 0.12496685,\n         9.26575313, 3.94391651, 0.68272052, 1.44844691, 6.73587397],\n        [7.5565795 , 2.20430568, 2.88234974, 8.38992278, 1.56537312,\n         0.15753641, 6.05815105, 3.57017244, 2.87426069, 1.94261052]],\n\n       [[7.73257326, 6.62004581, 8.67686316, 5.04387532, 1.9823912 ,\n         8.3905315 , 8.61498183, 4.05691115, 4.46688548, 3.99084757],\n        [0.88991991, 6.5500147 , 1.03719713, 8.09329375, 6.76443162,\n         3.61856558, 0.34220036, 4.67924333, 1.43938173, 0.05222603],\n        [9.61657162, 1.35439529, 6.98120198, 6.47618457, 4.63889147,\n         1.3748056 , 9.70532366, 1.42913101, 0.12785103, 5.23327624]],\n\n       [[8.24430342, 2.54125455, 9.61800553, 0.03814955, 7.66651259,\n         0.45841585, 8.14193572, 2.86686699, 7.9108433 , 4.06799675],\n        [8.68421722, 3.02832929, 9.07227082, 7.31754499, 1.93092942,\n         4.39028181, 6.79974565, 9.07087537, 2.07703782, 0.58772359],\n        [6.86426363, 9.64737439, 0.0365203 , 5.91230798, 3.04592577,\n         1.23126311, 8.46741336, 4.86894555, 3.7834909 , 8.25424295]],\n\n       [[1.09428091, 5.93972518, 3.12895231, 2.19349173, 8.33590325,\n         2.39886209, 6.3337173 , 1.5635867 , 6.16202652, 8.20055525],\n        [6.17594153, 8.678984  , 7.89059389, 8.51395173, 1.49843471,\n         2.09349848, 8.4285801 , 0.76649492, 4.4591538 , 2.91112322],\n        [6.38680752, 5.0172261 , 3.2868146 , 9.8509688 , 5.35742771,\n         3.8075399 , 2.70137122, 8.66540815, 4.79934237, 3.14091662]],\n\n       [[4.42427124, 6.66186265, 7.20569199, 0.11719913, 8.27137905,\n         5.78072338, 3.11094961, 4.01626996, 8.58715313, 8.54154563],\n        [9.81916005, 2.85020997, 8.47041104, 3.74465076, 8.36486768,\n         8.00189539, 9.30403525, 2.72519798, 7.11323961, 9.61675848],\n        [3.41359332, 6.43935623, 5.58893213, 6.33197034, 2.84846638,\n         8.44742669, 8.04611027, 4.54730713, 7.21788759, 5.52337642]]])"
     },
     "execution_count": 68,
     "metadata": {},
     "output_type": "execute_result"
    }
   ],
   "source": [
    "np.random.rand(5,3,10)*10"
   ]
  },
  {
   "cell_type": "markdown",
   "id": "4a70056a",
   "metadata": {},
   "source": [
    "what is np.random.seed()  ?"
   ]
  },
  {
   "cell_type": "markdown",
   "id": "b76eb92b",
   "metadata": {},
   "source": [
    "slicing in numpy arrays"
   ]
  },
  {
   "cell_type": "markdown",
   "id": "ecd15fcf",
   "metadata": {},
   "source": [
    "Most mathematical functions are implemented both as methods of Numpy and as methods of Numpy object"
   ]
  },
  {
   "cell_type": "markdown",
   "id": "12bdea00",
   "metadata": {},
   "source": [
    "##### Broadcasting"
   ]
  },
  {
   "cell_type": "markdown",
   "id": "59d4c2b8",
   "metadata": {},
   "source": [
    "Broadcasting is a feature of NumPy which performs an operation across multiple dimensions of data without replicating the data"
   ]
  },
  {
   "cell_type": "code",
   "execution_count": 82,
   "id": "2687ed8f",
   "metadata": {},
   "outputs": [
    {
     "data": {
      "text/plain": "((3,), (2, 3), (2, 3, 3))"
     },
     "execution_count": 82,
     "metadata": {},
     "output_type": "execute_result"
    }
   ],
   "source": [
    "a1.shape, a2.shape, a3.shape"
   ]
  },
  {
   "cell_type": "markdown",
   "id": "50e8e1f6",
   "metadata": {},
   "source": [
    "##### Reshaping"
   ]
  },
  {
   "cell_type": "markdown",
   "id": "4e27662d",
   "metadata": {},
   "source": [
    "You can reshape your np.array to any possible shape (but be carefull to get what you really want)"
   ]
  },
  {
   "cell_type": "code",
   "execution_count": 84,
   "outputs": [
    {
     "data": {
      "text/plain": "(3, 1)"
     },
     "execution_count": 84,
     "metadata": {},
     "output_type": "execute_result"
    }
   ],
   "source": [
    "a1[:,np.newaxis].shape"
   ],
   "metadata": {
    "collapsed": false
   }
  },
  {
   "cell_type": "code",
   "execution_count": 85,
   "id": "4d559b86",
   "metadata": {},
   "outputs": [
    {
     "data": {
      "text/plain": "(2, 3)"
     },
     "execution_count": 85,
     "metadata": {},
     "output_type": "execute_result"
    }
   ],
   "source": [
    "a2.shape"
   ]
  },
  {
   "cell_type": "code",
   "execution_count": 71,
   "id": "0a093289",
   "metadata": {},
   "outputs": [
    {
     "data": {
      "text/plain": "array([[1, 2, 3],\n       [4, 5, 6]])"
     },
     "execution_count": 71,
     "metadata": {},
     "output_type": "execute_result"
    }
   ],
   "source": [
    "a2"
   ]
  },
  {
   "cell_type": "code",
   "execution_count": 72,
   "id": "a29b6f35",
   "metadata": {},
   "outputs": [
    {
     "data": {
      "text/plain": "array([[1, 2],\n       [3, 4],\n       [5, 6]])"
     },
     "execution_count": 72,
     "metadata": {},
     "output_type": "execute_result"
    }
   ],
   "source": [
    "a2.reshape((3,2))"
   ]
  },
  {
   "cell_type": "code",
   "execution_count": 73,
   "id": "2fec27e4",
   "metadata": {},
   "outputs": [],
   "source": [
    "# reshaping with -1"
   ]
  },
  {
   "cell_type": "markdown",
   "id": "66962c90",
   "metadata": {},
   "source": [
    "##### sorting"
   ]
  },
  {
   "cell_type": "markdown",
   "id": "b8a1eb28",
   "metadata": {},
   "source": [
    "np.sort() vs np.argsort()"
   ]
  },
  {
   "cell_type": "markdown",
   "id": "e6f6a6fe",
   "metadata": {},
   "source": [
    "##### Linear Algebra"
   ]
  },
  {
   "cell_type": "markdown",
   "id": "4503f8f6",
   "metadata": {},
   "source": [
    "all operations needed are much easier in numpy"
   ]
  },
  {
   "cell_type": "code",
   "execution_count": 88,
   "outputs": [
    {
     "data": {
      "text/plain": "array([[1, 4],\n       [2, 5],\n       [3, 6]])"
     },
     "execution_count": 88,
     "metadata": {},
     "output_type": "execute_result"
    }
   ],
   "source": [
    "a2.T"
   ],
   "metadata": {
    "collapsed": false
   }
  },
  {
   "cell_type": "code",
   "execution_count": 89,
   "outputs": [
    {
     "data": {
      "text/plain": "array([[1, 2, 3],\n       [4, 5, 6]])"
     },
     "execution_count": 89,
     "metadata": {},
     "output_type": "execute_result"
    }
   ],
   "source": [
    "a2"
   ],
   "metadata": {
    "collapsed": false
   }
  },
  {
   "cell_type": "code",
   "execution_count": 90,
   "outputs": [
    {
     "data": {
      "text/plain": "array([[14, 32],\n       [32, 77]])"
     },
     "execution_count": 90,
     "metadata": {},
     "output_type": "execute_result"
    }
   ],
   "source": [
    "a2 @ a2.T"
   ],
   "metadata": {
    "collapsed": false
   }
  },
  {
   "cell_type": "code",
   "execution_count": 74,
   "id": "bfb0f39e",
   "metadata": {},
   "outputs": [
    {
     "data": {
      "text/plain": "array([[14, 32],\n       [32, 77]])"
     },
     "execution_count": 74,
     "metadata": {},
     "output_type": "execute_result"
    }
   ],
   "source": [
    "# this is matrix multiplication in numpy\n",
    "a2.dot(a2.T) # or np.dot(a2, a2.T)"
   ]
  },
  {
   "cell_type": "code",
   "execution_count": 95,
   "id": "d75c6ca4",
   "metadata": {},
   "outputs": [],
   "source": [
    "# implement matrix multiplication in pure python\n",
    "\n",
    "def mtrx_mult(m1, m2):\n",
    "    return m1 @ m2\n",
    "\n",
    "# assert (mtrx_mult(a2, a2.T) == a2.dot(a2.T))"
   ]
  },
  {
   "cell_type": "code",
   "execution_count": null,
   "id": "2921c3b3",
   "metadata": {},
   "outputs": [],
   "source": [
    "import numpy.linalg as linalg"
   ]
  },
  {
   "cell_type": "code",
   "execution_count": null,
   "id": "9ff7ad7a",
   "metadata": {},
   "outputs": [],
   "source": [
    "# linalg.eigvals\n",
    "# linalg.det\n",
    "# linalg.inv\n",
    "# linalg.solve"
   ]
  },
  {
   "cell_type": "markdown",
   "id": "bc6183ea",
   "metadata": {},
   "source": [
    "##### Statistics"
   ]
  },
  {
   "cell_type": "code",
   "execution_count": null,
   "id": "c8c3469e",
   "metadata": {},
   "outputs": [],
   "source": [
    "# np.mean(); np.var(); np.std()"
   ]
  },
  {
   "cell_type": "code",
   "execution_count": null,
   "id": "a2a719a3",
   "metadata": {},
   "outputs": [],
   "source": [
    "# lets calculate variance by its definition"
   ]
  },
  {
   "cell_type": "markdown",
   "id": "f9999374",
   "metadata": {},
   "source": [
    "You can generate random samples from different distributions. You can find the list here - https://numpy.org/doc/1.16/reference/routines.random.html"
   ]
  },
  {
   "cell_type": "markdown",
   "id": "95819cab",
   "metadata": {},
   "source": [
    "# Pandas"
   ]
  },
  {
   "cell_type": "markdown",
   "id": "a4b7c394",
   "metadata": {},
   "source": [
    "why to use pandas?"
   ]
  },
  {
   "cell_type": "code",
   "execution_count": null,
   "id": "d52f5cda",
   "metadata": {},
   "outputs": [],
   "source": [
    "import pandas as pd"
   ]
  },
  {
   "cell_type": "markdown",
   "id": "e66d25b2",
   "metadata": {},
   "source": [
    "##### pd.Series"
   ]
  },
  {
   "cell_type": "code",
   "execution_count": null,
   "id": "90e7397a",
   "metadata": {},
   "outputs": [],
   "source": [
    "clubs = pd.Series([\"Real\", \"PSG\", \"Liverpool\"])\n",
    "titles = pd.Series([35, 10, 1])"
   ]
  },
  {
   "cell_type": "code",
   "execution_count": null,
   "id": "765736d3",
   "metadata": {},
   "outputs": [],
   "source": [
    "clubs"
   ]
  },
  {
   "cell_type": "code",
   "execution_count": null,
   "id": "f9cbb15b",
   "metadata": {},
   "outputs": [],
   "source": [
    "titles"
   ]
  },
  {
   "cell_type": "markdown",
   "id": "f5d0cdb5",
   "metadata": {},
   "source": [
    "##### pd.Dataframe"
   ]
  },
  {
   "cell_type": "code",
   "execution_count": null,
   "id": "48085080",
   "metadata": {},
   "outputs": [],
   "source": [
    "club_data = pd.DataFrame({\"Club name\": clubs, \n",
    "                         \"Titles\": titles})"
   ]
  },
  {
   "cell_type": "code",
   "execution_count": null,
   "id": "fb004db3",
   "metadata": {},
   "outputs": [],
   "source": [
    "club_data"
   ]
  },
  {
   "cell_type": "code",
   "execution_count": null,
   "id": "b1494ece",
   "metadata": {},
   "outputs": [],
   "source": [
    "# common terms here - index, columns, rows, values (data)"
   ]
  },
  {
   "cell_type": "code",
   "execution_count": null,
   "id": "34816729",
   "metadata": {},
   "outputs": [],
   "source": [
    "df = pd.read_csv('car data.csv')"
   ]
  },
  {
   "cell_type": "markdown",
   "id": "5f0c393a",
   "metadata": {},
   "source": [
    "##### slicing"
   ]
  },
  {
   "cell_type": "code",
   "execution_count": null,
   "id": "ea1e898f",
   "metadata": {},
   "outputs": [],
   "source": [
    "df[['Kms_Driven', 'Present_Price']].head() # .tail()"
   ]
  },
  {
   "cell_type": "code",
   "execution_count": null,
   "id": "68b7476f",
   "metadata": {},
   "outputs": [],
   "source": [
    "df.loc[2:5]"
   ]
  },
  {
   "cell_type": "code",
   "execution_count": null,
   "id": "97ce1227",
   "metadata": {},
   "outputs": [],
   "source": [
    "df.iloc[2:5]"
   ]
  },
  {
   "cell_type": "code",
   "execution_count": null,
   "id": "38188316",
   "metadata": {},
   "outputs": [],
   "source": [
    "# df.to_csv('car_data_upd.csv')"
   ]
  },
  {
   "cell_type": "code",
   "execution_count": null,
   "id": "1ece3023",
   "metadata": {},
   "outputs": [],
   "source": [
    "df.dtypes"
   ]
  },
  {
   "cell_type": "code",
   "execution_count": null,
   "id": "7c347f0e",
   "metadata": {},
   "outputs": [],
   "source": [
    "df.describe()"
   ]
  },
  {
   "cell_type": "code",
   "execution_count": null,
   "id": "2caaee40",
   "metadata": {},
   "outputs": [],
   "source": [
    "df.info()"
   ]
  },
  {
   "cell_type": "code",
   "execution_count": null,
   "id": "b1c3b0f3",
   "metadata": {},
   "outputs": [],
   "source": [
    "df[df['Year']<2015].tail(8)"
   ]
  },
  {
   "cell_type": "code",
   "execution_count": null,
   "id": "ac3f72ca",
   "metadata": {},
   "outputs": [],
   "source": [
    "df_grouped = df.groupby('Car_Name').max()\n",
    "df_grouped"
   ]
  },
  {
   "cell_type": "code",
   "execution_count": null,
   "id": "cbd2d60c",
   "metadata": {},
   "outputs": [],
   "source": [
    "df['Kms_Driven'].plot()"
   ]
  },
  {
   "cell_type": "code",
   "execution_count": null,
   "id": "4198d7bd",
   "metadata": {},
   "outputs": [],
   "source": [
    "df['Kms_Driven'].hist()"
   ]
  },
  {
   "cell_type": "code",
   "execution_count": null,
   "id": "83482b09",
   "metadata": {},
   "outputs": [],
   "source": [
    "df"
   ]
  },
  {
   "cell_type": "markdown",
   "id": "131e0372",
   "metadata": {},
   "source": [
    "##### pandas join, merge, concat and append"
   ]
  },
  {
   "cell_type": "markdown",
   "id": "7dec6224",
   "metadata": {},
   "source": [
    "We will not go through the methods here. You can find all methods and examples here - https://pandas.pydata.org/docs/user_guide/merging.html"
   ]
  },
  {
   "cell_type": "markdown",
   "id": "4355ba9d",
   "metadata": {},
   "source": [
    "##### Dask"
   ]
  },
  {
   "cell_type": "markdown",
   "id": "051a8539",
   "metadata": {},
   "source": [
    "similar library - (e.g., for working with several dataframes parallely)\n",
    "https://docs.dask.org/en/stable/"
   ]
  },
  {
   "cell_type": "markdown",
   "id": "251dba03",
   "metadata": {},
   "source": [
    "# Matplotlib"
   ]
  },
  {
   "cell_type": "code",
   "execution_count": null,
   "id": "6442c606",
   "metadata": {},
   "outputs": [],
   "source": [
    "from matplotlib import pyplot as plt"
   ]
  },
  {
   "cell_type": "code",
   "execution_count": null,
   "id": "537be86e",
   "metadata": {},
   "outputs": [],
   "source": [
    "plt.plot([1, 2, 3, 4])"
   ]
  },
  {
   "cell_type": "code",
   "execution_count": null,
   "id": "172ec414",
   "metadata": {},
   "outputs": [],
   "source": [
    "plt.plot([1, 2, 3, 4], [5,6,11,8])"
   ]
  },
  {
   "cell_type": "code",
   "execution_count": null,
   "id": "56b8d40e",
   "metadata": {},
   "outputs": [],
   "source": [
    "x = [1, 2, 3, 4]\n",
    "y = [5, 6, 11, 8]\n",
    "\n",
    "fig, ax = plt.subplots(figsize=(10,10))\n",
    "\n",
    "ax.plot(x, y)\n",
    "ax.set(title=\"Sample Simple Plot\", xlabel=\"x-axis\", ylabel=\"y-axis\")\n",
    "\n",
    "fig.savefig(\"simple-plot.png\")"
   ]
  },
  {
   "cell_type": "code",
   "execution_count": null,
   "id": "5ccde5c1",
   "metadata": {},
   "outputs": [],
   "source": []
  }
 ],
 "metadata": {
  "kernelspec": {
   "display_name": "Python 3 (ipykernel)",
   "language": "python",
   "name": "python3"
  },
  "language_info": {
   "codemirror_mode": {
    "name": "ipython",
    "version": 3
   },
   "file_extension": ".py",
   "mimetype": "text/x-python",
   "name": "python",
   "nbconvert_exporter": "python",
   "pygments_lexer": "ipython3",
   "version": "3.9.12"
  }
 },
 "nbformat": 4,
 "nbformat_minor": 5
}
