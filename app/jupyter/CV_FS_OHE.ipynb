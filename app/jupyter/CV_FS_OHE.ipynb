{
 "cells": [
  {
   "cell_type": "code",
   "execution_count": 20,
   "metadata": {},
   "outputs": [],
   "source": [
    "# pip install sklearn"
   ]
  },
  {
   "cell_type": "code",
   "execution_count": 21,
   "metadata": {},
   "outputs": [],
   "source": [
    "import pandas as pd\n",
    "from sklearn import datasets, linear_model\n",
    "from sklearn.model_selection import train_test_split\n",
    "from matplotlib import pyplot as plt\n",
    "from sklearn.metrics import mean_squared_error"
   ]
  },
  {
   "cell_type": "code",
   "execution_count": 22,
   "metadata": {},
   "outputs": [],
   "source": [
    "# Load the Diabetes dataset\n",
    "columns = 'age sex bmi map tc ldl hdl tch ltg glu'.split() # Declare the columns names\n",
    "diabetes = datasets.load_diabetes() # Call the diabetes dataset from sklearn\n",
    "df = pd.DataFrame(diabetes.data, columns=columns) # load the dataset as a pandas data frame\n",
    "y = diabetes.target # define the target variable (dependent variable) as y"
   ]
  },
  {
   "cell_type": "code",
   "execution_count": 23,
   "metadata": {},
   "outputs": [
    {
     "data": {
      "text/plain": "        age       sex       bmi       map        tc       ldl       hdl  \\\n0  0.038076  0.050680  0.061696  0.021872 -0.044223 -0.034821 -0.043401   \n1 -0.001882 -0.044642 -0.051474 -0.026328 -0.008449 -0.019163  0.074412   \n2  0.085299  0.050680  0.044451 -0.005671 -0.045599 -0.034194 -0.032356   \n3 -0.089063 -0.044642 -0.011595 -0.036656  0.012191  0.024991 -0.036038   \n4  0.005383 -0.044642 -0.036385  0.021872  0.003935  0.015596  0.008142   \n\n        tch       ltg       glu  \n0 -0.002592  0.019908 -0.017646  \n1 -0.039493 -0.068330 -0.092204  \n2 -0.002592  0.002864 -0.025930  \n3  0.034309  0.022692 -0.009362  \n4 -0.002592 -0.031991 -0.046641  ",
      "text/html": "<div>\n<style scoped>\n    .dataframe tbody tr th:only-of-type {\n        vertical-align: middle;\n    }\n\n    .dataframe tbody tr th {\n        vertical-align: top;\n    }\n\n    .dataframe thead th {\n        text-align: right;\n    }\n</style>\n<table border=\"1\" class=\"dataframe\">\n  <thead>\n    <tr style=\"text-align: right;\">\n      <th></th>\n      <th>age</th>\n      <th>sex</th>\n      <th>bmi</th>\n      <th>map</th>\n      <th>tc</th>\n      <th>ldl</th>\n      <th>hdl</th>\n      <th>tch</th>\n      <th>ltg</th>\n      <th>glu</th>\n    </tr>\n  </thead>\n  <tbody>\n    <tr>\n      <th>0</th>\n      <td>0.038076</td>\n      <td>0.050680</td>\n      <td>0.061696</td>\n      <td>0.021872</td>\n      <td>-0.044223</td>\n      <td>-0.034821</td>\n      <td>-0.043401</td>\n      <td>-0.002592</td>\n      <td>0.019908</td>\n      <td>-0.017646</td>\n    </tr>\n    <tr>\n      <th>1</th>\n      <td>-0.001882</td>\n      <td>-0.044642</td>\n      <td>-0.051474</td>\n      <td>-0.026328</td>\n      <td>-0.008449</td>\n      <td>-0.019163</td>\n      <td>0.074412</td>\n      <td>-0.039493</td>\n      <td>-0.068330</td>\n      <td>-0.092204</td>\n    </tr>\n    <tr>\n      <th>2</th>\n      <td>0.085299</td>\n      <td>0.050680</td>\n      <td>0.044451</td>\n      <td>-0.005671</td>\n      <td>-0.045599</td>\n      <td>-0.034194</td>\n      <td>-0.032356</td>\n      <td>-0.002592</td>\n      <td>0.002864</td>\n      <td>-0.025930</td>\n    </tr>\n    <tr>\n      <th>3</th>\n      <td>-0.089063</td>\n      <td>-0.044642</td>\n      <td>-0.011595</td>\n      <td>-0.036656</td>\n      <td>0.012191</td>\n      <td>0.024991</td>\n      <td>-0.036038</td>\n      <td>0.034309</td>\n      <td>0.022692</td>\n      <td>-0.009362</td>\n    </tr>\n    <tr>\n      <th>4</th>\n      <td>0.005383</td>\n      <td>-0.044642</td>\n      <td>-0.036385</td>\n      <td>0.021872</td>\n      <td>0.003935</td>\n      <td>0.015596</td>\n      <td>0.008142</td>\n      <td>-0.002592</td>\n      <td>-0.031991</td>\n      <td>-0.046641</td>\n    </tr>\n  </tbody>\n</table>\n</div>"
     },
     "execution_count": 23,
     "metadata": {},
     "output_type": "execute_result"
    }
   ],
   "source": [
    "df.head()"
   ]
  },
  {
   "cell_type": "code",
   "execution_count": 24,
   "metadata": {},
   "outputs": [
    {
     "data": {
      "text/plain": "array([151.,  75., 141., 206., 135.])"
     },
     "execution_count": 24,
     "metadata": {},
     "output_type": "execute_result"
    }
   ],
   "source": [
    "y[:5]"
   ]
  },
  {
   "cell_type": "code",
   "execution_count": 25,
   "metadata": {},
   "outputs": [
    {
     "name": "stdout",
     "output_type": "stream",
     "text": [
      "(353, 10) (353,)\n",
      "(89, 10) (89,)\n"
     ]
    }
   ],
   "source": [
    "# create training and testing vars\n",
    "X_train, X_test, y_train, y_test = train_test_split(df, y, test_size=0.2)\n",
    "print (X_train.shape, y_train.shape)\n",
    "print (X_test.shape, y_test.shape)"
   ]
  },
  {
   "cell_type": "code",
   "execution_count": 26,
   "metadata": {},
   "outputs": [],
   "source": [
    "# fit a model\n",
    "lm = linear_model.LinearRegression()\n",
    "model = lm.fit(X_train, y_train)\n",
    "predictions = lm.predict(X_test)"
   ]
  },
  {
   "cell_type": "code",
   "execution_count": 27,
   "metadata": {},
   "outputs": [
    {
     "data": {
      "text/plain": "array([238.86856541,  56.24501183, 228.88484615, 176.92861553,\n        90.95404935])"
     },
     "execution_count": 27,
     "metadata": {},
     "output_type": "execute_result"
    }
   ],
   "source": [
    "predictions[0:5]"
   ]
  },
  {
   "cell_type": "code",
   "execution_count": 28,
   "metadata": {},
   "outputs": [
    {
     "data": {
      "text/plain": "Text(0, 0.5, 'Predictions')"
     },
     "execution_count": 28,
     "metadata": {},
     "output_type": "execute_result"
    },
    {
     "data": {
      "text/plain": "<Figure size 640x480 with 1 Axes>",
      "image/png": "[encoded data removed]"
     },
     "metadata": {},
     "output_type": "display_data"
    }
   ],
   "source": [
    "## The line / model\n",
    "plt.scatter(y_test, predictions)\n",
    "plt.xlabel('True Values')\n",
    "plt.ylabel('Predictions')"
   ]
  },
  {
   "cell_type": "code",
   "execution_count": 29,
   "metadata": {},
   "outputs": [],
   "source": [
    "import numpy as np"
   ]
  },
  {
   "cell_type": "code",
   "execution_count": 30,
   "metadata": {},
   "outputs": [
    {
     "name": "stdout",
     "output_type": "stream",
     "text": [
      "Test RMSE: 50.72490387970816\n",
      "Train RMSE: 54.30278924826073\n"
     ]
    }
   ],
   "source": [
    "print ('Test RMSE:', np.sqrt(mean_squared_error(predictions, y_test)))\n",
    "print ('Train RMSE:', np.sqrt(mean_squared_error(lm.predict(X_train), y_train)))"
   ]
  },
  {
   "cell_type": "markdown",
   "metadata": {},
   "source": [
    "# Cross Validation"
   ]
  },
  {
   "cell_type": "code",
   "execution_count": 31,
   "metadata": {},
   "outputs": [
    {
     "data": {
      "text/plain": "2"
     },
     "execution_count": 31,
     "metadata": {},
     "output_type": "execute_result"
    }
   ],
   "source": [
    "from sklearn.model_selection import KFold # import KFold\n",
    "X = np.array([[1, 2], [3, 4], [1, 2], [3, 4]]) # create an array\n",
    "y = np.array([1, 2, 3, 4]) # Create another array\n",
    "kf = KFold(n_splits=2) # Define the split - into 2 folds \n",
    "kf.get_n_splits(X) # returns the number of splitting iterations in the cross-validator"
   ]
  },
  {
   "cell_type": "code",
   "execution_count": 32,
   "metadata": {},
   "outputs": [
    {
     "name": "stdout",
     "output_type": "stream",
     "text": [
      "KFold(n_splits=2, random_state=None, shuffle=False)\n"
     ]
    }
   ],
   "source": [
    "print(kf)"
   ]
  },
  {
   "cell_type": "code",
   "execution_count": 65,
   "metadata": {},
   "outputs": [
    {
     "name": "stdout",
     "output_type": "stream",
     "text": [
      "TRAIN: [2 3] TEST: [0 1]\n",
      "TRAIN: [0 1] TEST: [2 3]\n"
     ]
    }
   ],
   "source": [
    "for train_index, test_index in kf.split(X):\n",
    "    print('TRAIN:', train_index, 'TEST:', test_index)\n",
    "    X_train, X_test = X[train_index], X[test_index]\n",
    "    y_train, y_test = y[train_index], y[test_index]"
   ]
  },
  {
   "cell_type": "markdown",
   "metadata": {},
   "source": [
    "### LOOCV"
   ]
  },
  {
   "cell_type": "code",
   "execution_count": 34,
   "metadata": {},
   "outputs": [
    {
     "name": "stdout",
     "output_type": "stream",
     "text": [
      "TRAIN: [1 2 3] TEST: [0]\n",
      "TRAIN: [0 2 3] TEST: [1]\n",
      "TRAIN: [0 1 3] TEST: [2]\n",
      "TRAIN: [0 1 2] TEST: [3]\n"
     ]
    }
   ],
   "source": [
    "from sklearn.model_selection import LeaveOneOut \n",
    "X = np.array([[1, 2], [3, 4], [1, 2], [3, 4]]) # create an array\n",
    "y = np.array([1, 2, 3, 4]) # Create another array\n",
    "loo = LeaveOneOut()\n",
    "loo.get_n_splits(X)\n",
    "\n",
    "\n",
    "for train_index, test_index in loo.split(X):\n",
    "    print('TRAIN:', train_index, 'TEST:', test_index)\n",
    "    X_train, X_test = X[train_index], X[test_index]\n",
    "    y_train, y_test = y[train_index], y[test_index]"
   ]
  },
  {
   "cell_type": "code",
   "execution_count": 35,
   "metadata": {},
   "outputs": [],
   "source": [
    "from sklearn.model_selection import cross_val_score, cross_val_predict\n",
    "from sklearn import metrics"
   ]
  },
  {
   "cell_type": "code",
   "execution_count": 36,
   "metadata": {},
   "outputs": [
    {
     "name": "stdout",
     "output_type": "stream",
     "text": [
      "Cross-validated scores: [0.4554861  0.46138572 0.40094084 0.55220736 0.43942775 0.56923406]\n"
     ]
    }
   ],
   "source": [
    "# Perform 6-fold cross validation\n",
    "y = diabetes.target # define the target variable (dependent variable) as y\n",
    "\n",
    "scores = cross_val_score(model, df, y, cv=6)\n",
    "print ('Cross-validated scores:', scores)"
   ]
  },
  {
   "cell_type": "code",
   "execution_count": 37,
   "metadata": {},
   "outputs": [
    {
     "data": {
      "text/plain": "<matplotlib.collections.PathCollection at 0x7fbb47b71ed0>"
     },
     "execution_count": 37,
     "metadata": {},
     "output_type": "execute_result"
    },
    {
     "data": {
      "text/plain": "<Figure size 640x480 with 1 Axes>",
      "image/png": "[encoded data removed]"
     },
     "metadata": {},
     "output_type": "display_data"
    }
   ],
   "source": [
    "# Make cross validated predictions\n",
    "predictions = cross_val_predict(model, df, y, cv=10)\n",
    "plt.scatter(y, predictions)"
   ]
  },
  {
   "cell_type": "code",
   "execution_count": 38,
   "metadata": {},
   "outputs": [
    {
     "data": {
      "text/plain": "array([204.74116867,  66.83256782, 175.60492163, 165.82131555,\n       128.83457511, 103.05913006,  77.50532134, 125.41897877,\n       161.76534891, 209.5903942 ,  98.5866784 , 102.25391983,\n       114.3072534 , 161.82165714, 100.50073703, 176.55193264,\n       206.59118368, 184.3577636 , 147.82727722, 121.98438237,\n       119.6409081 ,  89.72660898, 117.35311756, 251.99153125,\n       164.01794205, 146.8714022 ,  95.41577967, 178.88367056,\n       127.20395689, 179.54810126, 159.81822573,  67.84440925,\n       259.65876453, 105.56967912,  78.43441365,  83.11721913,\n       203.10947232, 154.06508322, 240.73979433, 137.18048859,\n       158.32510156,  72.81647497, 145.48464826,  78.96090116,\n       218.96414895, 125.73533137, 141.31322446, 107.95054173,\n        72.54328656, 192.8483576 , 157.23952998, 171.00497069,\n       134.05940748, 158.09263799, 139.09864269,  71.7115061 ,\n       208.28948411,  77.67427519, 102.08430196, 135.69822265,\n       113.420112  , 184.40319269,  61.37326553,  96.7558958 ,\n       115.13669154, 192.96122497, 152.17140404, 125.91646063,\n       116.54857345, 120.9476664 ,  72.83442547, 237.80520247,\n       140.93985278, 126.32171099, 153.94984147, 130.34105028,\n       194.01999216,  76.22702663, 164.47700837,  90.0200289 ,\n       173.63636497, 124.91517638,  60.0997798 , 151.51019465,\n        49.49512347, 163.90338344,  42.25319657, 151.03028325,\n        83.92352659, 106.9815173 ,  76.56960934, 188.09900649,\n       192.94324797,  57.85614509, 106.71990668, 117.79183547,\n       210.93119808, 209.48574328, 123.9059662 , 141.18573722,\n       168.1162149 , 106.54851444, 143.8504943 , 161.39975412,\n       151.2476816 , 116.22110424,  66.25412271, 155.6593349 ,\n       231.37052133, 141.0532116 ,  35.00100353, 123.82224868,\n       145.94991057, 205.77504984, 291.26236897, 190.9183206 ,\n       218.83334263, 233.56941108, 159.70049481, 150.17620954,\n       153.4375331 , 203.77253004, 222.45944595, 178.49857564,\n       168.72719253, 185.83633158,  48.12721609, 115.29401806,\n        89.02866631, 207.21247233, 241.47969385,  62.4650992 ,\n       110.48642382,  64.20876564, 142.74345613, 235.60123114,\n        62.36571494, 234.61718561, 249.58144041, 252.8322193 ,\n       155.38342284, 221.89224941, 172.27654211, 119.10567488,\n       174.48373571, 240.74767024, 188.90524344, 226.75230706,\n       115.08374723, 176.7894474 , 208.18502433, 143.95755006,\n       195.35861917, 121.86431449, 149.33032757, 198.50810668,\n       147.83219548, 123.32177297,  88.33254123, 237.37977886,\n        86.12486003, 230.79053732, 143.13761494, 193.68498109,\n       144.37406259,  77.56501214,  64.18008789, 259.83413616,\n       218.85044413, 230.54225156,  47.3442212 ,  90.76381895,\n       218.72771281,  99.78806435, 162.80142303, 120.27124129,\n       156.0573753 , 220.59611436,  98.28862201, 168.8582544 ,\n       182.71491046,  89.61072332, 173.87820788, 160.53121874,\n       203.37962004, 191.48829644, 200.20484874,  67.41018459,\n       157.34113161, 118.09372281, 199.17930011, 130.06725441,\n        92.04683258, 140.78024606, 159.99621333, 170.75161156,\n        98.77396491, 192.31621505, 142.74848618, 181.11668631,\n        94.65682358,  68.61319669, 166.83455853, 200.08065972,\n       177.03314253, 232.51125805, 161.4405868 , 215.37710009,\n       223.45191543, 175.28943642, 126.63143458, 175.30535382,\n       153.35269026,  99.9902435 ,  98.99360464, 264.63068223,\n       224.48008927, 224.45434513, 136.34534245, 149.25664116,\n        51.06111681, 145.41578815, 150.76343997, 123.08873517,\n        77.41910622, 228.16709834,  74.86918773, 107.12192153,\n       118.51083263,  95.39640717, 159.83340958, 162.63280506,\n       157.31842933, 145.16561751, 231.30071674, 177.80850271,\n       190.78961642,  69.76553506, 193.64464423, 179.39354548,\n       233.24941168, 117.7434865 ,  80.39593686, 102.38731252,\n       133.43835395, 105.09898155, 124.45488129,  85.5532608 ,\n       235.36023779, 244.19331632, 263.35375438, 268.98107734,\n       181.45705801, 205.72296843, 247.61811594, 121.57490706,\n       261.97694107, 104.89854157, 118.20507178, 144.66889859,\n        60.44396207, 136.0970661 , 258.99566506,  41.53126226,\n       120.95759874, 127.30418206,  39.58736872, 132.30685067,\n       242.32251759,  89.34307598, 194.28133488, 162.91363909,\n       146.19567644, 184.97779857, 173.23403178, 162.37766426,\n       179.34803441, 121.36044042, 110.24048032, 116.13472051,\n       164.8261252 , 106.37999475, 129.3846571 ,  83.06160625,\n       157.45162409, 199.0309669 ,  89.45636729, 135.46081464,\n        70.73346454, 193.35307687, 218.84769683, 191.20806025,\n        93.47912986, 177.71111355,  76.50016001, 158.06076297,\n        70.29793547,  94.80722124, 109.77843237, 124.02235623,\n       219.27939465, 125.45630677, 203.22420986, 220.24429737,\n       111.63777738, 135.01746636, 125.60757608, 146.58514814,\n        87.42884214, 139.42322969, 205.12320105, 174.57708479,\n       122.32192993, 215.59886731, 175.72354066, 111.27925659,\n       201.41967507, 173.9133702 , 164.69739219, 196.831901  ,\n       193.68825676, 290.85341525, 289.90762643, 224.16809801,\n       213.46498657, 222.74418376, 157.14775672, 226.76631555,\n       191.90855299, 102.23140575, 177.15321954, 109.75382626,\n       294.60178607, 181.79703759,  76.41009375,  85.97426946,\n       256.05304759, 172.49075872, 120.47364202, 149.0620068 ,\n       168.79651787, 181.79813651, 161.29778851, 156.95172989,\n       144.70939654, 124.46294675, 178.50062362, 103.87633849,\n       134.06495956,  90.67661292, 253.83406306,  83.87243564,\n        62.38525174, 166.46918223, 193.35239185, 131.92338079,\n        92.75338111, 204.02770122,  52.39095749, 172.07242034,\n       196.04441105, 117.32641867, 233.38772733, 163.9784248 ,\n       157.59944268, 161.74862558, 253.62396304, 255.91522435,\n       198.27787538, 183.18090486,  58.09521718, 199.17574043,\n       109.35158216, 141.99176733, 130.42474933, 178.8438521 ,\n       210.83630371, 167.82576246, 163.74934672, 135.60330006,\n       174.0594113 ,  74.59578389, 251.03293307, 113.42859994,\n       111.98067105, 138.78250975, 109.08952938,  91.10043295,\n       163.0912149 ,  74.93977287, 256.54109577,  53.12115645,\n        95.98186359, 101.00489913, 264.14060587, 171.73646245,\n        60.65558743, 183.10493448, 167.64584941, 187.43127434,\n       186.36426486,  90.74696376, 152.50793048, 249.88521841,\n       198.1690098 , 280.34291449,  50.21423222, 176.61551852,\n       201.67335023, 172.27167772, 154.23159921, 151.72078601,\n       234.78914173, 123.09705626, 165.11479064, 174.67055704,\n       226.70588198, 152.30898089, 100.76980101,  84.49401832,\n       144.29238838, 191.8711635 , 194.85924845, 153.33397409,\n       172.79118167, 111.4128858 , 164.09495734, 132.29877678,\n       258.80251073, 100.2312921 , 117.22654726, 123.30571751,\n       219.57181207,  63.47710967, 133.23449281, 120.6690893 ,\n        53.76462708, 190.80865014, 104.81391764, 123.80636538,\n       209.09816758,  55.4131671 ])"
     },
     "execution_count": 38,
     "metadata": {},
     "output_type": "execute_result"
    }
   ],
   "source": [
    "predictions"
   ]
  },
  {
   "cell_type": "code",
   "execution_count": 39,
   "metadata": {},
   "outputs": [
    {
     "data": {
      "text/plain": "54.76342105528679"
     },
     "execution_count": 39,
     "metadata": {},
     "output_type": "execute_result"
    }
   ],
   "source": [
    "np.sqrt(mean_squared_error(y,predictions))"
   ]
  },
  {
   "cell_type": "markdown",
   "metadata": {},
   "source": [
    "# Feature Scaling"
   ]
  },
  {
   "cell_type": "code",
   "execution_count": 40,
   "metadata": {
    "scrolled": true
   },
   "outputs": [
    {
     "data": {
      "text/plain": "                Name  Age Nationality  Overall  Potential  \\\n0           L. Messi   31   Argentina       94         94   \n1  Cristiano Ronaldo   33    Portugal       94         94   \n2          Neymar Jr   26      Brazil       92         93   \n3             De Gea   27       Spain       91         93   \n4       K. De Bruyne   27     Belgium       91         92   \n\n                  Club        Value   Wage Position  Jersey Number  \\\n0         FC Barcelona  110500000.0  €565K       RF           10.0   \n1             Juventus   77000000.0  €405K       ST            7.0   \n2  Paris Saint-Germain  118500000.0  €290K       LW           10.0   \n3    Manchester United   72000000.0  €260K       GK            1.0   \n4      Manchester City  102000000.0  €355K      RCM            7.0   \n\n  Contract Valid Until Height  Weight  \n0                 2021    5'7  159lbs  \n1                 2022    6'2  183lbs  \n2                 2022    5'9  150lbs  \n3                 2020    6'4  168lbs  \n4                 2023   5'11  154lbs  ",
      "text/html": "<div>\n<style scoped>\n    .dataframe tbody tr th:only-of-type {\n        vertical-align: middle;\n    }\n\n    .dataframe tbody tr th {\n        vertical-align: top;\n    }\n\n    .dataframe thead th {\n        text-align: right;\n    }\n</style>\n<table border=\"1\" class=\"dataframe\">\n  <thead>\n    <tr style=\"text-align: right;\">\n      <th></th>\n      <th>Name</th>\n      <th>Age</th>\n      <th>Nationality</th>\n      <th>Overall</th>\n      <th>Potential</th>\n      <th>Club</th>\n      <th>Value</th>\n      <th>Wage</th>\n      <th>Position</th>\n      <th>Jersey Number</th>\n      <th>Contract Valid Until</th>\n      <th>Height</th>\n      <th>Weight</th>\n    </tr>\n  </thead>\n  <tbody>\n    <tr>\n      <th>0</th>\n      <td>L. Messi</td>\n      <td>31</td>\n      <td>Argentina</td>\n      <td>94</td>\n      <td>94</td>\n      <td>FC Barcelona</td>\n      <td>110500000.0</td>\n      <td>€565K</td>\n      <td>RF</td>\n      <td>10.0</td>\n      <td>2021</td>\n      <td>5'7</td>\n      <td>159lbs</td>\n    </tr>\n    <tr>\n      <th>1</th>\n      <td>Cristiano Ronaldo</td>\n      <td>33</td>\n      <td>Portugal</td>\n      <td>94</td>\n      <td>94</td>\n      <td>Juventus</td>\n      <td>77000000.0</td>\n      <td>€405K</td>\n      <td>ST</td>\n      <td>7.0</td>\n      <td>2022</td>\n      <td>6'2</td>\n      <td>183lbs</td>\n    </tr>\n    <tr>\n      <th>2</th>\n      <td>Neymar Jr</td>\n      <td>26</td>\n      <td>Brazil</td>\n      <td>92</td>\n      <td>93</td>\n      <td>Paris Saint-Germain</td>\n      <td>118500000.0</td>\n      <td>€290K</td>\n      <td>LW</td>\n      <td>10.0</td>\n      <td>2022</td>\n      <td>5'9</td>\n      <td>150lbs</td>\n    </tr>\n    <tr>\n      <th>3</th>\n      <td>De Gea</td>\n      <td>27</td>\n      <td>Spain</td>\n      <td>91</td>\n      <td>93</td>\n      <td>Manchester United</td>\n      <td>72000000.0</td>\n      <td>€260K</td>\n      <td>GK</td>\n      <td>1.0</td>\n      <td>2020</td>\n      <td>6'4</td>\n      <td>168lbs</td>\n    </tr>\n    <tr>\n      <th>4</th>\n      <td>K. De Bruyne</td>\n      <td>27</td>\n      <td>Belgium</td>\n      <td>91</td>\n      <td>92</td>\n      <td>Manchester City</td>\n      <td>102000000.0</td>\n      <td>€355K</td>\n      <td>RCM</td>\n      <td>7.0</td>\n      <td>2023</td>\n      <td>5'11</td>\n      <td>154lbs</td>\n    </tr>\n  </tbody>\n</table>\n</div>"
     },
     "execution_count": 40,
     "metadata": {},
     "output_type": "execute_result"
    }
   ],
   "source": [
    "import pandas as pd\n",
    "from sklearn.preprocessing import MinMaxScaler\n",
    "  \n",
    "# Read Data from CSV \n",
    "data = pd.read_csv('regression.csv') \n",
    "data.head() "
   ]
  },
  {
   "cell_type": "code",
   "execution_count": 41,
   "metadata": {},
   "outputs": [],
   "source": [
    "y = data['Value']"
   ]
  },
  {
   "cell_type": "code",
   "execution_count": 42,
   "metadata": {},
   "outputs": [],
   "source": [
    "data = data.drop(['Name', 'Nationality', 'Club', 'Wage', 'Position', 'Weight', 'Height', 'Contract Valid Until', 'Value'], axis = 1)"
   ]
  },
  {
   "cell_type": "code",
   "execution_count": 43,
   "metadata": {},
   "outputs": [
    {
     "data": {
      "text/plain": "   Age  Overall  Potential  Jersey Number\n0   31       94         94           10.0\n1   33       94         94            7.0\n2   26       92         93           10.0\n3   27       91         93            1.0\n4   27       91         92            7.0",
      "text/html": "<div>\n<style scoped>\n    .dataframe tbody tr th:only-of-type {\n        vertical-align: middle;\n    }\n\n    .dataframe tbody tr th {\n        vertical-align: top;\n    }\n\n    .dataframe thead th {\n        text-align: right;\n    }\n</style>\n<table border=\"1\" class=\"dataframe\">\n  <thead>\n    <tr style=\"text-align: right;\">\n      <th></th>\n      <th>Age</th>\n      <th>Overall</th>\n      <th>Potential</th>\n      <th>Jersey Number</th>\n    </tr>\n  </thead>\n  <tbody>\n    <tr>\n      <th>0</th>\n      <td>31</td>\n      <td>94</td>\n      <td>94</td>\n      <td>10.0</td>\n    </tr>\n    <tr>\n      <th>1</th>\n      <td>33</td>\n      <td>94</td>\n      <td>94</td>\n      <td>7.0</td>\n    </tr>\n    <tr>\n      <th>2</th>\n      <td>26</td>\n      <td>92</td>\n      <td>93</td>\n      <td>10.0</td>\n    </tr>\n    <tr>\n      <th>3</th>\n      <td>27</td>\n      <td>91</td>\n      <td>93</td>\n      <td>1.0</td>\n    </tr>\n    <tr>\n      <th>4</th>\n      <td>27</td>\n      <td>91</td>\n      <td>92</td>\n      <td>7.0</td>\n    </tr>\n  </tbody>\n</table>\n</div>"
     },
     "execution_count": 43,
     "metadata": {},
     "output_type": "execute_result"
    }
   ],
   "source": [
    "data.head()"
   ]
  },
  {
   "cell_type": "code",
   "execution_count": 44,
   "metadata": {},
   "outputs": [],
   "source": [
    "X_train, X_test, y_train, y_test = train_test_split(data, y, test_size=0.2)"
   ]
  },
  {
   "cell_type": "markdown",
   "metadata": {},
   "source": [
    "#### MinMaxScaler"
   ]
  },
  {
   "cell_type": "code",
   "execution_count": 45,
   "metadata": {},
   "outputs": [],
   "source": [
    "# Initialise the Scaler and Fit\n",
    "norm = MinMaxScaler().fit(X_train)"
   ]
  },
  {
   "cell_type": "code",
   "execution_count": 46,
   "metadata": {},
   "outputs": [
    {
     "data": {
      "text/plain": "            Age   Overall  Potential  Jersey Number\n0      0.448276  0.520833   0.489362       0.102041\n1      0.551724  0.520833   0.489362       0.091837\n2      0.241379  0.291667   0.468085       0.051020\n3      0.344828  0.375000   0.404255       0.081633\n4      0.448276  0.437500   0.425532       0.051020\n...         ...       ...        ...            ...\n14320  0.551724  0.520833   0.489362       0.163265\n14321  0.379310  0.416667   0.382979       0.061224\n14322  0.068966  0.104167   0.446809       0.142857\n14323  0.137931  0.479167   0.702128       0.234694\n14324  0.000000  0.083333   0.446809       0.255102\n\n[14325 rows x 4 columns]",
      "text/html": "<div>\n<style scoped>\n    .dataframe tbody tr th:only-of-type {\n        vertical-align: middle;\n    }\n\n    .dataframe tbody tr th {\n        vertical-align: top;\n    }\n\n    .dataframe thead th {\n        text-align: right;\n    }\n</style>\n<table border=\"1\" class=\"dataframe\">\n  <thead>\n    <tr style=\"text-align: right;\">\n      <th></th>\n      <th>Age</th>\n      <th>Overall</th>\n      <th>Potential</th>\n      <th>Jersey Number</th>\n    </tr>\n  </thead>\n  <tbody>\n    <tr>\n      <th>0</th>\n      <td>0.448276</td>\n      <td>0.520833</td>\n      <td>0.489362</td>\n      <td>0.102041</td>\n    </tr>\n    <tr>\n      <th>1</th>\n      <td>0.551724</td>\n      <td>0.520833</td>\n      <td>0.489362</td>\n      <td>0.091837</td>\n    </tr>\n    <tr>\n      <th>2</th>\n      <td>0.241379</td>\n      <td>0.291667</td>\n      <td>0.468085</td>\n      <td>0.051020</td>\n    </tr>\n    <tr>\n      <th>3</th>\n      <td>0.344828</td>\n      <td>0.375000</td>\n      <td>0.404255</td>\n      <td>0.081633</td>\n    </tr>\n    <tr>\n      <th>4</th>\n      <td>0.448276</td>\n      <td>0.437500</td>\n      <td>0.425532</td>\n      <td>0.051020</td>\n    </tr>\n    <tr>\n      <th>...</th>\n      <td>...</td>\n      <td>...</td>\n      <td>...</td>\n      <td>...</td>\n    </tr>\n    <tr>\n      <th>14320</th>\n      <td>0.551724</td>\n      <td>0.520833</td>\n      <td>0.489362</td>\n      <td>0.163265</td>\n    </tr>\n    <tr>\n      <th>14321</th>\n      <td>0.379310</td>\n      <td>0.416667</td>\n      <td>0.382979</td>\n      <td>0.061224</td>\n    </tr>\n    <tr>\n      <th>14322</th>\n      <td>0.068966</td>\n      <td>0.104167</td>\n      <td>0.446809</td>\n      <td>0.142857</td>\n    </tr>\n    <tr>\n      <th>14323</th>\n      <td>0.137931</td>\n      <td>0.479167</td>\n      <td>0.702128</td>\n      <td>0.234694</td>\n    </tr>\n    <tr>\n      <th>14324</th>\n      <td>0.000000</td>\n      <td>0.083333</td>\n      <td>0.446809</td>\n      <td>0.255102</td>\n    </tr>\n  </tbody>\n</table>\n<p>14325 rows × 4 columns</p>\n</div>"
     },
     "execution_count": 46,
     "metadata": {},
     "output_type": "execute_result"
    }
   ],
   "source": [
    "pd.DataFrame(columns = X_train.columns, data = norm.transform(X_train))"
   ]
  },
  {
   "cell_type": "code",
   "execution_count": 47,
   "metadata": {},
   "outputs": [
    {
     "data": {
      "text/plain": "           Age   Overall  Potential  Jersey Number\n0     0.344828  0.750000   0.765957       0.193878\n1     0.275862  0.354167   0.468085       0.173469\n2     0.172414  0.645833   0.787234       0.020408\n3     0.206897  0.500000   0.553191       0.142857\n4     0.241379  0.270833   0.340426       0.224490\n...        ...       ...        ...            ...\n3577  0.275862  0.166667   0.255319       0.255102\n3578  0.241379  0.500000   0.595745       0.132653\n3579  0.344828  0.333333   0.319149       0.081633\n3580  0.172414  0.729167   0.872340       0.061224\n3581  0.586207  0.604167   0.574468       0.214286\n\n[3582 rows x 4 columns]",
      "text/html": "<div>\n<style scoped>\n    .dataframe tbody tr th:only-of-type {\n        vertical-align: middle;\n    }\n\n    .dataframe tbody tr th {\n        vertical-align: top;\n    }\n\n    .dataframe thead th {\n        text-align: right;\n    }\n</style>\n<table border=\"1\" class=\"dataframe\">\n  <thead>\n    <tr style=\"text-align: right;\">\n      <th></th>\n      <th>Age</th>\n      <th>Overall</th>\n      <th>Potential</th>\n      <th>Jersey Number</th>\n    </tr>\n  </thead>\n  <tbody>\n    <tr>\n      <th>0</th>\n      <td>0.344828</td>\n      <td>0.750000</td>\n      <td>0.765957</td>\n      <td>0.193878</td>\n    </tr>\n    <tr>\n      <th>1</th>\n      <td>0.275862</td>\n      <td>0.354167</td>\n      <td>0.468085</td>\n      <td>0.173469</td>\n    </tr>\n    <tr>\n      <th>2</th>\n      <td>0.172414</td>\n      <td>0.645833</td>\n      <td>0.787234</td>\n      <td>0.020408</td>\n    </tr>\n    <tr>\n      <th>3</th>\n      <td>0.206897</td>\n      <td>0.500000</td>\n      <td>0.553191</td>\n      <td>0.142857</td>\n    </tr>\n    <tr>\n      <th>4</th>\n      <td>0.241379</td>\n      <td>0.270833</td>\n      <td>0.340426</td>\n      <td>0.224490</td>\n    </tr>\n    <tr>\n      <th>...</th>\n      <td>...</td>\n      <td>...</td>\n      <td>...</td>\n      <td>...</td>\n    </tr>\n    <tr>\n      <th>3577</th>\n      <td>0.275862</td>\n      <td>0.166667</td>\n      <td>0.255319</td>\n      <td>0.255102</td>\n    </tr>\n    <tr>\n      <th>3578</th>\n      <td>0.241379</td>\n      <td>0.500000</td>\n      <td>0.595745</td>\n      <td>0.132653</td>\n    </tr>\n    <tr>\n      <th>3579</th>\n      <td>0.344828</td>\n      <td>0.333333</td>\n      <td>0.319149</td>\n      <td>0.081633</td>\n    </tr>\n    <tr>\n      <th>3580</th>\n      <td>0.172414</td>\n      <td>0.729167</td>\n      <td>0.872340</td>\n      <td>0.061224</td>\n    </tr>\n    <tr>\n      <th>3581</th>\n      <td>0.586207</td>\n      <td>0.604167</td>\n      <td>0.574468</td>\n      <td>0.214286</td>\n    </tr>\n  </tbody>\n</table>\n<p>3582 rows × 4 columns</p>\n</div>"
     },
     "execution_count": 47,
     "metadata": {},
     "output_type": "execute_result"
    }
   ],
   "source": [
    "pd.DataFrame(columns = X_test.columns, data = norm.transform(X_test))"
   ]
  },
  {
   "cell_type": "markdown",
   "metadata": {},
   "source": [
    "### Standard Scaler"
   ]
  },
  {
   "cell_type": "code",
   "execution_count": 48,
   "metadata": {},
   "outputs": [],
   "source": [
    "from sklearn.preprocessing import StandardScaler"
   ]
  },
  {
   "cell_type": "code",
   "execution_count": 49,
   "metadata": {},
   "outputs": [],
   "source": [
    "# Initialise the Scaler and Fit\n",
    "norm = StandardScaler().fit(X_train)"
   ]
  },
  {
   "cell_type": "code",
   "execution_count": 50,
   "metadata": {},
   "outputs": [
    {
     "data": {
      "text/plain": "            Age   Overall  Potential  Jersey Number\n0      0.837431  0.691549  -0.051796      -0.539151\n1      1.481338  0.691549  -0.051796      -0.601283\n2     -0.450383 -0.899707  -0.215226      -0.849810\n3      0.193524 -0.321069  -0.705515      -0.663415\n4      0.837431  0.112910  -0.542085      -0.849810\n...         ...       ...        ...            ...\n14320  1.481338  0.691549  -0.051796      -0.166361\n14321  0.408160 -0.031749  -0.868945      -0.787678\n14322 -1.523561 -2.201643  -0.378655      -0.290625\n14323 -1.094289  0.402229   1.582504       0.268561\n14324 -1.952832 -2.346303  -0.378655       0.392824\n\n[14325 rows x 4 columns]",
      "text/html": "<div>\n<style scoped>\n    .dataframe tbody tr th:only-of-type {\n        vertical-align: middle;\n    }\n\n    .dataframe tbody tr th {\n        vertical-align: top;\n    }\n\n    .dataframe thead th {\n        text-align: right;\n    }\n</style>\n<table border=\"1\" class=\"dataframe\">\n  <thead>\n    <tr style=\"text-align: right;\">\n      <th></th>\n      <th>Age</th>\n      <th>Overall</th>\n      <th>Potential</th>\n      <th>Jersey Number</th>\n    </tr>\n  </thead>\n  <tbody>\n    <tr>\n      <th>0</th>\n      <td>0.837431</td>\n      <td>0.691549</td>\n      <td>-0.051796</td>\n      <td>-0.539151</td>\n    </tr>\n    <tr>\n      <th>1</th>\n      <td>1.481338</td>\n      <td>0.691549</td>\n      <td>-0.051796</td>\n      <td>-0.601283</td>\n    </tr>\n    <tr>\n      <th>2</th>\n      <td>-0.450383</td>\n      <td>-0.899707</td>\n      <td>-0.215226</td>\n      <td>-0.849810</td>\n    </tr>\n    <tr>\n      <th>3</th>\n      <td>0.193524</td>\n      <td>-0.321069</td>\n      <td>-0.705515</td>\n      <td>-0.663415</td>\n    </tr>\n    <tr>\n      <th>4</th>\n      <td>0.837431</td>\n      <td>0.112910</td>\n      <td>-0.542085</td>\n      <td>-0.849810</td>\n    </tr>\n    <tr>\n      <th>...</th>\n      <td>...</td>\n      <td>...</td>\n      <td>...</td>\n      <td>...</td>\n    </tr>\n    <tr>\n      <th>14320</th>\n      <td>1.481338</td>\n      <td>0.691549</td>\n      <td>-0.051796</td>\n      <td>-0.166361</td>\n    </tr>\n    <tr>\n      <th>14321</th>\n      <td>0.408160</td>\n      <td>-0.031749</td>\n      <td>-0.868945</td>\n      <td>-0.787678</td>\n    </tr>\n    <tr>\n      <th>14322</th>\n      <td>-1.523561</td>\n      <td>-2.201643</td>\n      <td>-0.378655</td>\n      <td>-0.290625</td>\n    </tr>\n    <tr>\n      <th>14323</th>\n      <td>-1.094289</td>\n      <td>0.402229</td>\n      <td>1.582504</td>\n      <td>0.268561</td>\n    </tr>\n    <tr>\n      <th>14324</th>\n      <td>-1.952832</td>\n      <td>-2.346303</td>\n      <td>-0.378655</td>\n      <td>0.392824</td>\n    </tr>\n  </tbody>\n</table>\n<p>14325 rows × 4 columns</p>\n</div>"
     },
     "execution_count": 50,
     "metadata": {},
     "output_type": "execute_result"
    }
   ],
   "source": [
    "pd.DataFrame(columns = X_train.columns, data = norm.transform(X_train))"
   ]
  },
  {
   "cell_type": "code",
   "execution_count": 51,
   "metadata": {},
   "outputs": [
    {
     "data": {
      "text/plain": "           Age   Overall  Potential  Jersey Number\n0     0.193524  2.282804   2.072794       0.020034\n1    -0.235747 -0.465728  -0.215226      -0.104229\n2    -0.879654  1.559506   2.236224      -1.036205\n3    -0.665018  0.546889   0.438494      -0.290625\n4    -0.450383 -1.044367  -1.195805       0.206429\n...        ...       ...        ...            ...\n3577 -0.235747 -1.767665  -1.849525       0.392824\n3578 -0.450383  0.546889   0.765354      -0.352756\n3579  0.193524 -0.610388  -1.359235      -0.663415\n3580 -0.879654  2.138145   2.889943      -0.787678\n3581  1.695973  1.270187   0.601924       0.144297\n\n[3582 rows x 4 columns]",
      "text/html": "<div>\n<style scoped>\n    .dataframe tbody tr th:only-of-type {\n        vertical-align: middle;\n    }\n\n    .dataframe tbody tr th {\n        vertical-align: top;\n    }\n\n    .dataframe thead th {\n        text-align: right;\n    }\n</style>\n<table border=\"1\" class=\"dataframe\">\n  <thead>\n    <tr style=\"text-align: right;\">\n      <th></th>\n      <th>Age</th>\n      <th>Overall</th>\n      <th>Potential</th>\n      <th>Jersey Number</th>\n    </tr>\n  </thead>\n  <tbody>\n    <tr>\n      <th>0</th>\n      <td>0.193524</td>\n      <td>2.282804</td>\n      <td>2.072794</td>\n      <td>0.020034</td>\n    </tr>\n    <tr>\n      <th>1</th>\n      <td>-0.235747</td>\n      <td>-0.465728</td>\n      <td>-0.215226</td>\n      <td>-0.104229</td>\n    </tr>\n    <tr>\n      <th>2</th>\n      <td>-0.879654</td>\n      <td>1.559506</td>\n      <td>2.236224</td>\n      <td>-1.036205</td>\n    </tr>\n    <tr>\n      <th>3</th>\n      <td>-0.665018</td>\n      <td>0.546889</td>\n      <td>0.438494</td>\n      <td>-0.290625</td>\n    </tr>\n    <tr>\n      <th>4</th>\n      <td>-0.450383</td>\n      <td>-1.044367</td>\n      <td>-1.195805</td>\n      <td>0.206429</td>\n    </tr>\n    <tr>\n      <th>...</th>\n      <td>...</td>\n      <td>...</td>\n      <td>...</td>\n      <td>...</td>\n    </tr>\n    <tr>\n      <th>3577</th>\n      <td>-0.235747</td>\n      <td>-1.767665</td>\n      <td>-1.849525</td>\n      <td>0.392824</td>\n    </tr>\n    <tr>\n      <th>3578</th>\n      <td>-0.450383</td>\n      <td>0.546889</td>\n      <td>0.765354</td>\n      <td>-0.352756</td>\n    </tr>\n    <tr>\n      <th>3579</th>\n      <td>0.193524</td>\n      <td>-0.610388</td>\n      <td>-1.359235</td>\n      <td>-0.663415</td>\n    </tr>\n    <tr>\n      <th>3580</th>\n      <td>-0.879654</td>\n      <td>2.138145</td>\n      <td>2.889943</td>\n      <td>-0.787678</td>\n    </tr>\n    <tr>\n      <th>3581</th>\n      <td>1.695973</td>\n      <td>1.270187</td>\n      <td>0.601924</td>\n      <td>0.144297</td>\n    </tr>\n  </tbody>\n</table>\n<p>3582 rows × 4 columns</p>\n</div>"
     },
     "execution_count": 51,
     "metadata": {},
     "output_type": "execute_result"
    }
   ],
   "source": [
    "pd.DataFrame(columns = X_test.columns, data = norm.transform(X_test))"
   ]
  },
  {
   "cell_type": "markdown",
   "metadata": {},
   "source": [
    "# tasks"
   ]
  },
  {
   "cell_type": "markdown",
   "metadata": {},
   "source": [
    "###### try applying this scalers to any dataset and check the regression results"
   ]
  },
  {
   "cell_type": "code",
   "execution_count": 52,
   "metadata": {},
   "outputs": [],
   "source": [
    "# your code here"
   ]
  },
  {
   "cell_type": "markdown",
   "metadata": {},
   "source": [
    "# One Hot Encoding"
   ]
  },
  {
   "cell_type": "code",
   "execution_count": 53,
   "metadata": {},
   "outputs": [],
   "source": [
    "data = pd.read_csv('regression.csv')"
   ]
  },
  {
   "cell_type": "code",
   "execution_count": 54,
   "metadata": {},
   "outputs": [
    {
     "data": {
      "text/plain": "                Name  Age Nationality  Overall  Potential  \\\n0           L. Messi   31   Argentina       94         94   \n1  Cristiano Ronaldo   33    Portugal       94         94   \n2          Neymar Jr   26      Brazil       92         93   \n3             De Gea   27       Spain       91         93   \n4       K. De Bruyne   27     Belgium       91         92   \n\n                  Club        Value   Wage Position  Jersey Number  \\\n0         FC Barcelona  110500000.0  €565K       RF           10.0   \n1             Juventus   77000000.0  €405K       ST            7.0   \n2  Paris Saint-Germain  118500000.0  €290K       LW           10.0   \n3    Manchester United   72000000.0  €260K       GK            1.0   \n4      Manchester City  102000000.0  €355K      RCM            7.0   \n\n  Contract Valid Until Height  Weight  \n0                 2021    5'7  159lbs  \n1                 2022    6'2  183lbs  \n2                 2022    5'9  150lbs  \n3                 2020    6'4  168lbs  \n4                 2023   5'11  154lbs  ",
      "text/html": "<div>\n<style scoped>\n    .dataframe tbody tr th:only-of-type {\n        vertical-align: middle;\n    }\n\n    .dataframe tbody tr th {\n        vertical-align: top;\n    }\n\n    .dataframe thead th {\n        text-align: right;\n    }\n</style>\n<table border=\"1\" class=\"dataframe\">\n  <thead>\n    <tr style=\"text-align: right;\">\n      <th></th>\n      <th>Name</th>\n      <th>Age</th>\n      <th>Nationality</th>\n      <th>Overall</th>\n      <th>Potential</th>\n      <th>Club</th>\n      <th>Value</th>\n      <th>Wage</th>\n      <th>Position</th>\n      <th>Jersey Number</th>\n      <th>Contract Valid Until</th>\n      <th>Height</th>\n      <th>Weight</th>\n    </tr>\n  </thead>\n  <tbody>\n    <tr>\n      <th>0</th>\n      <td>L. Messi</td>\n      <td>31</td>\n      <td>Argentina</td>\n      <td>94</td>\n      <td>94</td>\n      <td>FC Barcelona</td>\n      <td>110500000.0</td>\n      <td>€565K</td>\n      <td>RF</td>\n      <td>10.0</td>\n      <td>2021</td>\n      <td>5'7</td>\n      <td>159lbs</td>\n    </tr>\n    <tr>\n      <th>1</th>\n      <td>Cristiano Ronaldo</td>\n      <td>33</td>\n      <td>Portugal</td>\n      <td>94</td>\n      <td>94</td>\n      <td>Juventus</td>\n      <td>77000000.0</td>\n      <td>€405K</td>\n      <td>ST</td>\n      <td>7.0</td>\n      <td>2022</td>\n      <td>6'2</td>\n      <td>183lbs</td>\n    </tr>\n    <tr>\n      <th>2</th>\n      <td>Neymar Jr</td>\n      <td>26</td>\n      <td>Brazil</td>\n      <td>92</td>\n      <td>93</td>\n      <td>Paris Saint-Germain</td>\n      <td>118500000.0</td>\n      <td>€290K</td>\n      <td>LW</td>\n      <td>10.0</td>\n      <td>2022</td>\n      <td>5'9</td>\n      <td>150lbs</td>\n    </tr>\n    <tr>\n      <th>3</th>\n      <td>De Gea</td>\n      <td>27</td>\n      <td>Spain</td>\n      <td>91</td>\n      <td>93</td>\n      <td>Manchester United</td>\n      <td>72000000.0</td>\n      <td>€260K</td>\n      <td>GK</td>\n      <td>1.0</td>\n      <td>2020</td>\n      <td>6'4</td>\n      <td>168lbs</td>\n    </tr>\n    <tr>\n      <th>4</th>\n      <td>K. De Bruyne</td>\n      <td>27</td>\n      <td>Belgium</td>\n      <td>91</td>\n      <td>92</td>\n      <td>Manchester City</td>\n      <td>102000000.0</td>\n      <td>€355K</td>\n      <td>RCM</td>\n      <td>7.0</td>\n      <td>2023</td>\n      <td>5'11</td>\n      <td>154lbs</td>\n    </tr>\n  </tbody>\n</table>\n</div>"
     },
     "execution_count": 54,
     "metadata": {},
     "output_type": "execute_result"
    }
   ],
   "source": [
    "data.head()"
   ]
  },
  {
   "cell_type": "code",
   "execution_count": 55,
   "metadata": {},
   "outputs": [
    {
     "data": {
      "text/plain": "       Age  Club_ SSV Jahn Regensburg  Club_1. FC Heidenheim 1846  \\\n0       31                          0                           0   \n1       33                          0                           0   \n2       26                          0                           0   \n3       27                          0                           0   \n4       27                          0                           0   \n...    ...                        ...                         ...   \n17902   19                          0                           0   \n17903   19                          0                           0   \n17904   16                          0                           0   \n17905   17                          0                           0   \n17906   16                          0                           0   \n\n       Club_1. FC Kaiserslautern  Club_1. FC Köln  Club_1. FC Magdeburg  \\\n0                              0                0                     0   \n1                              0                0                     0   \n2                              0                0                     0   \n3                              0                0                     0   \n4                              0                0                     0   \n...                          ...              ...                   ...   \n17902                          0                0                     0   \n17903                          0                0                     0   \n17904                          0                0                     0   \n17905                          0                0                     0   \n17906                          0                0                     0   \n\n       Club_1. FC Nürnberg  Club_1. FC Union Berlin  Club_1. FSV Mainz 05  \\\n0                        0                        0                     0   \n1                        0                        0                     0   \n2                        0                        0                     0   \n3                        0                        0                     0   \n4                        0                        0                     0   \n...                    ...                      ...                   ...   \n17902                    0                        0                     0   \n17903                    0                        0                     0   \n17904                    0                        0                     0   \n17905                    0                        0                     0   \n17906                    0                        0                     0   \n\n       Club_AC Ajaccio  ...  Club_Wycombe Wanderers  Club_Yeni Malatyaspor  \\\n0                    0  ...                       0                      0   \n1                    0  ...                       0                      0   \n2                    0  ...                       0                      0   \n3                    0  ...                       0                      0   \n4                    0  ...                       0                      0   \n...                ...  ...                     ...                    ...   \n17902                0  ...                       0                      0   \n17903                0  ...                       0                      0   \n17904                0  ...                       0                      0   \n17905                0  ...                       0                      0   \n17906                0  ...                       0                      0   \n\n       Club_Yeovil Town  Club_Yokohama F. Marinos  Club_Zagłębie Lubin  \\\n0                     0                         0                    0   \n1                     0                         0                    0   \n2                     0                         0                    0   \n3                     0                         0                    0   \n4                     0                         0                    0   \n...                 ...                       ...                  ...   \n17902                 0                         0                    0   \n17903                 0                         0                    0   \n17904                 0                         0                    0   \n17905                 0                         0                    0   \n17906                 0                         0                    0   \n\n       Club_Zagłębie Sosnowiec  Club_Çaykur Rizespor  Club_Örebro SK  \\\n0                            0                     0               0   \n1                            0                     0               0   \n2                            0                     0               0   \n3                            0                     0               0   \n4                            0                     0               0   \n...                        ...                   ...             ...   \n17902                        0                     0               0   \n17903                        0                     0               0   \n17904                        0                     0               0   \n17905                        0                     0               0   \n17906                        0                     0               0   \n\n       Club_Östersunds FK  Club_Śląsk Wrocław  \n0                       0                   0  \n1                       0                   0  \n2                       0                   0  \n3                       0                   0  \n4                       0                   0  \n...                   ...                 ...  \n17902                   0                   0  \n17903                   0                   0  \n17904                   0                   0  \n17905                   0                   0  \n17906                   0                   0  \n\n[17907 rows x 652 columns]",
      "text/html": "<div>\n<style scoped>\n    .dataframe tbody tr th:only-of-type {\n        vertical-align: middle;\n    }\n\n    .dataframe tbody tr th {\n        vertical-align: top;\n    }\n\n    .dataframe thead th {\n        text-align: right;\n    }\n</style>\n<table border=\"1\" class=\"dataframe\">\n  <thead>\n    <tr style=\"text-align: right;\">\n      <th></th>\n      <th>Age</th>\n      <th>Club_ SSV Jahn Regensburg</th>\n      <th>Club_1. FC Heidenheim 1846</th>\n      <th>Club_1. FC Kaiserslautern</th>\n      <th>Club_1. FC Köln</th>\n      <th>Club_1. FC Magdeburg</th>\n      <th>Club_1. FC Nürnberg</th>\n      <th>Club_1. FC Union Berlin</th>\n      <th>Club_1. FSV Mainz 05</th>\n      <th>Club_AC Ajaccio</th>\n      <th>...</th>\n      <th>Club_Wycombe Wanderers</th>\n      <th>Club_Yeni Malatyaspor</th>\n      <th>Club_Yeovil Town</th>\n      <th>Club_Yokohama F. Marinos</th>\n      <th>Club_Zagłębie Lubin</th>\n      <th>Club_Zagłębie Sosnowiec</th>\n      <th>Club_Çaykur Rizespor</th>\n      <th>Club_Örebro SK</th>\n      <th>Club_Östersunds FK</th>\n      <th>Club_Śląsk Wrocław</th>\n    </tr>\n  </thead>\n  <tbody>\n    <tr>\n      <th>0</th>\n      <td>31</td>\n      <td>0</td>\n      <td>0</td>\n      <td>0</td>\n      <td>0</td>\n      <td>0</td>\n      <td>0</td>\n      <td>0</td>\n      <td>0</td>\n      <td>0</td>\n      <td>...</td>\n      <td>0</td>\n      <td>0</td>\n      <td>0</td>\n      <td>0</td>\n      <td>0</td>\n      <td>0</td>\n      <td>0</td>\n      <td>0</td>\n      <td>0</td>\n      <td>0</td>\n    </tr>\n    <tr>\n      <th>1</th>\n      <td>33</td>\n      <td>0</td>\n      <td>0</td>\n      <td>0</td>\n      <td>0</td>\n      <td>0</td>\n      <td>0</td>\n      <td>0</td>\n      <td>0</td>\n      <td>0</td>\n      <td>...</td>\n      <td>0</td>\n      <td>0</td>\n      <td>0</td>\n      <td>0</td>\n      <td>0</td>\n      <td>0</td>\n      <td>0</td>\n      <td>0</td>\n      <td>0</td>\n      <td>0</td>\n    </tr>\n    <tr>\n      <th>2</th>\n      <td>26</td>\n      <td>0</td>\n      <td>0</td>\n      <td>0</td>\n      <td>0</td>\n      <td>0</td>\n      <td>0</td>\n      <td>0</td>\n      <td>0</td>\n      <td>0</td>\n      <td>...</td>\n      <td>0</td>\n      <td>0</td>\n      <td>0</td>\n      <td>0</td>\n      <td>0</td>\n      <td>0</td>\n      <td>0</td>\n      <td>0</td>\n      <td>0</td>\n      <td>0</td>\n    </tr>\n    <tr>\n      <th>3</th>\n      <td>27</td>\n      <td>0</td>\n      <td>0</td>\n      <td>0</td>\n      <td>0</td>\n      <td>0</td>\n      <td>0</td>\n      <td>0</td>\n      <td>0</td>\n      <td>0</td>\n      <td>...</td>\n      <td>0</td>\n      <td>0</td>\n      <td>0</td>\n      <td>0</td>\n      <td>0</td>\n      <td>0</td>\n      <td>0</td>\n      <td>0</td>\n      <td>0</td>\n      <td>0</td>\n    </tr>\n    <tr>\n      <th>4</th>\n      <td>27</td>\n      <td>0</td>\n      <td>0</td>\n      <td>0</td>\n      <td>0</td>\n      <td>0</td>\n      <td>0</td>\n      <td>0</td>\n      <td>0</td>\n      <td>0</td>\n      <td>...</td>\n      <td>0</td>\n      <td>0</td>\n      <td>0</td>\n      <td>0</td>\n      <td>0</td>\n      <td>0</td>\n      <td>0</td>\n      <td>0</td>\n      <td>0</td>\n      <td>0</td>\n    </tr>\n    <tr>\n      <th>...</th>\n      <td>...</td>\n      <td>...</td>\n      <td>...</td>\n      <td>...</td>\n      <td>...</td>\n      <td>...</td>\n      <td>...</td>\n      <td>...</td>\n      <td>...</td>\n      <td>...</td>\n      <td>...</td>\n      <td>...</td>\n      <td>...</td>\n      <td>...</td>\n      <td>...</td>\n      <td>...</td>\n      <td>...</td>\n      <td>...</td>\n      <td>...</td>\n      <td>...</td>\n      <td>...</td>\n    </tr>\n    <tr>\n      <th>17902</th>\n      <td>19</td>\n      <td>0</td>\n      <td>0</td>\n      <td>0</td>\n      <td>0</td>\n      <td>0</td>\n      <td>0</td>\n      <td>0</td>\n      <td>0</td>\n      <td>0</td>\n      <td>...</td>\n      <td>0</td>\n      <td>0</td>\n      <td>0</td>\n      <td>0</td>\n      <td>0</td>\n      <td>0</td>\n      <td>0</td>\n      <td>0</td>\n      <td>0</td>\n      <td>0</td>\n    </tr>\n    <tr>\n      <th>17903</th>\n      <td>19</td>\n      <td>0</td>\n      <td>0</td>\n      <td>0</td>\n      <td>0</td>\n      <td>0</td>\n      <td>0</td>\n      <td>0</td>\n      <td>0</td>\n      <td>0</td>\n      <td>...</td>\n      <td>0</td>\n      <td>0</td>\n      <td>0</td>\n      <td>0</td>\n      <td>0</td>\n      <td>0</td>\n      <td>0</td>\n      <td>0</td>\n      <td>0</td>\n      <td>0</td>\n    </tr>\n    <tr>\n      <th>17904</th>\n      <td>16</td>\n      <td>0</td>\n      <td>0</td>\n      <td>0</td>\n      <td>0</td>\n      <td>0</td>\n      <td>0</td>\n      <td>0</td>\n      <td>0</td>\n      <td>0</td>\n      <td>...</td>\n      <td>0</td>\n      <td>0</td>\n      <td>0</td>\n      <td>0</td>\n      <td>0</td>\n      <td>0</td>\n      <td>0</td>\n      <td>0</td>\n      <td>0</td>\n      <td>0</td>\n    </tr>\n    <tr>\n      <th>17905</th>\n      <td>17</td>\n      <td>0</td>\n      <td>0</td>\n      <td>0</td>\n      <td>0</td>\n      <td>0</td>\n      <td>0</td>\n      <td>0</td>\n      <td>0</td>\n      <td>0</td>\n      <td>...</td>\n      <td>0</td>\n      <td>0</td>\n      <td>0</td>\n      <td>0</td>\n      <td>0</td>\n      <td>0</td>\n      <td>0</td>\n      <td>0</td>\n      <td>0</td>\n      <td>0</td>\n    </tr>\n    <tr>\n      <th>17906</th>\n      <td>16</td>\n      <td>0</td>\n      <td>0</td>\n      <td>0</td>\n      <td>0</td>\n      <td>0</td>\n      <td>0</td>\n      <td>0</td>\n      <td>0</td>\n      <td>0</td>\n      <td>...</td>\n      <td>0</td>\n      <td>0</td>\n      <td>0</td>\n      <td>0</td>\n      <td>0</td>\n      <td>0</td>\n      <td>0</td>\n      <td>0</td>\n      <td>0</td>\n      <td>0</td>\n    </tr>\n  </tbody>\n</table>\n<p>17907 rows × 652 columns</p>\n</div>"
     },
     "execution_count": 55,
     "metadata": {},
     "output_type": "execute_result"
    }
   ],
   "source": [
    "pd.get_dummies(data[['Age', 'Club']])"
   ]
  },
  {
   "cell_type": "markdown",
   "metadata": {},
   "source": [
    "# tasks"
   ]
  },
  {
   "cell_type": "markdown",
   "metadata": {},
   "source": [
    "###### try applying OHE to any column(s) and check the regression results"
   ]
  },
  {
   "cell_type": "code",
   "execution_count": 56,
   "metadata": {},
   "outputs": [],
   "source": [
    "# your code here"
   ]
  }
 ],
 "metadata": {
  "kernelspec": {
   "name": "tf2",
   "language": "python",
   "display_name": "tf2"
  },
  "language_info": {
   "codemirror_mode": {
    "name": "ipython",
    "version": 3
   },
   "file_extension": ".py",
   "mimetype": "text/x-python",
   "name": "python",
   "nbconvert_exporter": "python",
   "pygments_lexer": "ipython3",
   "version": "3.9.12"
  }
 },
 "nbformat": 4,
 "nbformat_minor": 4
}
