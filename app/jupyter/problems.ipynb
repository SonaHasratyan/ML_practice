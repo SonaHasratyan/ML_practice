{
 "cells": [
  {
   "cell_type": "markdown",
   "id": "f4eb6a21",
   "metadata": {},
   "source": [
    "1. Implement bubble sort algorithm\n",
    "\n",
    "\n",
    "2. Implement binary search (recursively)\n",
    "\n",
    "\n",
    "3. Take two lists and and write a program that returns a list that contains only the elements that are common between the lists (without duplicates). Make sure your program works on two lists of different sizes.\n",
    "\n",
    "\n",
    "4. Write a program that asks the user how many Fibonnaci numbers to generate and then generates them. Take this opportunity to think about how you can use functions. Make sure to ask the user to enter the number of numbers in the sequence to generate.\n",
    "\n",
    "\n",
    "5. Make a two-player Rock-Paper-Scissors game. (Hint: Ask for player plays (using input), compare them, print out a message of congratulations to the winner, and ask if the players want to start a new game)\n",
    "\n",
    "\n",
    "6. Write a program (using functions!) that asks the user for a long string containing multiple words. Print back to the user the same string, except with the words in backwards order.\n",
    "\n",
    "\n",
    "7. https://app.codesignal.com/challenge/i6w5YHq3DbyCJ4oia"
   ]
  }
 ],
 "metadata": {
  "kernelspec": {
   "display_name": "Python 3 (ipykernel)",
   "language": "python",
   "name": "python3"
  },
  "language_info": {
   "codemirror_mode": {
    "name": "ipython",
    "version": 3
   },
   "file_extension": ".py",
   "mimetype": "text/x-python",
   "name": "python",
   "nbconvert_exporter": "python",
   "pygments_lexer": "ipython3",
   "version": "3.8.10"
  }
 },
 "nbformat": 4,
 "nbformat_minor": 5
}
