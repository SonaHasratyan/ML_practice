{
 "cells": [
  {
   "cell_type": "markdown",
   "metadata": {},
   "source": [
    "# Homework"
   ]
  },
  {
   "cell_type": "code",
   "execution_count": 46,
   "metadata": {},
   "outputs": [],
   "source": [
    "# Please implement 2 classes below"
   ]
  },
  {
   "cell_type": "code",
   "execution_count": 47,
   "outputs": [],
   "source": [
    "from sklearn.datasets import load_iris\n",
    "from sklearn.model_selection import train_test_split\n",
    "from sklearn.utils import shuffle\n",
    "import numpy as np\n",
    "\n",
    "iris = load_iris()\n",
    "X, y = iris.data, iris.target\n",
    "X, y = shuffle(X, y, random_state=78)\n",
    "\n",
    "X_train, X_test, y_train, y_test = train_test_split(X, y, random_state=78, test_size=0.2)"
   ],
   "metadata": {
    "collapsed": false
   }
  },
  {
   "cell_type": "code",
   "execution_count": 48,
   "outputs": [],
   "source": [
    "from sklearn.metrics import precision_score, recall_score, accuracy_score, confusion_matrix"
   ],
   "metadata": {
    "collapsed": false
   }
  },
  {
   "cell_type": "code",
   "execution_count": 49,
   "outputs": [],
   "source": [
    "# from scipy.stats import norm"
   ],
   "metadata": {
    "collapsed": false
   }
  },
  {
   "cell_type": "code",
   "execution_count": 50,
   "metadata": {},
   "outputs": [],
   "source": [
    "class NaiveBayes:\n",
    "    \"\"\"\n",
    "    Implement Naive Bayes algorithm (multiclass case). You can find necessary formula in the screenshot\n",
    "    attached.\n",
    "\n",
    "    2.1 You need to calculate prior probabilities (P(y=yk)) as described in the picture - the proportion of\n",
    "    number of data points in your train data from class k divided by number of all data points in your train\n",
    "    data.\n",
    "    2.2 You need to calculate conditional probabilities by using PDF of the chosen distribution.\n",
    "    2.3\n",
    "    Question: What does it mean to fit a gaussian naive bayes model?\n",
    "    Answer: As long as we are assuming that data comes from normal distributions (different for each class),\n",
    "    fit method should include finding that distributions, namely, the means and variances for each.\n",
    "    So, you need to divide data into parts, where in each part the label is fixed (first part - all 0 labels,\n",
    "    second part - all 1 labels etc.) and find means and variances for each feature in each part. You will use\n",
    "    this values in calculating conditional probabilities by PDF.\n",
    "    2.4 You can replace product of probabilities by sum of its logarithm (you know this technique from cross\n",
    "    entropy loss).\n",
    "    \"\"\"\n",
    "\n",
    "    def __init__(self):\n",
    "        self.X = None\n",
    "        self.y = None\n",
    "        self.means = None\n",
    "        self.std = None\n",
    "        self.classes = None\n",
    "\n",
    "    def fit(self, X, y):\n",
    "        self.X = X\n",
    "        self.y = y\n",
    "\n",
    "        self.classes = np.unique(self.y)\n",
    "        self.classes.sort()\n",
    "\n",
    "        self.__find_means_and_stds()\n",
    "\n",
    "    def prior_probability(self, y_k):\n",
    "        return len([y_i for y_i in self.y if y_i == y_k]) / len(self.y)\n",
    "\n",
    "    @staticmethod\n",
    "    def pdf_normal(x, mean, std):\n",
    "     var = std ** 2\n",
    "     return (1 / np.sqrt(2 * var * np.pi)) * np.exp(-(((x - mean) ** 2) / (2 * var)))\n",
    "\n",
    "\n",
    "    def conditional_probability(self, x, y_k):\n",
    "        result = np.ndarray(X.shape[1])\n",
    "\n",
    "        for i, feature in enumerate(x.T):\n",
    "            y_k_index = nb.classes[np.where(nb.classes == y_k)]\n",
    "            result[i] = self.pdf_normal(feature, self.means[i, y_k_index], self.stds[i, y_k_index])\n",
    "\n",
    "        return np.prod(result)\n",
    "\n",
    "    def __find_means_and_stds(self):\n",
    "        self.means = np.ndarray(shape=(self.X.shape[1], len(self.classes)))\n",
    "        self.stds = np.ndarray(shape=(self.X.shape[1], len(self.classes)))\n",
    "\n",
    "        for i, y_i in enumerate(self.classes):\n",
    "            self.means[:, i] = self.X[self.y == y_i].mean(axis=0)\n",
    "            self.stds[:, i] = self.X[self.y == y_i].var(axis=0)\n",
    "\n",
    "    def predict(self, X):\n",
    "        y_pred = []\n",
    "        for i, x in enumerate(X):\n",
    "            y_pred.append(np.argmax([self.prior_probability(y_k) * self.conditional_probability(x, y_k) for y_k in self.classes]))\n",
    "\n",
    "        y_pred = np.array(y_pred)\n",
    "        return y_pred"
   ]
  },
  {
   "cell_type": "code",
   "execution_count": 51,
   "outputs": [
    {
     "name": "stdout",
     "output_type": "stream",
     "text": [
      "[1 2 2 2 1 2 0 1 1 2 2 2 0 2 0 2 2 1 0 1 2 0 2 0 1 0 1 0 2 2]\n",
      "[[ 8  0  0]\n",
      " [ 0  7  2]\n",
      " [ 0  1 12]]\n",
      "0.9\n",
      "0.9\n",
      "0.9\n"
     ]
    }
   ],
   "source": [
    "nb = NaiveBayes()\n",
    "nb.fit(X_train, y_train)\n",
    "y_pred = nb.predict(X_test)\n",
    "print(y_pred)\n",
    "print(confusion_matrix(y_test, y_pred))\n",
    "print(accuracy_score(y_test, y_pred))\n",
    "print(recall_score(y_test, y_pred, average=\"micro\"))\n",
    "print(precision_score(y_test, y_pred, average=\"micro\"))"
   ],
   "metadata": {
    "collapsed": false
   }
  },
  {
   "cell_type": "code",
   "execution_count": 52,
   "metadata": {},
   "outputs": [],
   "source": [
    "class LinearDiscriminantAnalysis:\n",
    "    def __init__(self):\n",
    "        self.X = None\n",
    "        self.y = None\n",
    "        self.means = None\n",
    "        self.cov = None\n",
    "        self.classes = None\n",
    "\n",
    "    def fit(self, X, y):\n",
    "        self.X = X\n",
    "        self.y = y\n",
    "\n",
    "        self.classes = np.unique(self.y)\n",
    "        self.classes.sort()\n",
    "\n",
    "        self.__find_means()\n",
    "        self.__find_cov()\n",
    "\n",
    "    def __find_means(self):\n",
    "        self.means = np.ndarray(shape=(self.X.shape[1], len(self.classes)))\n",
    "\n",
    "        for i, y_i in enumerate(self.classes):\n",
    "            self.means[:, i] = self.X[self.y == y_i].mean(axis=0)\n",
    "\n",
    "    def prior_probability(self, y_k):\n",
    "        return len([y_i for y_i in self.y if y_i == y_k]) / len(self.y)\n",
    "\n",
    "    # todo\n",
    "    def __find_cov(self):\n",
    "        cov = 0\n",
    "        for i, y_i in enumerate(self.classes):\n",
    "            cov += np.cov(self.X[self.y == y_i].T)\n",
    "            print(np.cov(self.X[self.y == y_i].T))"
   ]
  },
  {
   "cell_type": "code",
   "execution_count": 53,
   "outputs": [
    {
     "name": "stdout",
     "output_type": "stream",
     "text": [
      "[[0.12157956 0.08800232 0.01900116 0.00880372]\n",
      " [0.08800232 0.12511614 0.01261905 0.00762485]\n",
      " [0.01900116 0.01261905 0.03515099 0.00680023]\n",
      " [0.00880372 0.00762485 0.00680023 0.01124855]]\n",
      "[[0.27439024 0.09322561 0.16193293 0.05239024]\n",
      " [0.09322561 0.10393902 0.08670732 0.04222561]\n",
      " [0.16193293 0.08670732 0.17119512 0.06343293]\n",
      " [0.05239024 0.04222561 0.06343293 0.03739024]]\n",
      "[[0.41361862 0.1028979  0.29728228 0.05325075]\n",
      " [0.1028979  0.10303303 0.06846096 0.04812312]\n",
      " [0.29728228 0.06846096 0.2777027  0.05350601]\n",
      " [0.05325075 0.04812312 0.05350601 0.07840841]]\n"
     ]
    }
   ],
   "source": [
    "lda = LinearDiscriminantAnalysis()\n",
    "lda.fit(X_train, y_train)\n",
    "lda.cov\n",
    "# y_pred = lda.predict(X_test)\n",
    "# print(y_pred)\n",
    "# print(confusion_matrix(y_test, y_pred))\n",
    "# print(accuracy_score(y_test, y_pred))\n",
    "# print(recall_score(y_test, y_pred, average=\"micro\"))\n",
    "# print(precision_score(y_test, y_pred, average=\"micro\"))"
   ],
   "metadata": {
    "collapsed": false
   }
  },
  {
   "cell_type": "code",
   "execution_count": 53,
   "outputs": [],
   "source": [],
   "metadata": {
    "collapsed": false
   }
  }
 ],
 "metadata": {
  "colab": {
   "name": "NaiveBayes.ipynb",
   "provenance": []
  },
  "kernelspec": {
   "display_name": "Python 3 (ipykernel)",
   "language": "python",
   "name": "python3"
  },
  "language_info": {
   "codemirror_mode": {
    "name": "ipython",
    "version": 3
   },
   "file_extension": ".py",
   "mimetype": "text/x-python",
   "name": "python",
   "nbconvert_exporter": "python",
   "pygments_lexer": "ipython3",
   "version": "3.9.12"
  }
 },
 "nbformat": 4,
 "nbformat_minor": 1
}
