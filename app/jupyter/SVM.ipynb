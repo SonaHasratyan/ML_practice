{
 "cells": [
  {
   "cell_type": "code",
   "execution_count": 1,
   "metadata": {},
   "outputs": [],
   "source": [
    "from scipy.optimize import minimize\n",
    "import numpy as np\n",
    "import pandas as pd\n",
    "import matplotlib.pyplot as plt\n",
    "from sklearn.model_selection import train_test_split"
   ]
  },
  {
   "cell_type": "code",
   "execution_count": 95,
   "metadata": {},
   "outputs": [],
   "source": [
    "class SVM:\n",
    "    def __init__(self):\n",
    "        self.w = None\n",
    "        self.b = None\n",
    "        self.X = None\n",
    "        self.y = None\n",
    "    \n",
    "    def fit(self, X, y):\n",
    "        n = X.shape[0]\n",
    "        d = X.shape[1]\n",
    "        self.X = X\n",
    "        self.y = y\n",
    "\n",
    "        def objective(w):\n",
    "            # return 0.5 * np.linalg.norm(w[1:]) ** 2\n",
    "            return np.dot(w[:-1], w[:-1]) ** 2\n",
    "\n",
    "        def constraint(w):\n",
    "            # return self.y.dot(self.X.dot(w[:-1]) + w[-1])\n",
    "            # should be * not dot for y, to get 75 items\n",
    "            return self.y * (np.dot(self.X, w[:-1]) + w[-1]) - 1\n",
    "\n",
    "        w = np.zeros(d+1)\n",
    "        cons = {'type': 'ineq', 'fun': constraint}\n",
    "        res = minimize(objective, w, constraints=cons)\n",
    "\n",
    "        self.w = res.x[:-1]\n",
    "        self.b = res.x[-1]\n",
    "        \n",
    "    def predict(self, X):\n",
    "        # return np.sign(X.dot(self.w.T) + self.b)\n",
    "        return np.sign(np.dot(X, self.w) + self.b)\n",
    "\n",
    "    def score(self, X, y):\n",
    "        return (self.predict(X)==y).sum() / len(y)"
   ]
  },
  {
   "cell_type": "code",
   "execution_count": 96,
   "metadata": {},
   "outputs": [
    {
     "data": {
      "text/plain": "<matplotlib.collections.PathCollection at 0x7f97b03f8910>"
     },
     "execution_count": 96,
     "metadata": {},
     "output_type": "execute_result"
    },
    {
     "data": {
      "text/plain": "<Figure size 640x480 with 1 Axes>",
      "image/png": "[encoded data removed]"
     },
     "metadata": {},
     "output_type": "display_data"
    }
   ],
   "source": [
    "import numpy as np\n",
    "\n",
    "X1 = np.random.randn(50, 2) + np.array([0, 0])\n",
    "X2 = np.random.randn(50, 2) + np.array([4, 4])\n",
    "\n",
    "X = np.vstack((X1, X2))\n",
    "\n",
    "y = np.hstack((np.ones(50), -np.ones(50)))\n",
    "\n",
    "plt.scatter(X[:, 0], X[:, 1], c=y)"
   ]
  },
  {
   "cell_type": "code",
   "execution_count": 97,
   "metadata": {},
   "outputs": [],
   "source": [
    "X_train, X_test, y_train, y_test = train_test_split(X, y)"
   ]
  },
  {
   "cell_type": "code",
   "execution_count": 98,
   "metadata": {},
   "outputs": [],
   "source": [
    "svm = SVM()\n",
    "svm.fit(X_train, y_train)"
   ]
  },
  {
   "cell_type": "code",
   "execution_count": 99,
   "metadata": {},
   "outputs": [
    {
     "name": "stdout",
     "output_type": "stream",
     "text": [
      "0.0\n",
      "1.0\n"
     ]
    }
   ],
   "source": [
    "y_pred = svm.predict(X_test)\n",
    "from sklearn.metrics import mean_squared_error\n",
    "print(mean_squared_error(y_test, y_pred, squared=False))\n",
    "print(svm.score(X_test, y_test))"
   ]
  },
  {
   "cell_type": "markdown",
   "metadata": {},
   "source": [
    "# Homework 1"
   ]
  },
  {
   "cell_type": "markdown",
   "metadata": {},
   "source": [
    "<img src=\"svm.png\">"
   ]
  },
  {
   "cell_type": "markdown",
   "metadata": {},
   "source": [
    "Try to generate datasets like this, fit SVM on each of them and find best regularization parameter and best kernel for each (use CV)."
   ]
  },
  {
   "cell_type": "markdown",
   "metadata": {},
   "source": [
    "Dataset settings\n",
    "- 2 features\n",
    "- not more than 10k points\n",
    "- you can either try generating from distributions, and maybe removing some elements after \n",
    "- or you can just generate by some functions, this would be easier, but it is OK"
   ]
  },
  {
   "cell_type": "markdown",
   "metadata": {},
   "source": [
    "# Homework 2"
   ]
  },
  {
   "cell_type": "markdown",
   "metadata": {},
   "source": [
    "Write a function is_kernel_function(func), which will return True f given function is a kernel function and False if it is not."
   ]
  },
  {
   "cell_type": "code",
   "execution_count": 100,
   "metadata": {},
   "outputs": [],
   "source": [
    "def is_kernel_function(func):\n",
    "    # check on 100 - 1000 data items\n",
    "    # semi positiveness check by hand\n",
    "    # kernel function check by hand\n",
    "    return True\n",
    "\n",
    "    #\n",
    "    return False"
   ]
  },
  {
   "cell_type": "code",
   "execution_count": null,
   "outputs": [],
   "source": [],
   "metadata": {
    "collapsed": false
   }
  }
 ],
 "metadata": {
  "kernelspec": {
   "display_name": "Python 3 (ipykernel)",
   "language": "python",
   "name": "python3"
  },
  "language_info": {
   "codemirror_mode": {
    "name": "ipython",
    "version": 3
   },
   "file_extension": ".py",
   "mimetype": "text/x-python",
   "name": "python",
   "nbconvert_exporter": "python",
   "pygments_lexer": "ipython3",
   "version": "3.9.12"
  }
 },
 "nbformat": 4,
 "nbformat_minor": 4
}
