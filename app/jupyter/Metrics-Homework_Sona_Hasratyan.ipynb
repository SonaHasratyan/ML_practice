{
 "cells": [
  {
   "cell_type": "markdown",
   "metadata": {},
   "source": [
    "# ROC Curve, AUC"
   ]
  },
  {
   "cell_type": "markdown",
   "metadata": {},
   "source": [
    "<img src=\"files/roc_curve.jpeg\">"
   ]
  },
  {
   "cell_type": "code",
   "execution_count": 15,
   "metadata": {
    "ExecuteTime": {
     "start_time": "2023-04-08T10:09:00.677914Z",
     "end_time": "2023-04-08T10:09:00.689593Z"
    }
   },
   "outputs": [],
   "source": [
    "# roc curve and auc\n",
    "from sklearn.datasets import make_classification\n",
    "from sklearn.linear_model import LogisticRegression\n",
    "from sklearn.model_selection import train_test_split\n",
    "from sklearn.metrics import roc_curve\n",
    "from sklearn.metrics import roc_auc_score\n",
    "from matplotlib import pyplot"
   ]
  },
  {
   "cell_type": "code",
   "execution_count": 16,
   "metadata": {
    "ExecuteTime": {
     "start_time": "2023-04-08T10:09:01.028094Z",
     "end_time": "2023-04-08T10:09:01.032337Z"
    }
   },
   "outputs": [],
   "source": [
    "# generate 2 class dataset\n",
    "X, y = make_classification(n_samples=1000, n_classes=2, random_state=1)\n",
    "# split into train/test sets\n",
    "trainX, testX, trainy, testy = train_test_split(X, y, test_size=0.5, random_state=2)"
   ]
  },
  {
   "cell_type": "code",
   "execution_count": 17,
   "metadata": {
    "ExecuteTime": {
     "start_time": "2023-04-08T10:09:05.950827Z",
     "end_time": "2023-04-08T10:09:05.986502Z"
    }
   },
   "outputs": [],
   "source": [
    "# fit a model\n",
    "model = LogisticRegression(solver='lbfgs')\n",
    "model.fit(trainX, trainy)\n",
    "# predict probabilities\n",
    "lr_probs = model.predict_proba(testX)\n",
    "# keep probabilities for the positive outcome only\n",
    "lr_probs = lr_probs[:, 1]"
   ]
  },
  {
   "cell_type": "code",
   "execution_count": 19,
   "metadata": {
    "ExecuteTime": {
     "start_time": "2023-04-08T10:09:17.542432Z",
     "end_time": "2023-04-08T10:09:17.552397Z"
    }
   },
   "outputs": [
    {
     "name": "stdout",
     "output_type": "stream",
     "text": [
      "Logistic: ROC AUC=0.903\n"
     ]
    }
   ],
   "source": [
    "# calculate score\n",
    "lr_auc = roc_auc_score(testy, lr_probs)\n",
    "# summarize score\n",
    "print('Logistic: ROC AUC=%.3f' % (lr_auc))\n",
    "# calculate roc curve\n",
    "lr_fpr, lr_tpr = roc_curve(testy, lr_probs)"
   ]
  },
  {
   "cell_type": "code",
   "execution_count": 20,
   "metadata": {
    "ExecuteTime": {
     "start_time": "2023-04-08T10:09:18.419950Z",
     "end_time": "2023-04-08T10:09:18.521895Z"
    }
   },
   "outputs": [
    {
     "data": {
      "text/plain": "<Figure size 640x480 with 1 Axes>",
      "image/png": "[encoded data removed]"
     },
     "metadata": {},
     "output_type": "display_data"
    }
   ],
   "source": [
    "# plot the roc curve for the model\n",
    "pyplot.plot(lr_fpr, lr_tpr, marker='.', label='Logistic')\n",
    "# axis labels\n",
    "pyplot.xlabel('False Positive Rate')\n",
    "pyplot.ylabel('True Positive Rate')\n",
    "# show the legend\n",
    "pyplot.legend()\n",
    "# show the plot\n",
    "pyplot.show()"
   ]
  },
  {
   "cell_type": "markdown",
   "metadata": {},
   "source": [
    "# Homework"
   ]
  },
  {
   "cell_type": "markdown",
   "metadata": {},
   "source": [
    "implement roc_auc_score and roc_curve functions on your own"
   ]
  },
  {
   "cell_type": "code",
   "execution_count": 10,
   "outputs": [],
   "source": [
    "import numpy as np"
   ],
   "metadata": {
    "collapsed": false,
    "ExecuteTime": {
     "start_time": "2023-04-08T10:08:02.134543Z",
     "end_time": "2023-04-08T10:08:02.137336Z"
    }
   }
  },
  {
   "cell_type": "code",
   "execution_count": 18,
   "outputs": [],
   "source": [
    "def roc_auc_score(testy, lr_probs):\n",
    "    thresholds = np.sort(np.unique(lr_probs))[::-1]\n",
    "    n_pos = np.sum(testy)\n",
    "    n_neg = len(testy) - n_pos\n",
    "    tpr = []\n",
    "    fpr = []\n",
    "    for threshold in thresholds:\n",
    "        y_pred = lr_probs >= threshold\n",
    "        tp = np.sum(np.logical_and(y_pred, testy))\n",
    "        fp = np.sum(np.logical_and(y_pred, np.logical_not(testy)))\n",
    "        tpr.append(tp / n_pos)\n",
    "        fpr.append(fp / n_neg)\n",
    "\n",
    "    auc = np.trapz(tpr, fpr)\n",
    "    return auc\n",
    "\n",
    "def roc_curve(testy, lr_probs):\n",
    "    thresholds = np.sort(np.unique(lr_probs))[::-1]\n",
    "    n_pos = np.sum(testy)\n",
    "    n_neg = len(testy) - n_pos\n",
    "    tpr = []\n",
    "    fpr = []\n",
    "    for threshold in thresholds:\n",
    "        y_pred = lr_probs >= threshold\n",
    "        tp = np.sum(np.logical_and(y_pred, testy))\n",
    "        fp = np.sum(np.logical_and(y_pred, np.logical_not(testy)))\n",
    "        tpr.append(tp / n_pos)\n",
    "        fpr.append(fp / n_neg)\n",
    "\n",
    "    return fpr, tpr"
   ],
   "metadata": {
    "collapsed": false,
    "ExecuteTime": {
     "start_time": "2023-04-08T10:09:14.405091Z",
     "end_time": "2023-04-08T10:09:14.417431Z"
    }
   }
  }
 ],
 "metadata": {
  "kernelspec": {
   "display_name": "Python 3 (ipykernel)",
   "language": "python",
   "name": "python3"
  },
  "language_info": {
   "codemirror_mode": {
    "name": "ipython",
    "version": 3
   },
   "file_extension": ".py",
   "mimetype": "text/x-python",
   "name": "python",
   "nbconvert_exporter": "python",
   "pygments_lexer": "ipython3",
   "version": "3.9.12"
  }
 },
 "nbformat": 4,
 "nbformat_minor": 4
}
