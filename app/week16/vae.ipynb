{
 "cells": [
  {
   "cell_type": "markdown",
   "metadata": {
    "id": "kP3yX6BDehjA"
   },
   "source": [
    "# Variational Autoencoder (VAE)"
   ]
  },
  {
   "cell_type": "markdown",
   "metadata": {
    "id": "QxaH74T-ehjB"
   },
   "source": [
    "Useful links:\n",
    "* Original paper http://arxiv.org/abs/1312.6114\n",
    "* Helpful videos explaining the topic\n",
    "   * https://www.youtube.com/watch?v=P78QYjWh5sM     \n",
    "   * http://videolectures.net/deeplearning2015_courville_autoencoder_extension/?q=aaron%20courville"
   ]
  },
  {
   "cell_type": "markdown",
   "metadata": {
    "id": "LWjkHVgxehjB"
   },
   "source": [
    "In this homework we will train an autoencoder to model images of faces. For this we take \"Labeled Faces in the Wild\" dataset [http://vis-www.cs.umass.edu/lfw/](http://vis-www.cs.umass.edu/lfw/), deep funneled version of it. (frontal view of all faces)\n"
   ]
  },
  {
   "cell_type": "markdown",
   "metadata": {
    "id": "fyrmuZZaehjB"
   },
   "source": [
    "## Prepare the data"
   ]
  },
  {
   "cell_type": "code",
   "execution_count": null,
   "metadata": {
    "id": "RyhHVRMPehjC"
   },
   "outputs": [],
   "source": [
    "import os\n",
    "import numpy as np\n",
    "import tensorflow as tf\n",
    "import keras.layers as L\n",
    "import matplotlib.pyplot as plt\n",
    "%matplotlib inline"
   ]
  },
  {
   "cell_type": "code",
   "execution_count": null,
   "metadata": {
    "id": "UosSWiYdehjD"
   },
   "outputs": [],
   "source": [
    "# The following code fetches you two datasets: images, usable for autoencoder training and attributes.\n",
    "# Those attributes will be required for the final part of the assignment (applying smiles), so please keep them in mind\n",
    "from lfw_dataset import fetch_lfw_dataset\n",
    "\n",
    "data, attrs = fetch_lfw_dataset()"
   ]
  },
  {
   "cell_type": "code",
   "execution_count": null,
   "metadata": {
    "colab": {
     "base_uri": "https://localhost:8080/",
     "height": 386
    },
    "id": "hVhVOYKlehjD",
    "outputId": "9063a7ab-74f4-4e1e-aede-5c614d5757c2"
   },
   "outputs": [],
   "source": [
    "print(attrs.shape)\n",
    "print(data.shape)\n",
    "attrs.head()"
   ]
  },
  {
   "cell_type": "code",
   "execution_count": null,
   "metadata": {
    "colab": {
     "base_uri": "https://localhost:8080/"
    },
    "id": "M0Tg8yH3ehjD",
    "outputId": "3950ce8a-6c56-4526-c60e-07d310214c4a",
    "scrolled": true
   },
   "outputs": [],
   "source": [
    "X_train = data[:10000].reshape((10000, -1))\n",
    "print(X_train.shape)\n",
    "X_val = data[10000:].reshape((-1, X_train.shape[1]))\n",
    "print(X_val.shape)\n",
    "\n",
    "image_h = data.shape[1]\n",
    "image_w = data.shape[2]"
   ]
  },
  {
   "cell_type": "markdown",
   "metadata": {
    "id": "cbAsimsiehjD"
   },
   "source": [
    "For simplicity we want all values of the data to lie in the interval $[0,1]$:"
   ]
  },
  {
   "cell_type": "code",
   "execution_count": 1,
   "metadata": {
    "id": "iyPUfeVIehjD"
   },
   "outputs": [
    {
     "ename": "NameError",
     "evalue": "name 'np' is not defined",
     "output_type": "error",
     "traceback": [
      "\u001B[0;31m---------------------------------------------------------------------------\u001B[0m",
      "\u001B[0;31mNameError\u001B[0m                                 Traceback (most recent call last)",
      "Input \u001B[0;32mIn [1]\u001B[0m, in \u001B[0;36m<cell line: 1>\u001B[0;34m()\u001B[0m\n\u001B[0;32m----> 1\u001B[0m X_train \u001B[38;5;241m=\u001B[39m \u001B[43mnp\u001B[49m\u001B[38;5;241m.\u001B[39mfloat32(X_train)\n\u001B[1;32m      2\u001B[0m X_train \u001B[38;5;241m=\u001B[39m X_train\u001B[38;5;241m/\u001B[39m\u001B[38;5;241m255\u001B[39m\n\u001B[1;32m      3\u001B[0m X_val \u001B[38;5;241m=\u001B[39m np\u001B[38;5;241m.\u001B[39mfloat32(X_val)\n",
      "\u001B[0;31mNameError\u001B[0m: name 'np' is not defined"
     ]
    }
   ],
   "source": [
    "X_train = np.float32(X_train)\n",
    "X_train = X_train / 255\n",
    "X_val = np.float32(X_val)\n",
    "X_val = X_val / 255"
   ]
  },
  {
   "cell_type": "code",
   "execution_count": null,
   "metadata": {
    "id": "u8zBl_mTehjD"
   },
   "outputs": [],
   "source": [
    "def plot_gallery(images, h, w, n_row=3, n_col=6):\n",
    "    \"\"\"Helper function to plot a gallery of portraits\"\"\"\n",
    "    plt.figure(figsize=(1.5 * n_col, 1.7 * n_row))\n",
    "    plt.subplots_adjust(bottom=0, left=.01, right=.99, top=.90, hspace=.35)\n",
    "    for i in range(n_row * n_col):\n",
    "        plt.subplot(n_row, n_col, i + 1)\n",
    "        plt.imshow(images[i].reshape((h, w, 3)), cmap=plt.cm.gray, vmin=-1, vmax=1, interpolation='nearest')\n",
    "        plt.xticks(())\n",
    "        plt.yticks(())"
   ]
  },
  {
   "cell_type": "code",
   "execution_count": null,
   "metadata": {
    "colab": {
     "base_uri": "https://localhost:8080/",
     "height": 462
    },
    "id": "5zpXbA6aehjE",
    "outputId": "2e231947-2696-4500-9740-e4543c279011"
   },
   "outputs": [],
   "source": [
    "plot_gallery(X_train, image_h, image_w)"
   ]
  },
  {
   "cell_type": "markdown",
   "metadata": {
    "id": "78JkxQD_ehjE"
   },
   "source": [
    "# Autoencoder\n",
    "\n",
    "Why to use all this complicated formulaes and regularizations, what is the need for variational inference? To analyze the difference, let's first train just an autoencoder on the data:\n",
    "\n",
    "\n",
    "<img src=\"Autoencoder_structure.jpg\">"
   ]
  },
  {
   "cell_type": "code",
   "execution_count": null,
   "metadata": {
    "id": "Np8IGCcAehjE"
   },
   "outputs": [],
   "source": [
    "dimZ = 100  # Considering face reconstruction task, which size of representation seems reasonable?\n",
    "\n",
    "# You can define the decoder and encoder as networks with one hidden fc-layer\n",
    "# (that means you will have 2 fc layers in each net)\n",
    "# Use ReLU for hidden layers' activations\n",
    "# GlorotUniform initialization for W\n",
    "# Zero initialization for biases\n",
    "# It's also convenient to put sigmoid activation on output layer to get nice normalized pics\n",
    "\n",
    "# However, you can just have 1 fc layer in each network without any activation,\n",
    "# and it will also show some results\n",
    "\n",
    "vanila_encoder =\n",
    "vanila_decoder =\n",
    "\n",
    "model = tf.keras.Sequential()\n",
    "model.add(vanila_encoder)\n",
    "model.add(vanila_decoder)"
   ]
  },
  {
   "cell_type": "code",
   "execution_count": null,
   "metadata": {
    "id": "GqiSYw8VehjE"
   },
   "outputs": [],
   "source": [
    "class DisplayCallback(tf.keras.callbacks.Callback):\n",
    "    def __init__(self, model, rate):\n",
    "        super(DisplayCallback, self).__init__()\n",
    "        self.model = model\n",
    "        self.rate = rate\n",
    "\n",
    "    def on_epoch_end(self, epoch, logs=None):\n",
    "        model = self.model\n",
    "        if epoch % self.rate == 0:\n",
    "            idx = np.random.choice(X_train.shape[0])\n",
    "            plt.subplot(221)\n",
    "            plt.imshow(X_train[idx].reshape(\n",
    "                (image_h, image_w, 3)\n",
    "            ))\n",
    "            plt.subplot(222)\n",
    "            plt.imshow(tf.reshape(\n",
    "                model(X_train[tf.newaxis, idx]), (image_h, image_w, 3)\n",
    "            ))\n",
    "            idx = np.random.choice(X_val.shape[0])\n",
    "            plt.subplot(223)\n",
    "            plt.imshow(X_val[idx].reshape(\n",
    "                (image_h, image_w, 3)\n",
    "            ))\n",
    "            plt.subplot(224)\n",
    "            plt.imshow(tf.reshape(\n",
    "                model(X_val[tf.newaxis, idx]), (image_h, image_w, 3)\n",
    "            ))\n",
    "            plt.show()"
   ]
  },
  {
   "cell_type": "code",
   "execution_count": null,
   "metadata": {
    "id": "ew4YYI9FehjE"
   },
   "outputs": [],
   "source": [
    "# Create MSE loss function\n",
    "loss =\n",
    "# Use Adam optimizer\n",
    "opt = tf.keras.optimizers.Adam()\n",
    "model.compile()\n",
    "callback = DisplayCallback(model, 10)"
   ]
  },
  {
   "cell_type": "code",
   "execution_count": null,
   "metadata": {
    "colab": {
     "base_uri": "https://localhost:8080/",
     "height": 218
    },
    "id": "X9WBwC1zehjE",
    "outputId": "e0efc754-370c-466b-dec2-395c79cc6a28",
    "scrolled": true
   },
   "outputs": [],
   "source": [
    "# Train your autoencoder\n",
    "# Add validation data\n",
    "# Visualize progress in reconstruction and loss decay\n",
    "history = model.fit(\n",
    "    callbacks=[callback]\n",
    ")"
   ]
  },
  {
   "cell_type": "markdown",
   "metadata": {
    "id": "M93rDv_WtApP"
   },
   "source": [
    "Plot your loss values (also metrics, if you used them) for train and validation data"
   ]
  },
  {
   "cell_type": "code",
   "execution_count": null,
   "metadata": {
    "id": "htpaRt8GehjF",
    "scrolled": true
   },
   "outputs": [],
   "source": []
  },
  {
   "cell_type": "markdown",
   "metadata": {
    "id": "1GDl9tJ3ehjF"
   },
   "source": [
    "# Sampling"
   ]
  },
  {
   "cell_type": "markdown",
   "metadata": {
    "id": "MwwNSoArehjF"
   },
   "source": [
    "Let's now sample several latent vectors and perform inference from $z$, reconstruct an image given some random $z$ representations."
   ]
  },
  {
   "cell_type": "code",
   "execution_count": null,
   "metadata": {
    "id": "IpWUebNvehjF",
    "scrolled": true
   },
   "outputs": [],
   "source": [
    "z =\n",
    "output = vanila_decoder(z).numpy()\n",
    "plot_gallery(output, image_h, image_w, n_row=5, n_col=5)"
   ]
  },
  {
   "cell_type": "markdown",
   "metadata": {
    "id": "Zq76eGNHehjF"
   },
   "source": [
    "# Homework: Variational Autoencoder"
   ]
  },
  {
   "cell_type": "markdown",
   "metadata": {
    "id": "LNTu2-1pehjF"
   },
   "source": [
    "Bayesian approach in deep learning considers everything in terms of distributions. Now our encoder generates not just a vector $z$ but posterior ditribution $q(z|x)$. In our case distribution $q$ is Gaussian distibution $N(\\mu, \\sigma)$ with parameters $\\mu$, $\\sigma$. Technically, the first difference is that you need to split bottleneck layer in two. One dense layer will generate vector $\\mu$, and another will generate vector $\\sigma$. Reparametrization trick should be implemented using the **gaussian_sampler**, that generates random vetor $\\epsilon$ and returns $\\mu+\\sigma\\epsilon \\sim N(\\mu, \\sigma)$ ."
   ]
  },
  {
   "cell_type": "markdown",
   "metadata": {
    "id": "WPA94bP2ehjF"
   },
   "source": [
    "Since our decoder is also a function that generates distribution, we need to do the same splitting for output layer. When testing the model we will look only on mean values, so one of the output will be actual autoencoder output."
   ]
  },
  {
   "cell_type": "markdown",
   "metadata": {
    "id": "3aClwSFXehjF"
   },
   "source": [
    "In this homework we only ask for implementation of the simplest version of VAE - one $z$ sample per input. You can consider to sample several outputs from one input and average them."
   ]
  },
  {
   "cell_type": "code",
   "execution_count": null,
   "metadata": {
    "id": "9VFrffy0ehjF"
   },
   "outputs": [],
   "source": [
    "# to compare with conventional AE, keep these hyperparameters\n",
    "# or change them for the values that you used before\n",
    "dimZ = 100\n",
    "\n",
    "# define the network\n",
    "# you can start from pytorch example https://github.com/pytorch/examples/blob/master/vae/main.py\n",
    "# or Theano-based examples here https://github.com/Lasagne/Recipes/blob/master/examples/variational_autoencoder/variational_autoencoder.py\n",
    "# and here https://github.com/y0ast/Variational-Autoencoder/blob/master/VAE.py\n",
    "# but remember that this is not your ground truth since the data is not MNIST\n",
    "\n",
    "encoder = tf.keras.Model(, [])  # output should be mean, variance and a sample\n",
    "\n",
    "decoder = tf.keras.Model(, )"
   ]
  },
  {
   "cell_type": "markdown",
   "metadata": {
    "id": "_OIuEtwqehjG"
   },
   "source": [
    "And the last, but not least! Place in the code where the most of the formulaes goes to - optimization objective. The objective for VAE has it's own name - variational lowerbound. And as for any lowerbound our intention is to maximize it. Here it is (for one sample $z$ per input $x$):\n",
    "\n",
    "$$\\mathcal{L} = -D_{KL}(q_{\\phi}(z|x)||p_{\\theta}(z)) + \\log p_{\\theta}(x|z)$$\n",
    "\n",
    "Your next task is to implement two functions that compute KL-divergence and the second term - log-likelihood of an output. Here is some necessary math for your convenience:\n",
    "\n",
    "$$D_{KL} = -\\frac{1}{2}\\sum_{i=1}^{dimZ}(1+log(\\sigma_i^2)-\\mu_i^2-\\sigma_i^2)$$\n",
    "$$\\log p_{\\theta}(x|z) = \\sum_{i=1}^{dimX}\\log p_{\\theta}(x_i|z)=\\sum_{i=1}^{dimX} \\log \\Big( \\frac{1}{\\sigma_i\\sqrt{2\\pi}}e^{-\\frac{(\\mu_I-x)^2}{2\\sigma_i^2}} \\Big)=...$$"
   ]
  },
  {
   "cell_type": "code",
   "execution_count": null,
   "metadata": {
    "id": "TybTtPzdehjG"
   },
   "outputs": [],
   "source": [
    "class VAE(tf.keras.Model):\n",
    "    def __init__(self, encoder, decoder, **kwargs):\n",
    "        super(VAE, self).__init__(**kwargs)\n",
    "        self.encoder = encoder\n",
    "        self.decoder = decoder\n",
    "\n",
    "    @tf.function\n",
    "    def KL_divergence(self, mu, logsigma):\n",
    "        pass\n",
    "\n",
    "    @tf.function\n",
    "    def log_likelihood(self, x, z):\n",
    "        pass\n",
    "\n",
    "    def train_step(self, data):\n",
    "        pass\n",
    "\n",
    "    def call(self, inputs):\n",
    "        pass"
   ]
  },
  {
   "cell_type": "code",
   "execution_count": null,
   "metadata": {
    "id": "niaDztQFehjG"
   },
   "outputs": [],
   "source": [
    "vae = VAE(encoder, decoder)\n",
    "vae.compile(optimizer=tf.keras.optimizers.Adam())"
   ]
  },
  {
   "cell_type": "markdown",
   "metadata": {
    "id": "RTe5lwDJehjG"
   },
   "source": [
    "And train the model:"
   ]
  },
  {
   "cell_type": "code",
   "execution_count": null,
   "metadata": {
    "id": "dCnwR9xuehjG"
   },
   "outputs": [],
   "source": [
    "history = vae.fit(\n",
    ")"
   ]
  },
  {
   "cell_type": "markdown",
   "metadata": {
    "id": "MtxgW0dBv1hJ"
   },
   "source": [
    "Plot the learning curves"
   ]
  },
  {
   "cell_type": "code",
   "execution_count": null,
   "metadata": {},
   "outputs": [],
   "source": []
  },
  {
   "cell_type": "markdown",
   "metadata": {
    "id": "_U1qSnc_ehjG"
   },
   "source": [
    "And finally sample from VAE."
   ]
  },
  {
   "cell_type": "code",
   "execution_count": null,
   "metadata": {
    "id": "oPbMSMFiehjG"
   },
   "outputs": [],
   "source": [
    "# TODO\n",
    "# Sample some images from the learned distribution\n",
    "# 1) Sample z ~ N(0,1)\n",
    "# 2) Sample from N(decoder_mu(z), decoder_sigma(z))"
   ]
  },
  {
   "cell_type": "markdown",
   "metadata": {
    "id": "LqYqQa7FehjH"
   },
   "source": [
    "In VAE you can truly sample from image distribution $p(x)$, while in AE there is no easy and correct way to do it."
   ]
  },
  {
   "cell_type": "markdown",
   "metadata": {
    "id": "czf9G3FKehjH"
   },
   "source": [
    "# Bonus\n",
    "\n",
    "If you managed to tune your autoencoders to converge and learn something about the world, now it's time to make fun out of it. As you may have noticed, there are face attributes in dataset. We're interesting in \"Smiling\" column, but feel free to try others as well! Here is the first task:\n",
    "\n",
    "1) Extract the \"Smilling\" attribute and create a two sets of images: 10 smiling faces and 10 non-smiling ones.\n",
    "\n",
    "2) Compute latent representations for each image in \"smiling\" set and average those latent vectors. Do the same for \"non-smiling\" set. You have found **\"vector representation\"** of the \"smile\" and \"no smile\" attribute.\n",
    "\n",
    "3) Compute the difference: \"smile\" vector minus \"non-smile\" vector.\n",
    "\n",
    "4) Now check if **\"feature arithmetics\"** works. Sample a face without smile, encode it and add the diff from p. 3. Check if it works with both AE and VAE."
   ]
  },
  {
   "cell_type": "code",
   "execution_count": null,
   "metadata": {
    "id": "ol9pz-imehjI"
   },
   "outputs": [],
   "source": [
    "# your code here"
   ]
  }
 ],
 "metadata": {
  "colab": {
   "provenance": []
  },
  "kernelspec": {
   "display_name": "Python 3 (ipykernel)",
   "language": "python",
   "name": "python3"
  },
  "language_info": {
   "codemirror_mode": {
    "name": "ipython",
    "version": 3
   },
   "file_extension": ".py",
   "mimetype": "text/x-python",
   "name": "python",
   "nbconvert_exporter": "python",
   "pygments_lexer": "ipython3",
   "version": "3.9.12"
  },
  "toc": {
   "nav_menu": {},
   "number_sections": true,
   "sideBar": true,
   "skip_h1_title": false,
   "title_cell": "Table of Contents",
   "title_sidebar": "Contents",
   "toc_cell": false,
   "toc_position": {},
   "toc_section_display": true,
   "toc_window_display": false
  }
 },
 "nbformat": 4,
 "nbformat_minor": 1
}
